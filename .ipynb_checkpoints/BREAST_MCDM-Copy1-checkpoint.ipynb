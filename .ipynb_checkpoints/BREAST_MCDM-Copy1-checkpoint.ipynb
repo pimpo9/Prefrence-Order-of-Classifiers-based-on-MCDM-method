{
 "cells": [
  {
   "cell_type": "code",
   "execution_count": 1,
   "metadata": {},
   "outputs": [],
   "source": [
    "import mcdm\n",
    "import numpy as np\n",
    "from pymcdm.methods import TOPSIS\n",
    "from pymcdm.methods import VIKOR\n",
    "from pymcdm.methods import PROMETHEE_II\n",
    "from pymcdm.helpers import rrankdata\n",
    "from pymcdm import weights as mcdm_weights"
   ]
  },
  {
   "cell_type": "code",
   "execution_count": 2,
   "metadata": {},
   "outputs": [
    {
     "name": "stdout",
     "output_type": "stream",
     "text": [
      "+----------------------+---------+-----------+--------+----------+----+----+-------------+--------------+--------------+\n",
      "|                      | ACURACY | PRECISION | RECALL | F1-SCORE | TP | TN | SPECIFICITY | HAMMING LOSS | ENTROPY LOSS |\n",
      "+----------------------+---------+-----------+--------+----------+----+----+-------------+--------------+--------------+\n",
      "| LOGISTIC REGRESSION  |   0.95  |    0.95   |  0.95  |   0.95   | 71 | 37 |    0.925    | 0.052631579  | 4.763969158  |\n",
      "|    DECISION TREE     |   0.95  |    0.95   |  0.95  |   0.95   | 70 | 38 |     0.95    | 0.052631579  | 4.763969158  |\n",
      "| GAUSSIAN NAIVE BAYES |   0.94  |    0.94   |  0.94  |   0.94   | 72 | 35 |    0.875    | 0.061403509  | 4.763969158  |\n",
      "|         SVM          |   0.44  |    0.42   |  0.44  |   0.43   | 44 | 6  |     0.15    | 0.561403509  | 4.763969158  |\n",
      "|    NEURAL NETWORK    |   0.35  |    0.12   |  0.35  |   0.18   | 0  | 40 |      1      | 0.649122807  | 4.763969158  |\n",
      "|    RANDOM FOREST     |   0.98  |    0.98   |  0.98  |   0.98   | 72 | 40 |      1      |  0.01754386  | 4.763969158  |\n",
      "|     LINEAR MODEL     |   0.88  |    0.89   |  0.88  |   0.87   | 73 | 27 |    0.675    | 0.122807018  | 4.241695301  |\n",
      "+----------------------+---------+-----------+--------+----------+----+----+-------------+--------------+--------------+\n"
     ]
    }
   ],
   "source": [
    "from prettytable import from_csv\n",
    "with open(\"breast_perform.tsv\") as fp:\n",
    "    mytable = from_csv(fp)\n",
    "print(mytable)"
   ]
  },
  {
   "cell_type": "code",
   "execution_count": 3,
   "metadata": {},
   "outputs": [],
   "source": [
    "x_matrix, alt_names = mcdm.load(\"breast_perform.tsv\", delimiter=\"\\t\", skiprows=1, labeled_rows=True)\n",
    "alts = np.array(x_matrix, dtype='float')\n",
    "weight = [0.10909090908971901,0.16363636363821488, 0.18181818182165294,0.12727272727352062,0.14545454545314052,0.0363636363625124,0.0727272727239339,0.0545454545446777,0.09090909091046283,0.018181818182165292]\n",
    "weights=np.array(weight)\n",
    "types = np.array([1,1,1,1,1,-1,-1,1,-1,-1])"
   ]
  },
  {
   "cell_type": "code",
   "execution_count": 5,
   "metadata": {},
   "outputs": [
    {
     "name": "stdout",
     "output_type": "stream",
     "text": [
      "4.0 0.7255210885414309\n",
      "3.0 0.7274071634346303\n",
      "5.0 0.7177270729179086\n",
      "7.0 0.24259156684635083\n",
      "6.0 0.34833147735478825\n",
      "2.0 0.7384491365109666\n",
      "1.0 0.8001474514761382\n"
     ]
    }
   ],
   "source": [
    "topsis = TOPSIS()\n",
    "# Determine preferences and ranking for alternatives\n",
    "pref1 = topsis(alts, weights, types)\n",
    "ranking1= rrankdata(pref1)\n",
    "\n",
    "for r, p in zip(ranking1, pref1):\n",
    "    print(r, p)\n"
   ]
  },
  {
   "cell_type": "code",
   "execution_count": 7,
   "metadata": {},
   "outputs": [
    {
     "name": "stdout",
     "output_type": "stream",
     "text": [
      "4.0 0.5328176761173415\n",
      "5.0 0.5292349821595699\n",
      "3.0 0.5466094912651394\n",
      "1.0 1.0\n",
      "2.0 0.9752827395051057\n",
      "6.0 0.5\n",
      "7.0 0.037894101572209266\n"
     ]
    }
   ],
   "source": [
    "vikor= VIKOR()\n",
    "pref2 = vikor(alts, weights, types)\n",
    "ranking2= rrankdata(pref2)\n",
    "\n",
    "for r, p in zip(ranking2, pref2):\n",
    "    print(r, p)"
   ]
  },
  {
   "cell_type": "code",
   "execution_count": 8,
   "metadata": {},
   "outputs": [
    {
     "name": "stdout",
     "output_type": "stream",
     "text": [
      "3.0 0.25925925925925924\n",
      "2.0 0.2962962962962964\n",
      "4.0 -0.03703703703703709\n",
      "7.0 -0.6851851851851852\n",
      "6.0 -0.5\n",
      "1.0 0.7777777777777779\n",
      "5.0 -0.11111111111111122\n"
     ]
    }
   ],
   "source": [
    "promethe=PROMETHEE_II('usual')\n",
    "p = np.random.rand(x_matrix.shape[1]) / 2\n",
    "q = np.random.rand(x_matrix.shape[1]) / 2 + 0.5\n",
    "pref3 = promethe(alts, weights, types,p=p,q=q)\n",
    "ranking3 = rrankdata(pref3)\n",
    "\n",
    "for r, p in zip(ranking3, pref3):\n",
    "    print(r, p)"
   ]
  },
  {
   "cell_type": "code",
   "execution_count": 9,
   "metadata": {},
   "outputs": [
    {
     "name": "stdout",
     "output_type": "stream",
     "text": [
      "#########################BREAST DATASET#######################\n",
      "+----------------------+--------+---------------------+-------+----------------------+-----------+----------------------+\n",
      "|        Model         | TOPSIS |        Value        | VIKOR |        VALUES        | PROMETHEE |        VALUES        |\n",
      "+----------------------+--------+---------------------+-------+----------------------+-----------+----------------------+\n",
      "| LOGISTIC REGRESSION  |  4.0   |  0.7255210885414309 |  4.0  |  0.5328176761173415  |    3.0    | 0.25925925925925924  |\n",
      "|    DECISION TREE     |  3.0   |  0.7274071634346303 |  5.0  |  0.5292349821595699  |    2.0    |  0.2962962962962964  |\n",
      "| GAUSSIAN NAIVE BAYES |  5.0   |  0.7177270729179086 |  3.0  |  0.5466094912651394  |    4.0    | -0.03703703703703709 |\n",
      "|         SVM          |  7.0   | 0.24259156684635083 |  1.0  |         1.0          |    7.0    | -0.6851851851851852  |\n",
      "|    NEURAL NETWORK    |  6.0   | 0.34833147735478825 |  2.0  |  0.9752827395051057  |    6.0    |         -0.5         |\n",
      "|    RANDOM FOREST     |  2.0   |  0.7384491365109666 |  6.0  |         0.5          |    1.0    |  0.7777777777777779  |\n",
      "|     LINEAR MODEL     |  1.0   |  0.8001474514761382 |  7.0  | 0.037894101572209266 |    5.0    | -0.11111111111111122 |\n",
      "+----------------------+--------+---------------------+-------+----------------------+-----------+----------------------+\n"
     ]
    }
   ],
   "source": [
    "from prettytable import PrettyTable\n",
    "print(\"#########################BREAST DATASET#######################\")\n",
    "columns = [\"Model\", \"TOPSIS\",\"Value\",\"VIKOR\",\"VALUES\",\"PROMETHEE\",\"VALUES\"]\n",
    "Table = PrettyTable()\n",
    "Table.add_column(columns[0], [\"LOGISTIC REGRESSION \", \"DECISION TREE\", \"GAUSSIAN NAIVE BAYES\",\n",
    "                       \"SVM \", \"NEURAL NETWORK\", \"RANDOM FOREST \", \"LINEAR MODEL\"])\n",
    "Table.add_column(columns[1], ranking1)\n",
    "Table.add_column(columns[2], pref1)\n",
    "Table.add_column(columns[3], ranking2)\n",
    "Table.add_column(columns[4], pref2)\n",
    "Table.add_column(columns[5], ranking3)\n",
    "Table.add_column(columns[6], pref3)\n",
    "\n",
    "print(Table)"
   ]
  },
  {
   "cell_type": "code",
   "execution_count": null,
   "metadata": {},
   "outputs": [],
   "source": []
  }
 ],
 "metadata": {
  "kernelspec": {
   "display_name": "Python 3",
   "language": "python",
   "name": "python3"
  },
  "language_info": {
   "codemirror_mode": {
    "name": "ipython",
    "version": 3
   },
   "file_extension": ".py",
   "mimetype": "text/x-python",
   "name": "python",
   "nbconvert_exporter": "python",
   "pygments_lexer": "ipython3",
   "version": "3.7.4"
  }
 },
 "nbformat": 4,
 "nbformat_minor": 2
}
