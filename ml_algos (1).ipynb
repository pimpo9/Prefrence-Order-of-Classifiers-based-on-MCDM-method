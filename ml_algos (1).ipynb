{
  "nbformat": 4,
  "nbformat_minor": 0,
  "metadata": {
    "kernelspec": {
      "display_name": "Python 3",
      "language": "python",
      "name": "python3"
    },
    "language_info": {
      "codemirror_mode": {
        "name": "ipython",
        "version": 3
      },
      "file_extension": ".py",
      "mimetype": "text/x-python",
      "name": "python",
      "nbconvert_exporter": "python",
      "pygments_lexer": "ipython3",
      "version": "3.7.4"
    },
    "colab": {
      "name": "ml_algos.ipynb",
      "provenance": [],
      "collapsed_sections": [],
      "toc_visible": true
    }
  },
  "cells": [
    {
      "cell_type": "code",
      "metadata": {
        "id": "7wwREyQnErAe"
      },
      "source": [
        "import pandas as pd\n",
        "import numpy as np\n",
        "import matplotlib.pyplot as plt \n",
        "import seaborn as sns\n",
        "plt.rc(\"font\", size=14)\n",
        "%matplotlib inline"
      ],
      "execution_count": 643,
      "outputs": []
    },
    {
      "cell_type": "markdown",
      "metadata": {
        "id": "lAQm-5qkErAw"
      },
      "source": [
        "# 1.HEPATITIS"
      ]
    },
    {
      "cell_type": "code",
      "metadata": {
        "colab": {
          "base_uri": "https://localhost:8080/",
          "height": 204
        },
        "id": "Q3Tml8_kErAx",
        "outputId": "dd646ddd-96e9-469f-9a64-9aebe28cc2c2"
      },
      "source": [
        "df = pd.read_csv('HEPATITIS_TRAIN.csv')\n",
        "df.head()"
      ],
      "execution_count": 644,
      "outputs": [
        {
          "output_type": "execute_result",
          "data": {
            "text/html": [
              "<div>\n",
              "<style scoped>\n",
              "    .dataframe tbody tr th:only-of-type {\n",
              "        vertical-align: middle;\n",
              "    }\n",
              "\n",
              "    .dataframe tbody tr th {\n",
              "        vertical-align: top;\n",
              "    }\n",
              "\n",
              "    .dataframe thead th {\n",
              "        text-align: right;\n",
              "    }\n",
              "</style>\n",
              "<table border=\"1\" class=\"dataframe\">\n",
              "  <thead>\n",
              "    <tr style=\"text-align: right;\">\n",
              "      <th></th>\n",
              "      <th>age</th>\n",
              "      <th>sex</th>\n",
              "      <th>steroid</th>\n",
              "      <th>antivirals</th>\n",
              "      <th>fatigue</th>\n",
              "      <th>malaise</th>\n",
              "      <th>anorexia</th>\n",
              "      <th>liver_big</th>\n",
              "      <th>liver_firm</th>\n",
              "      <th>spleen_palable</th>\n",
              "      <th>spiders</th>\n",
              "      <th>ascites</th>\n",
              "      <th>varices</th>\n",
              "      <th>bilirubin</th>\n",
              "      <th>alk_phosphate</th>\n",
              "      <th>sgot</th>\n",
              "      <th>albumin</th>\n",
              "      <th>protime</th>\n",
              "      <th>histology</th>\n",
              "      <th>Class</th>\n",
              "    </tr>\n",
              "  </thead>\n",
              "  <tbody>\n",
              "    <tr>\n",
              "      <th>0</th>\n",
              "      <td>28</td>\n",
              "      <td>1</td>\n",
              "      <td>1</td>\n",
              "      <td>2</td>\n",
              "      <td>1</td>\n",
              "      <td>1</td>\n",
              "      <td>1</td>\n",
              "      <td>2</td>\n",
              "      <td>1</td>\n",
              "      <td>2</td>\n",
              "      <td>2</td>\n",
              "      <td>2</td>\n",
              "      <td>2</td>\n",
              "      <td>1.6</td>\n",
              "      <td>44</td>\n",
              "      <td>123</td>\n",
              "      <td>4.00</td>\n",
              "      <td>46</td>\n",
              "      <td>1</td>\n",
              "      <td>0</td>\n",
              "    </tr>\n",
              "    <tr>\n",
              "      <th>1</th>\n",
              "      <td>47</td>\n",
              "      <td>2</td>\n",
              "      <td>2</td>\n",
              "      <td>2</td>\n",
              "      <td>1</td>\n",
              "      <td>1</td>\n",
              "      <td>2</td>\n",
              "      <td>2</td>\n",
              "      <td>1</td>\n",
              "      <td>2</td>\n",
              "      <td>1</td>\n",
              "      <td>1</td>\n",
              "      <td>1</td>\n",
              "      <td>1.0</td>\n",
              "      <td>166</td>\n",
              "      <td>30</td>\n",
              "      <td>2.60</td>\n",
              "      <td>31</td>\n",
              "      <td>2</td>\n",
              "      <td>1</td>\n",
              "    </tr>\n",
              "    <tr>\n",
              "      <th>2</th>\n",
              "      <td>38</td>\n",
              "      <td>1</td>\n",
              "      <td>1</td>\n",
              "      <td>1</td>\n",
              "      <td>2</td>\n",
              "      <td>2</td>\n",
              "      <td>2</td>\n",
              "      <td>1</td>\n",
              "      <td>1</td>\n",
              "      <td>2</td>\n",
              "      <td>2</td>\n",
              "      <td>2</td>\n",
              "      <td>2</td>\n",
              "      <td>0.7</td>\n",
              "      <td>70</td>\n",
              "      <td>28</td>\n",
              "      <td>4.20</td>\n",
              "      <td>62</td>\n",
              "      <td>1</td>\n",
              "      <td>0</td>\n",
              "    </tr>\n",
              "    <tr>\n",
              "      <th>3</th>\n",
              "      <td>32</td>\n",
              "      <td>1</td>\n",
              "      <td>2</td>\n",
              "      <td>2</td>\n",
              "      <td>2</td>\n",
              "      <td>2</td>\n",
              "      <td>2</td>\n",
              "      <td>2</td>\n",
              "      <td>2</td>\n",
              "      <td>2</td>\n",
              "      <td>2</td>\n",
              "      <td>2</td>\n",
              "      <td>2</td>\n",
              "      <td>0.7</td>\n",
              "      <td>102</td>\n",
              "      <td>64</td>\n",
              "      <td>4.00</td>\n",
              "      <td>90</td>\n",
              "      <td>1</td>\n",
              "      <td>0</td>\n",
              "    </tr>\n",
              "    <tr>\n",
              "      <th>4</th>\n",
              "      <td>44</td>\n",
              "      <td>1</td>\n",
              "      <td>1</td>\n",
              "      <td>2</td>\n",
              "      <td>1</td>\n",
              "      <td>1</td>\n",
              "      <td>2</td>\n",
              "      <td>2</td>\n",
              "      <td>2</td>\n",
              "      <td>1</td>\n",
              "      <td>2</td>\n",
              "      <td>2</td>\n",
              "      <td>1</td>\n",
              "      <td>0.9</td>\n",
              "      <td>135</td>\n",
              "      <td>55</td>\n",
              "      <td>3.81</td>\n",
              "      <td>41</td>\n",
              "      <td>2</td>\n",
              "      <td>1</td>\n",
              "    </tr>\n",
              "  </tbody>\n",
              "</table>\n",
              "</div>"
            ],
            "text/plain": [
              "   age  sex  steroid  antivirals  ...  albumin  protime  histology  Class\n",
              "0   28    1        1           2  ...     4.00       46          1      0\n",
              "1   47    2        2           2  ...     2.60       31          2      1\n",
              "2   38    1        1           1  ...     4.20       62          1      0\n",
              "3   32    1        2           2  ...     4.00       90          1      0\n",
              "4   44    1        1           2  ...     3.81       41          2      1\n",
              "\n",
              "[5 rows x 20 columns]"
            ]
          },
          "metadata": {
            "tags": []
          },
          "execution_count": 644
        }
      ]
    },
    {
      "cell_type": "code",
      "metadata": {
        "colab": {
          "base_uri": "https://localhost:8080/"
        },
        "id": "AWrqcSM9ErBL",
        "outputId": "57046d71-dbc1-4318-8104-1c4bd3eeb100"
      },
      "source": [
        "df.shape"
      ],
      "execution_count": 645,
      "outputs": [
        {
          "output_type": "execute_result",
          "data": {
            "text/plain": [
              "(113, 20)"
            ]
          },
          "metadata": {
            "tags": []
          },
          "execution_count": 645
        }
      ]
    },
    {
      "cell_type": "code",
      "metadata": {
        "colab": {
          "base_uri": "https://localhost:8080/",
          "height": 204
        },
        "id": "qm5rNH2RErBN",
        "outputId": "ac86ec82-a479-46da-983a-ebf10fe7e7ad"
      },
      "source": [
        "test_data = pd.read_csv('HEPATITIS_TEST.csv')\n",
        "test_data.head()"
      ],
      "execution_count": 646,
      "outputs": [
        {
          "output_type": "execute_result",
          "data": {
            "text/html": [
              "<div>\n",
              "<style scoped>\n",
              "    .dataframe tbody tr th:only-of-type {\n",
              "        vertical-align: middle;\n",
              "    }\n",
              "\n",
              "    .dataframe tbody tr th {\n",
              "        vertical-align: top;\n",
              "    }\n",
              "\n",
              "    .dataframe thead th {\n",
              "        text-align: right;\n",
              "    }\n",
              "</style>\n",
              "<table border=\"1\" class=\"dataframe\">\n",
              "  <thead>\n",
              "    <tr style=\"text-align: right;\">\n",
              "      <th></th>\n",
              "      <th>age</th>\n",
              "      <th>sex</th>\n",
              "      <th>steroid</th>\n",
              "      <th>antivirals</th>\n",
              "      <th>fatigue</th>\n",
              "      <th>malaise</th>\n",
              "      <th>anorexia</th>\n",
              "      <th>liver_big</th>\n",
              "      <th>liver_firm</th>\n",
              "      <th>spleen_palable</th>\n",
              "      <th>spiders</th>\n",
              "      <th>ascites</th>\n",
              "      <th>varices</th>\n",
              "      <th>bilirubin</th>\n",
              "      <th>alk_phosphate</th>\n",
              "      <th>sgot</th>\n",
              "      <th>albumin</th>\n",
              "      <th>protime</th>\n",
              "      <th>histology</th>\n",
              "      <th>Class</th>\n",
              "    </tr>\n",
              "  </thead>\n",
              "  <tbody>\n",
              "    <tr>\n",
              "      <th>0</th>\n",
              "      <td>51</td>\n",
              "      <td>1</td>\n",
              "      <td>2</td>\n",
              "      <td>2</td>\n",
              "      <td>1</td>\n",
              "      <td>2</td>\n",
              "      <td>2</td>\n",
              "      <td>2</td>\n",
              "      <td>2</td>\n",
              "      <td>1</td>\n",
              "      <td>1</td>\n",
              "      <td>2</td>\n",
              "      <td>1</td>\n",
              "      <td>1.0</td>\n",
              "      <td>105</td>\n",
              "      <td>20</td>\n",
              "      <td>3.0</td>\n",
              "      <td>63</td>\n",
              "      <td>2</td>\n",
              "      <td>0</td>\n",
              "    </tr>\n",
              "    <tr>\n",
              "      <th>1</th>\n",
              "      <td>57</td>\n",
              "      <td>1</td>\n",
              "      <td>2</td>\n",
              "      <td>2</td>\n",
              "      <td>1</td>\n",
              "      <td>1</td>\n",
              "      <td>1</td>\n",
              "      <td>2</td>\n",
              "      <td>2</td>\n",
              "      <td>2</td>\n",
              "      <td>1</td>\n",
              "      <td>1</td>\n",
              "      <td>2</td>\n",
              "      <td>4.1</td>\n",
              "      <td>105</td>\n",
              "      <td>48</td>\n",
              "      <td>2.6</td>\n",
              "      <td>73</td>\n",
              "      <td>1</td>\n",
              "      <td>1</td>\n",
              "    </tr>\n",
              "    <tr>\n",
              "      <th>2</th>\n",
              "      <td>44</td>\n",
              "      <td>1</td>\n",
              "      <td>1</td>\n",
              "      <td>2</td>\n",
              "      <td>1</td>\n",
              "      <td>1</td>\n",
              "      <td>2</td>\n",
              "      <td>1</td>\n",
              "      <td>1</td>\n",
              "      <td>2</td>\n",
              "      <td>1</td>\n",
              "      <td>2</td>\n",
              "      <td>2</td>\n",
              "      <td>3.0</td>\n",
              "      <td>114</td>\n",
              "      <td>65</td>\n",
              "      <td>3.5</td>\n",
              "      <td>61</td>\n",
              "      <td>2</td>\n",
              "      <td>0</td>\n",
              "    </tr>\n",
              "    <tr>\n",
              "      <th>3</th>\n",
              "      <td>57</td>\n",
              "      <td>1</td>\n",
              "      <td>1</td>\n",
              "      <td>2</td>\n",
              "      <td>1</td>\n",
              "      <td>1</td>\n",
              "      <td>2</td>\n",
              "      <td>2</td>\n",
              "      <td>2</td>\n",
              "      <td>2</td>\n",
              "      <td>1</td>\n",
              "      <td>1</td>\n",
              "      <td>2</td>\n",
              "      <td>4.6</td>\n",
              "      <td>82</td>\n",
              "      <td>55</td>\n",
              "      <td>3.3</td>\n",
              "      <td>30</td>\n",
              "      <td>2</td>\n",
              "      <td>1</td>\n",
              "    </tr>\n",
              "    <tr>\n",
              "      <th>4</th>\n",
              "      <td>45</td>\n",
              "      <td>1</td>\n",
              "      <td>2</td>\n",
              "      <td>1</td>\n",
              "      <td>2</td>\n",
              "      <td>2</td>\n",
              "      <td>2</td>\n",
              "      <td>2</td>\n",
              "      <td>2</td>\n",
              "      <td>2</td>\n",
              "      <td>2</td>\n",
              "      <td>2</td>\n",
              "      <td>2</td>\n",
              "      <td>1.3</td>\n",
              "      <td>85</td>\n",
              "      <td>44</td>\n",
              "      <td>4.2</td>\n",
              "      <td>85</td>\n",
              "      <td>2</td>\n",
              "      <td>0</td>\n",
              "    </tr>\n",
              "  </tbody>\n",
              "</table>\n",
              "</div>"
            ],
            "text/plain": [
              "   age  sex  steroid  antivirals  ...  albumin  protime  histology  Class\n",
              "0   51    1        2           2  ...      3.0       63          2      0\n",
              "1   57    1        2           2  ...      2.6       73          1      1\n",
              "2   44    1        1           2  ...      3.5       61          2      0\n",
              "3   57    1        1           2  ...      3.3       30          2      1\n",
              "4   45    1        2           1  ...      4.2       85          2      0\n",
              "\n",
              "[5 rows x 20 columns]"
            ]
          },
          "metadata": {
            "tags": []
          },
          "execution_count": 646
        }
      ]
    },
    {
      "cell_type": "code",
      "metadata": {
        "colab": {
          "base_uri": "https://localhost:8080/"
        },
        "id": "UECwJ6Z2ErBO",
        "outputId": "074e4096-f18c-45ba-90b0-19b51381f3cc"
      },
      "source": [
        "test_data.shape"
      ],
      "execution_count": 647,
      "outputs": [
        {
          "output_type": "execute_result",
          "data": {
            "text/plain": [
              "(29, 20)"
            ]
          },
          "metadata": {
            "tags": []
          },
          "execution_count": 647
        }
      ]
    },
    {
      "cell_type": "code",
      "metadata": {
        "id": "qcJdX8nJErBS"
      },
      "source": [
        "X_train = df.drop('Class',axis=1)\n",
        "Y_train = df['Class']\n",
        "X_test = test_data.drop('Class', axis=1)\n",
        "Y_test = test_data['Class']"
      ],
      "execution_count": 648,
      "outputs": []
    },
    {
      "cell_type": "markdown",
      "metadata": {
        "id": "uHk1P20jErBU"
      },
      "source": [
        "# LOGISTIC REGRESSION"
      ]
    },
    {
      "cell_type": "code",
      "metadata": {
        "colab": {
          "base_uri": "https://localhost:8080/"
        },
        "id": "Eq8dimKJErBW",
        "outputId": "c0ad73f5-c979-4c4f-9dbb-33025f7c2526"
      },
      "source": [
        "from sklearn.linear_model import LogisticRegression\n",
        "from sklearn import metrics\n",
        "from sklearn.metrics import classification_report\n",
        "from sklearn.metrics import confusion_matrix\n",
        "from sklearn.model_selection import train_test_split\n",
        "logreg = LogisticRegression()\n",
        "logreg.fit(X_train,Y_train)\n",
        "predicted = logreg.predict(X_test)\n",
        "print('Accuracy of logistic regression classifier on test set: {:.2f}'.format(logreg.score(X_test,Y_test)))"
      ],
      "execution_count": 649,
      "outputs": [
        {
          "output_type": "stream",
          "text": [
            "Accuracy of logistic regression classifier on test set: 0.86\n"
          ],
          "name": "stdout"
        },
        {
          "output_type": "stream",
          "text": [
            "/usr/local/lib/python3.7/dist-packages/sklearn/linear_model/_logistic.py:940: ConvergenceWarning: lbfgs failed to converge (status=1):\n",
            "STOP: TOTAL NO. of ITERATIONS REACHED LIMIT.\n",
            "\n",
            "Increase the number of iterations (max_iter) or scale the data as shown in:\n",
            "    https://scikit-learn.org/stable/modules/preprocessing.html\n",
            "Please also refer to the documentation for alternative solver options:\n",
            "    https://scikit-learn.org/stable/modules/linear_model.html#logistic-regression\n",
            "  extra_warning_msg=_LOGISTIC_SOLVER_CONVERGENCE_MSG)\n"
          ],
          "name": "stderr"
        }
      ]
    },
    {
      "cell_type": "code",
      "metadata": {
        "colab": {
          "base_uri": "https://localhost:8080/"
        },
        "id": "LZz2fIv8ErBb",
        "outputId": "641254f5-edbc-4338-a5b3-60338d89ee39"
      },
      "source": [
        "report = classification_report(Y_test, predicted)\n",
        "print(report)\n"
      ],
      "execution_count": 650,
      "outputs": [
        {
          "output_type": "stream",
          "text": [
            "              precision    recall  f1-score   support\n",
            "\n",
            "           0       0.96      0.88      0.92        25\n",
            "           1       0.50      0.75      0.60         4\n",
            "\n",
            "    accuracy                           0.86        29\n",
            "   macro avg       0.73      0.81      0.76        29\n",
            "weighted avg       0.89      0.86      0.87        29\n",
            "\n"
          ],
          "name": "stdout"
        }
      ]
    },
    {
      "cell_type": "code",
      "metadata": {
        "colab": {
          "base_uri": "https://localhost:8080/"
        },
        "id": "n23-j_jeErBc",
        "outputId": "d2a647c5-770a-4cf9-9dce-eaf157ee2186"
      },
      "source": [
        "ans=confusion_matrix(Y_test,predicted)\n",
        "ans"
      ],
      "execution_count": 651,
      "outputs": [
        {
          "output_type": "execute_result",
          "data": {
            "text/plain": [
              "array([[22,  3],\n",
              "       [ 1,  3]])"
            ]
          },
          "metadata": {
            "tags": []
          },
          "execution_count": 651
        }
      ]
    },
    {
      "cell_type": "code",
      "metadata": {
        "colab": {
          "base_uri": "https://localhost:8080/"
        },
        "id": "dBJCA1WaErBg",
        "outputId": "3d7713f8-bb3b-4923-fd4b-df35cd63c404"
      },
      "source": [
        "specificity= ans[0,0]/(ans[0,0]+ans[0,1])\n",
        "specificity"
      ],
      "execution_count": 652,
      "outputs": [
        {
          "output_type": "execute_result",
          "data": {
            "text/plain": [
              "0.88"
            ]
          },
          "metadata": {
            "tags": []
          },
          "execution_count": 652
        }
      ]
    },
    {
      "cell_type": "code",
      "metadata": {
        "id": "Izf8hFXVG8Gl"
      },
      "source": [
        ""
      ],
      "execution_count": 652,
      "outputs": []
    },
    {
      "cell_type": "code",
      "metadata": {
        "colab": {
          "base_uri": "https://localhost:8080/"
        },
        "id": "nw8wAFv3ErBi",
        "outputId": "5f8e385e-9836-40cd-bc86-a36fe3081df6"
      },
      "source": [
        " hamming_loss = metrics.hamming_loss(Y_test, predicted)\n",
        " hamming_loss "
      ],
      "execution_count": 653,
      "outputs": [
        {
          "output_type": "execute_result",
          "data": {
            "text/plain": [
              "0.13793103448275862"
            ]
          },
          "metadata": {
            "tags": []
          },
          "execution_count": 653
        }
      ]
    },
    {
      "cell_type": "code",
      "metadata": {
        "colab": {
          "base_uri": "https://localhost:8080/"
        },
        "id": "iyGVq6kVErBj",
        "outputId": "ad32efe2-2624-4a68-903e-52e813f6a6ec"
      },
      "source": [
        "# Entropy loss\n",
        "#where 0 denotes perfect classification or zero impurity.\n",
        "cross_entropy_loss = metrics.log_loss(Y_test, predicted)\n",
        "cross_entropy_loss "
      ],
      "execution_count": 654,
      "outputs": [
        {
          "output_type": "execute_result",
          "data": {
            "text/plain": [
              "4.764051874894252"
            ]
          },
          "metadata": {
            "tags": []
          },
          "execution_count": 654
        }
      ]
    },
    {
      "cell_type": "markdown",
      "metadata": {
        "id": "MqcSjKorErBk"
      },
      "source": [
        "# DECISION TREE"
      ]
    },
    {
      "cell_type": "code",
      "metadata": {
        "colab": {
          "base_uri": "https://localhost:8080/"
        },
        "id": "mfnMDrqBErBl",
        "outputId": "0d654ef8-9144-4107-e93e-0179a57d00b0"
      },
      "source": [
        "from sklearn.tree import DecisionTreeClassifier\n",
        "DTClassifier= DecisionTreeClassifier(criterion='entropy', random_state=1)\n",
        "DTClassifier.fit(X_train,Y_train)\n",
        "print('Accuracy of logistic decision tree classifier on test set: {:.2f}'.format(DTClassifier.score(X_test, Y_test)))"
      ],
      "execution_count": 655,
      "outputs": [
        {
          "output_type": "stream",
          "text": [
            "Accuracy of logistic decision tree classifier on test set: 0.79\n"
          ],
          "name": "stdout"
        }
      ]
    },
    {
      "cell_type": "code",
      "metadata": {
        "colab": {
          "base_uri": "https://localhost:8080/"
        },
        "id": "8UkBtst_ErBn",
        "outputId": "4b5e507e-28b2-4273-e7cc-b02539d7d1b0"
      },
      "source": [
        "predicted = DTClassifier.predict(X_test)\n",
        "report = classification_report(Y_test, predicted)\n",
        "print(report)\n"
      ],
      "execution_count": 656,
      "outputs": [
        {
          "output_type": "stream",
          "text": [
            "              precision    recall  f1-score   support\n",
            "\n",
            "           0       0.95      0.80      0.87        25\n",
            "           1       0.38      0.75      0.50         4\n",
            "\n",
            "    accuracy                           0.79        29\n",
            "   macro avg       0.66      0.78      0.68        29\n",
            "weighted avg       0.87      0.79      0.82        29\n",
            "\n"
          ],
          "name": "stdout"
        }
      ]
    },
    {
      "cell_type": "code",
      "metadata": {
        "colab": {
          "base_uri": "https://localhost:8080/"
        },
        "id": "D5bXFVAAGy8y",
        "outputId": "84a54a15-f869-4d1c-c5c9-d1fd69dc30fb"
      },
      "source": [
        "ans=metrics.confusion_matrix(Y_test,predicted)\n",
        "ans"
      ],
      "execution_count": 657,
      "outputs": [
        {
          "output_type": "execute_result",
          "data": {
            "text/plain": [
              "array([[20,  5],\n",
              "       [ 1,  3]])"
            ]
          },
          "metadata": {
            "tags": []
          },
          "execution_count": 657
        }
      ]
    },
    {
      "cell_type": "code",
      "metadata": {
        "colab": {
          "base_uri": "https://localhost:8080/"
        },
        "id": "TJDkaCf6G58F",
        "outputId": "6773c9d2-1a1c-4707-e5c3-d91e0c040791"
      },
      "source": [
        "specificity= ans[0,0]/(ans[0,0]+ans[0,1])\n",
        "specificity"
      ],
      "execution_count": 658,
      "outputs": [
        {
          "output_type": "execute_result",
          "data": {
            "text/plain": [
              "0.8"
            ]
          },
          "metadata": {
            "tags": []
          },
          "execution_count": 658
        }
      ]
    },
    {
      "cell_type": "code",
      "metadata": {
        "colab": {
          "base_uri": "https://localhost:8080/"
        },
        "id": "lVti-quuHBzq",
        "outputId": "d9bda912-e90e-4f93-964b-2895ee8b31dc"
      },
      "source": [
        " hamming_loss = metrics.hamming_loss(Y_test, predicted)\n",
        " hamming_loss "
      ],
      "execution_count": 659,
      "outputs": [
        {
          "output_type": "execute_result",
          "data": {
            "text/plain": [
              "0.20689655172413793"
            ]
          },
          "metadata": {
            "tags": []
          },
          "execution_count": 659
        }
      ]
    },
    {
      "cell_type": "code",
      "metadata": {
        "colab": {
          "base_uri": "https://localhost:8080/"
        },
        "id": "fOqrxSXXHGcY",
        "outputId": "b503a41f-c8b9-4be5-f10d-f6bdee92ea78"
      },
      "source": [
        "cross_entropy_loss = metrics.log_loss(Y_test, predicted)\n",
        "cross_entropy_loss "
      ],
      "execution_count": 660,
      "outputs": [
        {
          "output_type": "execute_result",
          "data": {
            "text/plain": [
              "7.146091598503968"
            ]
          },
          "metadata": {
            "tags": []
          },
          "execution_count": 660
        }
      ]
    },
    {
      "cell_type": "markdown",
      "metadata": {
        "id": "iDcG2cukErBp"
      },
      "source": [
        "# 3.GAUSSIAN NAIVE BAYES"
      ]
    },
    {
      "cell_type": "code",
      "metadata": {
        "colab": {
          "base_uri": "https://localhost:8080/"
        },
        "id": "KeLSqNLXErBp",
        "outputId": "58105b60-5f24-4f6e-ac18-1f74f86216d6"
      },
      "source": [
        "from sklearn.naive_bayes import GaussianNB\n",
        "\n",
        "model = GaussianNB()\n",
        "model.fit(X_train,Y_train)\n",
        "print('Accuracy of naive bayes classifier on test set: {:.2f}'.format(model.score(X_test, Y_test)))\n",
        "predicted = model.predict(X_test)\n",
        "report = classification_report(Y_test, predicted)\n",
        "print(report)"
      ],
      "execution_count": 661,
      "outputs": [
        {
          "output_type": "stream",
          "text": [
            "Accuracy of naive bayes classifier on test set: 0.83\n",
            "              precision    recall  f1-score   support\n",
            "\n",
            "           0       0.95      0.84      0.89        25\n",
            "           1       0.43      0.75      0.55         4\n",
            "\n",
            "    accuracy                           0.83        29\n",
            "   macro avg       0.69      0.79      0.72        29\n",
            "weighted avg       0.88      0.83      0.85        29\n",
            "\n"
          ],
          "name": "stdout"
        }
      ]
    },
    {
      "cell_type": "code",
      "metadata": {
        "colab": {
          "base_uri": "https://localhost:8080/"
        },
        "id": "ly__PZGJHPMy",
        "outputId": "c43a56a3-43e8-4be9-a906-91bfc04c80cb"
      },
      "source": [
        "ans=confusion_matrix(Y_test,predicted)\n",
        "ans"
      ],
      "execution_count": 662,
      "outputs": [
        {
          "output_type": "execute_result",
          "data": {
            "text/plain": [
              "array([[21,  4],\n",
              "       [ 1,  3]])"
            ]
          },
          "metadata": {
            "tags": []
          },
          "execution_count": 662
        }
      ]
    },
    {
      "cell_type": "code",
      "metadata": {
        "colab": {
          "base_uri": "https://localhost:8080/"
        },
        "id": "LBlM4mNoHPWs",
        "outputId": "659d0421-a529-4df8-eaf2-c9e5dea4862e"
      },
      "source": [
        "specificity= ans[0,0]/(ans[0,0]+ans[0,1])\n",
        "specificity"
      ],
      "execution_count": 663,
      "outputs": [
        {
          "output_type": "execute_result",
          "data": {
            "text/plain": [
              "0.84"
            ]
          },
          "metadata": {
            "tags": []
          },
          "execution_count": 663
        }
      ]
    },
    {
      "cell_type": "code",
      "metadata": {
        "colab": {
          "base_uri": "https://localhost:8080/"
        },
        "id": "jE3PGnVUHPjJ",
        "outputId": "3df17968-5e46-43c1-b161-d922c209fb28"
      },
      "source": [
        "hamming_loss = metrics.hamming_loss(Y_test, predicted)\n",
        "hamming_loss "
      ],
      "execution_count": 664,
      "outputs": [
        {
          "output_type": "execute_result",
          "data": {
            "text/plain": [
              "0.1724137931034483"
            ]
          },
          "metadata": {
            "tags": []
          },
          "execution_count": 664
        }
      ]
    },
    {
      "cell_type": "code",
      "metadata": {
        "colab": {
          "base_uri": "https://localhost:8080/"
        },
        "id": "pNPCFP_WHPz1",
        "outputId": "5ba34a4f-775b-4889-b149-0d755d895b8e"
      },
      "source": [
        "cross_entropy_loss = metrics.log_loss(Y_test, predicted)\n",
        "cross_entropy_loss "
      ],
      "execution_count": 665,
      "outputs": [
        {
          "output_type": "execute_result",
          "data": {
            "text/plain": [
              "5.95507173669911"
            ]
          },
          "metadata": {
            "tags": []
          },
          "execution_count": 665
        }
      ]
    },
    {
      "cell_type": "markdown",
      "metadata": {
        "id": "pv9TpM82ErBr"
      },
      "source": [
        "# 4.SVM"
      ]
    },
    {
      "cell_type": "code",
      "metadata": {
        "colab": {
          "base_uri": "https://localhost:8080/"
        },
        "id": "UdjmmsYzErBs",
        "outputId": "5295766e-ba9d-4b30-80ba-45148119fb24"
      },
      "source": [
        "from sklearn.svm import SVC\n",
        "\n",
        "svcclassifier = SVC(kernel='sigmoid')\n",
        "svcclassifier.fit(X_train,Y_train)\n",
        "print('Accuracy of SVM classifier on test set: : {:.2f}'.format(svcclassifier.score(X_test,Y_test)))"
      ],
      "execution_count": 666,
      "outputs": [
        {
          "output_type": "stream",
          "text": [
            "Accuracy of SVM classifier on test set: : 0.86\n"
          ],
          "name": "stdout"
        }
      ]
    },
    {
      "cell_type": "code",
      "metadata": {
        "colab": {
          "base_uri": "https://localhost:8080/"
        },
        "id": "OdycV1c3ErBt",
        "outputId": "9029345e-32a6-46ad-aff5-105a4c4c9862"
      },
      "source": [
        "predicted = svcclassifier.predict(X_test)\n",
        "\n",
        "report = classification_report(Y_test, predicted)\n",
        "print(report)"
      ],
      "execution_count": 667,
      "outputs": [
        {
          "output_type": "stream",
          "text": [
            "              precision    recall  f1-score   support\n",
            "\n",
            "           0       0.86      1.00      0.93        25\n",
            "           1       0.00      0.00      0.00         4\n",
            "\n",
            "    accuracy                           0.86        29\n",
            "   macro avg       0.43      0.50      0.46        29\n",
            "weighted avg       0.74      0.86      0.80        29\n",
            "\n"
          ],
          "name": "stdout"
        },
        {
          "output_type": "stream",
          "text": [
            "/usr/local/lib/python3.7/dist-packages/sklearn/metrics/_classification.py:1272: UndefinedMetricWarning: Precision and F-score are ill-defined and being set to 0.0 in labels with no predicted samples. Use `zero_division` parameter to control this behavior.\n",
            "  _warn_prf(average, modifier, msg_start, len(result))\n"
          ],
          "name": "stderr"
        }
      ]
    },
    {
      "cell_type": "code",
      "metadata": {
        "colab": {
          "base_uri": "https://localhost:8080/"
        },
        "id": "ZjIPpCYTHx5A",
        "outputId": "69d06b7d-2933-430d-8d9c-2cc2c90644e3"
      },
      "source": [
        "ans=confusion_matrix(Y_test,predicted)\n",
        "ans"
      ],
      "execution_count": 668,
      "outputs": [
        {
          "output_type": "execute_result",
          "data": {
            "text/plain": [
              "array([[25,  0],\n",
              "       [ 4,  0]])"
            ]
          },
          "metadata": {
            "tags": []
          },
          "execution_count": 668
        }
      ]
    },
    {
      "cell_type": "code",
      "metadata": {
        "colab": {
          "base_uri": "https://localhost:8080/"
        },
        "id": "zHrC3kpbHyDb",
        "outputId": "a7c44861-bc59-465b-ef0b-d4ea8a667bf3"
      },
      "source": [
        "specificity= ans[0,0]/(ans[0,0]+ans[0,1])\n",
        "specificity"
      ],
      "execution_count": 669,
      "outputs": [
        {
          "output_type": "execute_result",
          "data": {
            "text/plain": [
              "1.0"
            ]
          },
          "metadata": {
            "tags": []
          },
          "execution_count": 669
        }
      ]
    },
    {
      "cell_type": "code",
      "metadata": {
        "colab": {
          "base_uri": "https://localhost:8080/"
        },
        "id": "8MFBxV5jHyMo",
        "outputId": "02b0703a-2289-4705-dc17-2654bf030f4d"
      },
      "source": [
        "hamming_loss = metrics.hamming_loss(Y_test, predicted)\n",
        "hamming_loss "
      ],
      "execution_count": 670,
      "outputs": [
        {
          "output_type": "execute_result",
          "data": {
            "text/plain": [
              "0.13793103448275862"
            ]
          },
          "metadata": {
            "tags": []
          },
          "execution_count": 670
        }
      ]
    },
    {
      "cell_type": "code",
      "metadata": {
        "colab": {
          "base_uri": "https://localhost:8080/"
        },
        "id": "C_qOUUxYHyWZ",
        "outputId": "41a431c5-4d60-49a9-f9b1-d26872428ed5"
      },
      "source": [
        "cross_entropy_loss = metrics.log_loss(Y_test, predicted)\n",
        "cross_entropy_loss "
      ],
      "execution_count": 671,
      "outputs": [
        {
          "output_type": "execute_result",
          "data": {
            "text/plain": [
              "4.763969157918715"
            ]
          },
          "metadata": {
            "tags": []
          },
          "execution_count": 671
        }
      ]
    },
    {
      "cell_type": "markdown",
      "metadata": {
        "id": "tA3PscLJErBu"
      },
      "source": [
        "# 5.NEURAL NETWORK"
      ]
    },
    {
      "cell_type": "code",
      "metadata": {
        "colab": {
          "base_uri": "https://localhost:8080/"
        },
        "id": "vhvxo8A2ErBv",
        "outputId": "96bd2db6-2be6-4ff0-899d-c51a7e135de9"
      },
      "source": [
        "from sklearn.neural_network import MLPClassifier\n",
        "\n",
        "clf = MLPClassifier(solver='lbfgs', alpha=1e-5,hidden_layer_sizes=(5, 2), random_state=1)\n",
        "clf.fit(X_train, Y_train)\n",
        "print('Accuracy of MLP classifier on test set: : {:.2f}'.format(clf.score(X_test,Y_test)))"
      ],
      "execution_count": 672,
      "outputs": [
        {
          "output_type": "stream",
          "text": [
            "Accuracy of MLP classifier on test set: : 0.76\n"
          ],
          "name": "stdout"
        }
      ]
    },
    {
      "cell_type": "code",
      "metadata": {
        "colab": {
          "base_uri": "https://localhost:8080/"
        },
        "id": "AbvxUMgWErBw",
        "outputId": "e7a9b0e8-0f6c-4469-cae2-c55b582b4149"
      },
      "source": [
        "predicted = clf.predict(X_test)\n",
        "\n",
        "report = classification_report(Y_test, predicted)\n",
        "print(report)"
      ],
      "execution_count": 673,
      "outputs": [
        {
          "output_type": "stream",
          "text": [
            "              precision    recall  f1-score   support\n",
            "\n",
            "           0       0.85      0.88      0.86        25\n",
            "           1       0.00      0.00      0.00         4\n",
            "\n",
            "    accuracy                           0.76        29\n",
            "   macro avg       0.42      0.44      0.43        29\n",
            "weighted avg       0.73      0.76      0.74        29\n",
            "\n"
          ],
          "name": "stdout"
        }
      ]
    },
    {
      "cell_type": "code",
      "metadata": {
        "colab": {
          "base_uri": "https://localhost:8080/"
        },
        "id": "3sqxPPz4IRHK",
        "outputId": "740846a1-4f7c-4934-8efc-934369fdf441"
      },
      "source": [
        "ans=confusion_matrix(Y_test,predicted)\n",
        "ans"
      ],
      "execution_count": 674,
      "outputs": [
        {
          "output_type": "execute_result",
          "data": {
            "text/plain": [
              "array([[22,  3],\n",
              "       [ 4,  0]])"
            ]
          },
          "metadata": {
            "tags": []
          },
          "execution_count": 674
        }
      ]
    },
    {
      "cell_type": "code",
      "metadata": {
        "colab": {
          "base_uri": "https://localhost:8080/"
        },
        "id": "fv5dpKk4IRU2",
        "outputId": "c6b52afe-0e05-44c7-e834-7b03d92467f4"
      },
      "source": [
        "specificity= ans[0,0]/(ans[0,0]+ans[0,1])\n",
        "specificity"
      ],
      "execution_count": 675,
      "outputs": [
        {
          "output_type": "execute_result",
          "data": {
            "text/plain": [
              "0.88"
            ]
          },
          "metadata": {
            "tags": []
          },
          "execution_count": 675
        }
      ]
    },
    {
      "cell_type": "code",
      "metadata": {
        "colab": {
          "base_uri": "https://localhost:8080/"
        },
        "id": "bQ7k3coFIRhs",
        "outputId": "b5ec0266-c679-487c-883f-9522100e1880"
      },
      "source": [
        "hamming_loss = metrics.hamming_loss(Y_test, predicted)\n",
        "hamming_loss "
      ],
      "execution_count": 676,
      "outputs": [
        {
          "output_type": "execute_result",
          "data": {
            "text/plain": [
              "0.2413793103448276"
            ]
          },
          "metadata": {
            "tags": []
          },
          "execution_count": 676
        }
      ]
    },
    {
      "cell_type": "code",
      "metadata": {
        "colab": {
          "base_uri": "https://localhost:8080/"
        },
        "id": "4qf7aR8rIRvX",
        "outputId": "51f8329c-1282-48c0-f967-8dc697b27150"
      },
      "source": [
        "Cross_entropy_loss = metrics.log_loss(Y_test, predicted)\n",
        "cross_entropy_loss "
      ],
      "execution_count": 677,
      "outputs": [
        {
          "output_type": "execute_result",
          "data": {
            "text/plain": [
              "4.763969157918715"
            ]
          },
          "metadata": {
            "tags": []
          },
          "execution_count": 677
        }
      ]
    },
    {
      "cell_type": "markdown",
      "metadata": {
        "id": "uYbxqlg8ErCB"
      },
      "source": [
        "# 6.RANDOM FOREST"
      ]
    },
    {
      "cell_type": "code",
      "metadata": {
        "colab": {
          "base_uri": "https://localhost:8080/"
        },
        "id": "elAUmZ6NErCC",
        "outputId": "3b8f708b-ac4e-4c4d-8598-be646b7b9cd0"
      },
      "source": [
        "from sklearn.ensemble import RandomForestClassifier\n",
        "\n",
        "RFC = RandomForestClassifier(n_estimators=10)\n",
        "RFC = RFC.fit(X_train, Y_train)\n",
        "print('Accuracy of Random Forest classifier on test set: : {:.2f}'.format(RFC.score(X_test,Y_test)))"
      ],
      "execution_count": 678,
      "outputs": [
        {
          "output_type": "stream",
          "text": [
            "Accuracy of Random Forest classifier on test set: : 0.86\n"
          ],
          "name": "stdout"
        }
      ]
    },
    {
      "cell_type": "code",
      "metadata": {
        "colab": {
          "base_uri": "https://localhost:8080/"
        },
        "id": "hFr_MF6CErCF",
        "outputId": "854eae8c-3a1e-4259-f69a-1687bc1a8e2f"
      },
      "source": [
        "predicted = RFC.predict(X_test)\n",
        "\n",
        "report = classification_report(Y_test, predicted)\n",
        "print(report)"
      ],
      "execution_count": 679,
      "outputs": [
        {
          "output_type": "stream",
          "text": [
            "              precision    recall  f1-score   support\n",
            "\n",
            "           0       0.92      0.92      0.92        25\n",
            "           1       0.50      0.50      0.50         4\n",
            "\n",
            "    accuracy                           0.86        29\n",
            "   macro avg       0.71      0.71      0.71        29\n",
            "weighted avg       0.86      0.86      0.86        29\n",
            "\n"
          ],
          "name": "stdout"
        }
      ]
    },
    {
      "cell_type": "code",
      "metadata": {
        "colab": {
          "base_uri": "https://localhost:8080/"
        },
        "id": "BoyN36riIvLl",
        "outputId": "9de860cc-751c-4d2a-f6ed-225ebd1fa20f"
      },
      "source": [
        "ans=confusion_matrix(Y_test,predicted)\n",
        "ans"
      ],
      "execution_count": 680,
      "outputs": [
        {
          "output_type": "execute_result",
          "data": {
            "text/plain": [
              "array([[23,  2],\n",
              "       [ 2,  2]])"
            ]
          },
          "metadata": {
            "tags": []
          },
          "execution_count": 680
        }
      ]
    },
    {
      "cell_type": "code",
      "metadata": {
        "colab": {
          "base_uri": "https://localhost:8080/"
        },
        "id": "wt6RKOteIvUZ",
        "outputId": "c3aae01a-f16c-4cd8-89c7-4c5fde7d5154"
      },
      "source": [
        "specificity= ans[0,0]/(ans[0,0]+ans[0,1])\n",
        "specificity"
      ],
      "execution_count": 681,
      "outputs": [
        {
          "output_type": "execute_result",
          "data": {
            "text/plain": [
              "0.92"
            ]
          },
          "metadata": {
            "tags": []
          },
          "execution_count": 681
        }
      ]
    },
    {
      "cell_type": "code",
      "metadata": {
        "colab": {
          "base_uri": "https://localhost:8080/"
        },
        "id": "5vjrdWS5Ivbz",
        "outputId": "36cd4cc6-52af-4164-b399-c36dfe2d46c4"
      },
      "source": [
        "hamming_loss = metrics.hamming_loss(Y_test, predicted)\n",
        "hamming_loss "
      ],
      "execution_count": 682,
      "outputs": [
        {
          "output_type": "execute_result",
          "data": {
            "text/plain": [
              "0.13793103448275862"
            ]
          },
          "metadata": {
            "tags": []
          },
          "execution_count": 682
        }
      ]
    },
    {
      "cell_type": "code",
      "metadata": {
        "colab": {
          "base_uri": "https://localhost:8080/"
        },
        "id": "hOukVbsQIvl1",
        "outputId": "e15b4175-2453-4ce0-cf8b-8100f091c04e"
      },
      "source": [
        "Cross_entropy_loss = metrics.log_loss(Y_test, predicted)\n",
        "cross_entropy_loss "
      ],
      "execution_count": 683,
      "outputs": [
        {
          "output_type": "execute_result",
          "data": {
            "text/plain": [
              "4.763969157918715"
            ]
          },
          "metadata": {
            "tags": []
          },
          "execution_count": 683
        }
      ]
    },
    {
      "cell_type": "markdown",
      "metadata": {
        "id": "Q2D8pWsyErCH"
      },
      "source": [
        "# 7.LINEAR MODEL"
      ]
    },
    {
      "cell_type": "code",
      "metadata": {
        "scrolled": true,
        "colab": {
          "base_uri": "https://localhost:8080/"
        },
        "id": "VArramlzErCI",
        "outputId": "bba0290e-7b67-4b53-8975-4a6d4f41253b"
      },
      "source": [
        "from sklearn.linear_model import SGDClassifier\n",
        "\n",
        "clf = SGDClassifier(loss=\"hinge\", penalty=\"l2\", max_iter=5)\n",
        "clf.fit(X_train, Y_train)\n",
        "print('Accuracy of Random Forest classifier on test set: : {:.2f}'.format(clf.score(X_test,Y_test)))"
      ],
      "execution_count": 684,
      "outputs": [
        {
          "output_type": "stream",
          "text": [
            "Accuracy of Random Forest classifier on test set: : 0.83\n"
          ],
          "name": "stdout"
        },
        {
          "output_type": "stream",
          "text": [
            "/usr/local/lib/python3.7/dist-packages/sklearn/linear_model/_stochastic_gradient.py:557: ConvergenceWarning: Maximum number of iteration reached before convergence. Consider increasing max_iter to improve the fit.\n",
            "  ConvergenceWarning)\n"
          ],
          "name": "stderr"
        }
      ]
    },
    {
      "cell_type": "code",
      "metadata": {
        "colab": {
          "base_uri": "https://localhost:8080/"
        },
        "id": "8sBeKsiNI-Fs",
        "outputId": "96653da1-0b0b-4f3d-c071-78b476486b3d"
      },
      "source": [
        "predicted = clf.predict(X_test)\n",
        "report = classification_report(Y_test, predicted)\n",
        "print(report)"
      ],
      "execution_count": 685,
      "outputs": [
        {
          "output_type": "stream",
          "text": [
            "              precision    recall  f1-score   support\n",
            "\n",
            "           0       0.86      0.96      0.91        25\n",
            "           1       0.00      0.00      0.00         4\n",
            "\n",
            "    accuracy                           0.83        29\n",
            "   macro avg       0.43      0.48      0.45        29\n",
            "weighted avg       0.74      0.83      0.78        29\n",
            "\n"
          ],
          "name": "stdout"
        }
      ]
    },
    {
      "cell_type": "code",
      "metadata": {
        "colab": {
          "base_uri": "https://localhost:8080/"
        },
        "id": "uQ9YJlOHI-V_",
        "outputId": "f0bd66aa-3519-4f7a-a1d6-20e9e7afdf64"
      },
      "source": [
        "ans=confusion_matrix(Y_test,predicted)\n",
        "ans"
      ],
      "execution_count": 686,
      "outputs": [
        {
          "output_type": "execute_result",
          "data": {
            "text/plain": [
              "array([[24,  1],\n",
              "       [ 4,  0]])"
            ]
          },
          "metadata": {
            "tags": []
          },
          "execution_count": 686
        }
      ]
    },
    {
      "cell_type": "code",
      "metadata": {
        "colab": {
          "base_uri": "https://localhost:8080/"
        },
        "id": "Qx0N6i-vI-g_",
        "outputId": "1abe37cf-d114-48e8-dc36-67097a818588"
      },
      "source": [
        "specificity= ans[0,0]/(ans[0,0]+ans[0,1])\n",
        "specificity"
      ],
      "execution_count": 687,
      "outputs": [
        {
          "output_type": "execute_result",
          "data": {
            "text/plain": [
              "0.96"
            ]
          },
          "metadata": {
            "tags": []
          },
          "execution_count": 687
        }
      ]
    },
    {
      "cell_type": "code",
      "metadata": {
        "colab": {
          "base_uri": "https://localhost:8080/"
        },
        "id": "hR5v72_xI-rj",
        "outputId": "8bce38b7-4f69-43c4-c03d-13357e3494c2"
      },
      "source": [
        "hamming_loss = metrics.hamming_loss(Y_test, predicted)\n",
        "hamming_loss "
      ],
      "execution_count": 688,
      "outputs": [
        {
          "output_type": "execute_result",
          "data": {
            "text/plain": [
              "0.1724137931034483"
            ]
          },
          "metadata": {
            "tags": []
          },
          "execution_count": 688
        }
      ]
    },
    {
      "cell_type": "code",
      "metadata": {
        "colab": {
          "base_uri": "https://localhost:8080/"
        },
        "id": "axkw6_CPI-3z",
        "outputId": "861a16eb-a9d8-461a-e35e-a4da3af385b6"
      },
      "source": [
        "Cross_entropy_loss = metrics.log_loss(Y_test, predicted)\n",
        "cross_entropy_loss "
      ],
      "execution_count": 689,
      "outputs": [
        {
          "output_type": "execute_result",
          "data": {
            "text/plain": [
              "4.763969157918715"
            ]
          },
          "metadata": {
            "tags": []
          },
          "execution_count": 689
        }
      ]
    },
    {
      "cell_type": "markdown",
      "metadata": {
        "id": "__1XafICrisd"
      },
      "source": [
        ""
      ]
    },
    {
      "cell_type": "markdown",
      "metadata": {
        "id": "1XcQfZo3ErCK"
      },
      "source": [
        "# BREAST DATASET"
      ]
    },
    {
      "cell_type": "markdown",
      "metadata": {
        "id": "sBdHGvwmq7ea"
      },
      "source": [
        ""
      ]
    },
    {
      "cell_type": "code",
      "metadata": {
        "colab": {
          "base_uri": "https://localhost:8080/",
          "height": 241
        },
        "id": "6v9sz44lErCK",
        "outputId": "150e22eb-bf43-48f1-937b-e4f7a31594ed"
      },
      "source": [
        "df = pd.read_csv('BREAST_TRAIN.csv')\n",
        "df.head()"
      ],
      "execution_count": 690,
      "outputs": [
        {
          "output_type": "execute_result",
          "data": {
            "text/html": [
              "<div>\n",
              "<style scoped>\n",
              "    .dataframe tbody tr th:only-of-type {\n",
              "        vertical-align: middle;\n",
              "    }\n",
              "\n",
              "    .dataframe tbody tr th {\n",
              "        vertical-align: top;\n",
              "    }\n",
              "\n",
              "    .dataframe thead th {\n",
              "        text-align: right;\n",
              "    }\n",
              "</style>\n",
              "<table border=\"1\" class=\"dataframe\">\n",
              "  <thead>\n",
              "    <tr style=\"text-align: right;\">\n",
              "      <th></th>\n",
              "      <th>radius_2ean</th>\n",
              "      <th>texture_2ean</th>\n",
              "      <th>peri2eter_2ean</th>\n",
              "      <th>area_2ean</th>\n",
              "      <th>s2oothness_2ean</th>\n",
              "      <th>co2pactness_2ean</th>\n",
              "      <th>concavity_2ean</th>\n",
              "      <th>concave points_2ean</th>\n",
              "      <th>sy22etry_2ean</th>\n",
              "      <th>fractal_di2ension_2ean</th>\n",
              "      <th>radius_se</th>\n",
              "      <th>texture_se</th>\n",
              "      <th>peri2eter_se</th>\n",
              "      <th>area_se</th>\n",
              "      <th>s2oothness_se</th>\n",
              "      <th>co2pactness_se</th>\n",
              "      <th>concavity_se</th>\n",
              "      <th>concave points_se</th>\n",
              "      <th>sy22etry_se</th>\n",
              "      <th>fractal_di2ension_se</th>\n",
              "      <th>radius_worst</th>\n",
              "      <th>texture_worst</th>\n",
              "      <th>peri2eter_worst</th>\n",
              "      <th>area_worst</th>\n",
              "      <th>s2oothness_worst</th>\n",
              "      <th>co2pactness_worst</th>\n",
              "      <th>concavity_worst</th>\n",
              "      <th>concave points_worst</th>\n",
              "      <th>sy22etry_worst</th>\n",
              "      <th>fractal_di2ension_worst</th>\n",
              "      <th>Class</th>\n",
              "    </tr>\n",
              "  </thead>\n",
              "  <tbody>\n",
              "    <tr>\n",
              "      <th>0</th>\n",
              "      <td>13.48</td>\n",
              "      <td>20.82</td>\n",
              "      <td>88.40</td>\n",
              "      <td>559.2</td>\n",
              "      <td>0.10160</td>\n",
              "      <td>0.12550</td>\n",
              "      <td>0.10630</td>\n",
              "      <td>0.05439</td>\n",
              "      <td>0.1720</td>\n",
              "      <td>0.06419</td>\n",
              "      <td>0.2130</td>\n",
              "      <td>0.5914</td>\n",
              "      <td>1.545</td>\n",
              "      <td>18.52</td>\n",
              "      <td>0.005367</td>\n",
              "      <td>0.02239</td>\n",
              "      <td>0.03049</td>\n",
              "      <td>0.012620</td>\n",
              "      <td>0.01377</td>\n",
              "      <td>0.003187</td>\n",
              "      <td>15.53</td>\n",
              "      <td>26.02</td>\n",
              "      <td>107.30</td>\n",
              "      <td>740.4</td>\n",
              "      <td>0.1610</td>\n",
              "      <td>0.4225</td>\n",
              "      <td>0.5030</td>\n",
              "      <td>0.2258</td>\n",
              "      <td>0.2807</td>\n",
              "      <td>0.10710</td>\n",
              "      <td>0</td>\n",
              "    </tr>\n",
              "    <tr>\n",
              "      <th>1</th>\n",
              "      <td>14.99</td>\n",
              "      <td>22.11</td>\n",
              "      <td>97.53</td>\n",
              "      <td>693.7</td>\n",
              "      <td>0.08515</td>\n",
              "      <td>0.10250</td>\n",
              "      <td>0.06859</td>\n",
              "      <td>0.03876</td>\n",
              "      <td>0.1944</td>\n",
              "      <td>0.05913</td>\n",
              "      <td>0.3186</td>\n",
              "      <td>1.3360</td>\n",
              "      <td>2.310</td>\n",
              "      <td>28.51</td>\n",
              "      <td>0.004449</td>\n",
              "      <td>0.02808</td>\n",
              "      <td>0.03312</td>\n",
              "      <td>0.011960</td>\n",
              "      <td>0.01906</td>\n",
              "      <td>0.004015</td>\n",
              "      <td>16.76</td>\n",
              "      <td>31.55</td>\n",
              "      <td>110.20</td>\n",
              "      <td>867.1</td>\n",
              "      <td>0.1077</td>\n",
              "      <td>0.3345</td>\n",
              "      <td>0.3114</td>\n",
              "      <td>0.1308</td>\n",
              "      <td>0.3163</td>\n",
              "      <td>0.09251</td>\n",
              "      <td>1</td>\n",
              "    </tr>\n",
              "    <tr>\n",
              "      <th>2</th>\n",
              "      <td>12.21</td>\n",
              "      <td>14.09</td>\n",
              "      <td>78.78</td>\n",
              "      <td>462.0</td>\n",
              "      <td>0.08108</td>\n",
              "      <td>0.07823</td>\n",
              "      <td>0.06839</td>\n",
              "      <td>0.02534</td>\n",
              "      <td>0.1646</td>\n",
              "      <td>0.06154</td>\n",
              "      <td>0.2666</td>\n",
              "      <td>0.8309</td>\n",
              "      <td>2.097</td>\n",
              "      <td>19.96</td>\n",
              "      <td>0.004405</td>\n",
              "      <td>0.03026</td>\n",
              "      <td>0.04344</td>\n",
              "      <td>0.010870</td>\n",
              "      <td>0.01921</td>\n",
              "      <td>0.004622</td>\n",
              "      <td>13.13</td>\n",
              "      <td>19.29</td>\n",
              "      <td>87.65</td>\n",
              "      <td>529.9</td>\n",
              "      <td>0.1026</td>\n",
              "      <td>0.2431</td>\n",
              "      <td>0.3076</td>\n",
              "      <td>0.0914</td>\n",
              "      <td>0.2677</td>\n",
              "      <td>0.08824</td>\n",
              "      <td>1</td>\n",
              "    </tr>\n",
              "    <tr>\n",
              "      <th>3</th>\n",
              "      <td>16.26</td>\n",
              "      <td>21.88</td>\n",
              "      <td>107.50</td>\n",
              "      <td>826.8</td>\n",
              "      <td>0.11650</td>\n",
              "      <td>0.12830</td>\n",
              "      <td>0.17990</td>\n",
              "      <td>0.07981</td>\n",
              "      <td>0.1869</td>\n",
              "      <td>0.06532</td>\n",
              "      <td>0.5706</td>\n",
              "      <td>1.4570</td>\n",
              "      <td>2.961</td>\n",
              "      <td>57.72</td>\n",
              "      <td>0.010560</td>\n",
              "      <td>0.03756</td>\n",
              "      <td>0.05839</td>\n",
              "      <td>0.011860</td>\n",
              "      <td>0.04022</td>\n",
              "      <td>0.006187</td>\n",
              "      <td>17.73</td>\n",
              "      <td>25.21</td>\n",
              "      <td>113.70</td>\n",
              "      <td>975.2</td>\n",
              "      <td>0.1426</td>\n",
              "      <td>0.2116</td>\n",
              "      <td>0.3344</td>\n",
              "      <td>0.1047</td>\n",
              "      <td>0.2736</td>\n",
              "      <td>0.07953</td>\n",
              "      <td>0</td>\n",
              "    </tr>\n",
              "    <tr>\n",
              "      <th>4</th>\n",
              "      <td>20.31</td>\n",
              "      <td>27.06</td>\n",
              "      <td>132.90</td>\n",
              "      <td>1288.0</td>\n",
              "      <td>0.10000</td>\n",
              "      <td>0.10880</td>\n",
              "      <td>0.15190</td>\n",
              "      <td>0.09333</td>\n",
              "      <td>0.1814</td>\n",
              "      <td>0.05572</td>\n",
              "      <td>0.3977</td>\n",
              "      <td>1.0330</td>\n",
              "      <td>2.587</td>\n",
              "      <td>52.34</td>\n",
              "      <td>0.005043</td>\n",
              "      <td>0.01578</td>\n",
              "      <td>0.02117</td>\n",
              "      <td>0.008185</td>\n",
              "      <td>0.01282</td>\n",
              "      <td>0.001892</td>\n",
              "      <td>24.33</td>\n",
              "      <td>39.16</td>\n",
              "      <td>162.30</td>\n",
              "      <td>1844.0</td>\n",
              "      <td>0.1522</td>\n",
              "      <td>0.2945</td>\n",
              "      <td>0.3788</td>\n",
              "      <td>0.1697</td>\n",
              "      <td>0.3151</td>\n",
              "      <td>0.07999</td>\n",
              "      <td>0</td>\n",
              "    </tr>\n",
              "  </tbody>\n",
              "</table>\n",
              "</div>"
            ],
            "text/plain": [
              "   radius_2ean  texture_2ean  ...  fractal_di2ension_worst  Class\n",
              "0        13.48         20.82  ...                  0.10710      0\n",
              "1        14.99         22.11  ...                  0.09251      1\n",
              "2        12.21         14.09  ...                  0.08824      1\n",
              "3        16.26         21.88  ...                  0.07953      0\n",
              "4        20.31         27.06  ...                  0.07999      0\n",
              "\n",
              "[5 rows x 31 columns]"
            ]
          },
          "metadata": {
            "tags": []
          },
          "execution_count": 690
        }
      ]
    },
    {
      "cell_type": "code",
      "metadata": {
        "colab": {
          "base_uri": "https://localhost:8080/",
          "height": 241
        },
        "id": "RIC8VRr7ErCL",
        "outputId": "9a907600-4017-44ff-cc4a-695a31122497"
      },
      "source": [
        "test_data = pd.read_csv('BREAST_TEST.csv')\n",
        "test_data.head()"
      ],
      "execution_count": 691,
      "outputs": [
        {
          "output_type": "execute_result",
          "data": {
            "text/html": [
              "<div>\n",
              "<style scoped>\n",
              "    .dataframe tbody tr th:only-of-type {\n",
              "        vertical-align: middle;\n",
              "    }\n",
              "\n",
              "    .dataframe tbody tr th {\n",
              "        vertical-align: top;\n",
              "    }\n",
              "\n",
              "    .dataframe thead th {\n",
              "        text-align: right;\n",
              "    }\n",
              "</style>\n",
              "<table border=\"1\" class=\"dataframe\">\n",
              "  <thead>\n",
              "    <tr style=\"text-align: right;\">\n",
              "      <th></th>\n",
              "      <th>radius_2ean</th>\n",
              "      <th>texture_2ean</th>\n",
              "      <th>peri2eter_2ean</th>\n",
              "      <th>area_2ean</th>\n",
              "      <th>s2oothness_2ean</th>\n",
              "      <th>co2pactness_2ean</th>\n",
              "      <th>concavity_2ean</th>\n",
              "      <th>concave points_2ean</th>\n",
              "      <th>sy22etry_2ean</th>\n",
              "      <th>fractal_di2ension_2ean</th>\n",
              "      <th>radius_se</th>\n",
              "      <th>texture_se</th>\n",
              "      <th>peri2eter_se</th>\n",
              "      <th>area_se</th>\n",
              "      <th>s2oothness_se</th>\n",
              "      <th>co2pactness_se</th>\n",
              "      <th>concavity_se</th>\n",
              "      <th>concave points_se</th>\n",
              "      <th>sy22etry_se</th>\n",
              "      <th>fractal_di2ension_se</th>\n",
              "      <th>radius_worst</th>\n",
              "      <th>texture_worst</th>\n",
              "      <th>peri2eter_worst</th>\n",
              "      <th>area_worst</th>\n",
              "      <th>s2oothness_worst</th>\n",
              "      <th>co2pactness_worst</th>\n",
              "      <th>concavity_worst</th>\n",
              "      <th>concave points_worst</th>\n",
              "      <th>sy22etry_worst</th>\n",
              "      <th>fractal_di2ension_worst</th>\n",
              "      <th>Class</th>\n",
              "    </tr>\n",
              "  </thead>\n",
              "  <tbody>\n",
              "    <tr>\n",
              "      <th>0</th>\n",
              "      <td>8.597</td>\n",
              "      <td>18.60</td>\n",
              "      <td>54.09</td>\n",
              "      <td>221.2</td>\n",
              "      <td>0.10740</td>\n",
              "      <td>0.05847</td>\n",
              "      <td>0.00000</td>\n",
              "      <td>0.00000</td>\n",
              "      <td>0.2163</td>\n",
              "      <td>0.07359</td>\n",
              "      <td>0.3368</td>\n",
              "      <td>2.7770</td>\n",
              "      <td>2.222</td>\n",
              "      <td>17.81</td>\n",
              "      <td>0.020750</td>\n",
              "      <td>0.01403</td>\n",
              "      <td>0.00000</td>\n",
              "      <td>0.000000</td>\n",
              "      <td>0.06146</td>\n",
              "      <td>0.006820</td>\n",
              "      <td>8.952</td>\n",
              "      <td>22.44</td>\n",
              "      <td>56.65</td>\n",
              "      <td>240.1</td>\n",
              "      <td>0.1347</td>\n",
              "      <td>0.07767</td>\n",
              "      <td>0.0000</td>\n",
              "      <td>0.00000</td>\n",
              "      <td>0.3142</td>\n",
              "      <td>0.08116</td>\n",
              "      <td>1</td>\n",
              "    </tr>\n",
              "    <tr>\n",
              "      <th>1</th>\n",
              "      <td>12.680</td>\n",
              "      <td>23.84</td>\n",
              "      <td>82.69</td>\n",
              "      <td>499.0</td>\n",
              "      <td>0.11220</td>\n",
              "      <td>0.12620</td>\n",
              "      <td>0.11280</td>\n",
              "      <td>0.06873</td>\n",
              "      <td>0.1905</td>\n",
              "      <td>0.06590</td>\n",
              "      <td>0.4255</td>\n",
              "      <td>1.1780</td>\n",
              "      <td>2.927</td>\n",
              "      <td>36.46</td>\n",
              "      <td>0.007781</td>\n",
              "      <td>0.02648</td>\n",
              "      <td>0.02973</td>\n",
              "      <td>0.012900</td>\n",
              "      <td>0.01635</td>\n",
              "      <td>0.003601</td>\n",
              "      <td>17.090</td>\n",
              "      <td>33.47</td>\n",
              "      <td>111.80</td>\n",
              "      <td>888.3</td>\n",
              "      <td>0.1851</td>\n",
              "      <td>0.40610</td>\n",
              "      <td>0.4024</td>\n",
              "      <td>0.17160</td>\n",
              "      <td>0.3383</td>\n",
              "      <td>0.10310</td>\n",
              "      <td>0</td>\n",
              "    </tr>\n",
              "    <tr>\n",
              "      <th>2</th>\n",
              "      <td>19.210</td>\n",
              "      <td>18.57</td>\n",
              "      <td>125.50</td>\n",
              "      <td>1152.0</td>\n",
              "      <td>0.10530</td>\n",
              "      <td>0.12670</td>\n",
              "      <td>0.13230</td>\n",
              "      <td>0.08994</td>\n",
              "      <td>0.1917</td>\n",
              "      <td>0.05961</td>\n",
              "      <td>0.7275</td>\n",
              "      <td>1.1930</td>\n",
              "      <td>4.837</td>\n",
              "      <td>102.50</td>\n",
              "      <td>0.006458</td>\n",
              "      <td>0.02306</td>\n",
              "      <td>0.02945</td>\n",
              "      <td>0.015380</td>\n",
              "      <td>0.01852</td>\n",
              "      <td>0.002608</td>\n",
              "      <td>26.140</td>\n",
              "      <td>28.14</td>\n",
              "      <td>170.10</td>\n",
              "      <td>2145.0</td>\n",
              "      <td>0.1624</td>\n",
              "      <td>0.35110</td>\n",
              "      <td>0.3879</td>\n",
              "      <td>0.20910</td>\n",
              "      <td>0.3537</td>\n",
              "      <td>0.08294</td>\n",
              "      <td>0</td>\n",
              "    </tr>\n",
              "    <tr>\n",
              "      <th>3</th>\n",
              "      <td>9.606</td>\n",
              "      <td>16.84</td>\n",
              "      <td>61.64</td>\n",
              "      <td>280.5</td>\n",
              "      <td>0.08481</td>\n",
              "      <td>0.09228</td>\n",
              "      <td>0.08422</td>\n",
              "      <td>0.02292</td>\n",
              "      <td>0.2036</td>\n",
              "      <td>0.07125</td>\n",
              "      <td>0.1844</td>\n",
              "      <td>0.9429</td>\n",
              "      <td>1.429</td>\n",
              "      <td>12.07</td>\n",
              "      <td>0.005954</td>\n",
              "      <td>0.03471</td>\n",
              "      <td>0.05028</td>\n",
              "      <td>0.008510</td>\n",
              "      <td>0.01750</td>\n",
              "      <td>0.004031</td>\n",
              "      <td>10.750</td>\n",
              "      <td>23.07</td>\n",
              "      <td>71.25</td>\n",
              "      <td>353.6</td>\n",
              "      <td>0.1233</td>\n",
              "      <td>0.34160</td>\n",
              "      <td>0.4341</td>\n",
              "      <td>0.08120</td>\n",
              "      <td>0.2982</td>\n",
              "      <td>0.09825</td>\n",
              "      <td>1</td>\n",
              "    </tr>\n",
              "    <tr>\n",
              "      <th>4</th>\n",
              "      <td>16.690</td>\n",
              "      <td>20.20</td>\n",
              "      <td>107.10</td>\n",
              "      <td>857.6</td>\n",
              "      <td>0.07497</td>\n",
              "      <td>0.07112</td>\n",
              "      <td>0.03649</td>\n",
              "      <td>0.02307</td>\n",
              "      <td>0.1846</td>\n",
              "      <td>0.05325</td>\n",
              "      <td>0.2473</td>\n",
              "      <td>0.5679</td>\n",
              "      <td>1.775</td>\n",
              "      <td>22.95</td>\n",
              "      <td>0.002667</td>\n",
              "      <td>0.01446</td>\n",
              "      <td>0.01423</td>\n",
              "      <td>0.005297</td>\n",
              "      <td>0.01961</td>\n",
              "      <td>0.001700</td>\n",
              "      <td>19.180</td>\n",
              "      <td>26.56</td>\n",
              "      <td>127.30</td>\n",
              "      <td>1084.0</td>\n",
              "      <td>0.1009</td>\n",
              "      <td>0.29200</td>\n",
              "      <td>0.2477</td>\n",
              "      <td>0.08737</td>\n",
              "      <td>0.4677</td>\n",
              "      <td>0.07623</td>\n",
              "      <td>0</td>\n",
              "    </tr>\n",
              "  </tbody>\n",
              "</table>\n",
              "</div>"
            ],
            "text/plain": [
              "   radius_2ean  texture_2ean  ...  fractal_di2ension_worst  Class\n",
              "0        8.597         18.60  ...                  0.08116      1\n",
              "1       12.680         23.84  ...                  0.10310      0\n",
              "2       19.210         18.57  ...                  0.08294      0\n",
              "3        9.606         16.84  ...                  0.09825      1\n",
              "4       16.690         20.20  ...                  0.07623      0\n",
              "\n",
              "[5 rows x 31 columns]"
            ]
          },
          "metadata": {
            "tags": []
          },
          "execution_count": 691
        }
      ]
    },
    {
      "cell_type": "code",
      "metadata": {
        "colab": {
          "base_uri": "https://localhost:8080/"
        },
        "id": "Lz74EX4eErCN",
        "outputId": "f34942bb-6367-40b9-b6c6-a672c477d5be"
      },
      "source": [
        "df.shape\n"
      ],
      "execution_count": 692,
      "outputs": [
        {
          "output_type": "execute_result",
          "data": {
            "text/plain": [
              "(455, 31)"
            ]
          },
          "metadata": {
            "tags": []
          },
          "execution_count": 692
        }
      ]
    },
    {
      "cell_type": "code",
      "metadata": {
        "colab": {
          "base_uri": "https://localhost:8080/"
        },
        "id": "bL_JnGhnErCO",
        "outputId": "90fb9305-dab4-460e-a961-5d1574831fa0"
      },
      "source": [
        "rows,columns=test_data.shape\n",
        "columns"
      ],
      "execution_count": 693,
      "outputs": [
        {
          "output_type": "execute_result",
          "data": {
            "text/plain": [
              "31"
            ]
          },
          "metadata": {
            "tags": []
          },
          "execution_count": 693
        }
      ]
    },
    {
      "cell_type": "code",
      "metadata": {
        "id": "u2Mg1EHUErCP"
      },
      "source": [
        "X = df.drop('Class',axis=1)\n",
        "Y = df['Class']\n",
        "res = test_data['Class']\n",
        "test_data = test_data.drop('Class', axis=1)"
      ],
      "execution_count": 694,
      "outputs": []
    },
    {
      "cell_type": "markdown",
      "metadata": {
        "id": "FK2mud0V-S6M"
      },
      "source": [
        "LOGISTIC REGRESSION"
      ]
    },
    {
      "cell_type": "code",
      "metadata": {
        "colab": {
          "base_uri": "https://localhost:8080/"
        },
        "id": "psedwO-cErCQ",
        "outputId": "8a8ffeff-4c63-427e-9e46-75e4139d4227"
      },
      "source": [
        "from sklearn.linear_model import LogisticRegression\n",
        "\n",
        "logreg = LogisticRegression()\n",
        "logreg.fit(X, Y)\n",
        "predicted = logreg.predict(test_data)\n",
        "print('Accuracy of logistic regression classifier on test set: {:.2f}'.format(logreg.score(test_data, res)))"
      ],
      "execution_count": 695,
      "outputs": [
        {
          "output_type": "stream",
          "text": [
            "Accuracy of logistic regression classifier on test set: 0.95\n"
          ],
          "name": "stdout"
        },
        {
          "output_type": "stream",
          "text": [
            "/usr/local/lib/python3.7/dist-packages/sklearn/linear_model/_logistic.py:940: ConvergenceWarning: lbfgs failed to converge (status=1):\n",
            "STOP: TOTAL NO. of ITERATIONS REACHED LIMIT.\n",
            "\n",
            "Increase the number of iterations (max_iter) or scale the data as shown in:\n",
            "    https://scikit-learn.org/stable/modules/preprocessing.html\n",
            "Please also refer to the documentation for alternative solver options:\n",
            "    https://scikit-learn.org/stable/modules/linear_model.html#logistic-regression\n",
            "  extra_warning_msg=_LOGISTIC_SOLVER_CONVERGENCE_MSG)\n"
          ],
          "name": "stderr"
        }
      ]
    },
    {
      "cell_type": "code",
      "metadata": {
        "id": "BddWSIbSlCpq"
      },
      "source": [
        ""
      ],
      "execution_count": 695,
      "outputs": []
    },
    {
      "cell_type": "code",
      "metadata": {
        "colab": {
          "base_uri": "https://localhost:8080/"
        },
        "id": "nsRDGMaNm1UI",
        "outputId": "b65e9d6a-87f1-4c14-c975-057116c91531"
      },
      "source": [
        "report = classification_report(res, predicted)\n",
        "print(report)\n"
      ],
      "execution_count": 696,
      "outputs": [
        {
          "output_type": "stream",
          "text": [
            "              precision    recall  f1-score   support\n",
            "\n",
            "           0       0.93      0.93      0.93        40\n",
            "           1       0.96      0.96      0.96        74\n",
            "\n",
            "    accuracy                           0.95       114\n",
            "   macro avg       0.94      0.94      0.94       114\n",
            "weighted avg       0.95      0.95      0.95       114\n",
            "\n"
          ],
          "name": "stdout"
        }
      ]
    },
    {
      "cell_type": "code",
      "metadata": {
        "colab": {
          "base_uri": "https://localhost:8080/"
        },
        "id": "W6QKRNeFlDJK",
        "outputId": "04494ff3-09be-43a0-928d-c8b2edfe8cb4"
      },
      "source": [
        "ans=confusion_matrix(res,predicted)\n",
        "ans"
      ],
      "execution_count": 697,
      "outputs": [
        {
          "output_type": "execute_result",
          "data": {
            "text/plain": [
              "array([[37,  3],\n",
              "       [ 3, 71]])"
            ]
          },
          "metadata": {
            "tags": []
          },
          "execution_count": 697
        }
      ]
    },
    {
      "cell_type": "code",
      "metadata": {
        "colab": {
          "base_uri": "https://localhost:8080/"
        },
        "id": "IAgrDDuqlIhe",
        "outputId": "5e90ed7c-69bb-4814-b29f-7153653813a6"
      },
      "source": [
        "specificity= ans[0,0]/(ans[0,0]+ans[0,1])\n",
        "specificity"
      ],
      "execution_count": 698,
      "outputs": [
        {
          "output_type": "execute_result",
          "data": {
            "text/plain": [
              "0.925"
            ]
          },
          "metadata": {
            "tags": []
          },
          "execution_count": 698
        }
      ]
    },
    {
      "cell_type": "code",
      "metadata": {
        "colab": {
          "base_uri": "https://localhost:8080/"
        },
        "id": "hX83yHwrlMhc",
        "outputId": "dbdd75e1-97a0-404d-faf2-2d1d7d364692"
      },
      "source": [
        "hamming_loss = metrics.hamming_loss(res, predicted)\n",
        "hamming_loss "
      ],
      "execution_count": 699,
      "outputs": [
        {
          "output_type": "execute_result",
          "data": {
            "text/plain": [
              "0.05263157894736842"
            ]
          },
          "metadata": {
            "tags": []
          },
          "execution_count": 699
        }
      ]
    },
    {
      "cell_type": "code",
      "metadata": {
        "colab": {
          "base_uri": "https://localhost:8080/"
        },
        "id": "83SeW0qrlTr5",
        "outputId": "82704619-8587-431d-e671-12ecd51c200d"
      },
      "source": [
        "Cross_entropy_loss = metrics.log_loss(res, predicted)\n",
        "cross_entropy_loss "
      ],
      "execution_count": 700,
      "outputs": [
        {
          "output_type": "execute_result",
          "data": {
            "text/plain": [
              "4.763969157918715"
            ]
          },
          "metadata": {
            "tags": []
          },
          "execution_count": 700
        }
      ]
    },
    {
      "cell_type": "markdown",
      "metadata": {
        "id": "O3ukrt-Zr9sy"
      },
      "source": [
        "DECISION TREE\n"
      ]
    },
    {
      "cell_type": "code",
      "metadata": {
        "colab": {
          "base_uri": "https://localhost:8080/"
        },
        "id": "wVFFkW9TErCR",
        "outputId": "41ec3d08-3781-43b2-8029-eabad3b66d37"
      },
      "source": [
        "from sklearn.tree import DecisionTreeClassifier\n",
        "DTClassifier= DecisionTreeClassifier(criterion='entropy', random_state=1)\n",
        "DTClassifier.fit(X,Y)\n",
        "print('Accuracy of logistic decision tree classifier on test set: {:.2f}'.format(DTClassifier.score(test_data, res)))"
      ],
      "execution_count": 701,
      "outputs": [
        {
          "output_type": "stream",
          "text": [
            "Accuracy of logistic decision tree classifier on test set: 0.95\n"
          ],
          "name": "stdout"
        }
      ]
    },
    {
      "cell_type": "code",
      "metadata": {
        "colab": {
          "base_uri": "https://localhost:8080/"
        },
        "id": "uB-ghzgwsUER",
        "outputId": "7b83d88c-da3e-4778-9e4a-422d1e8eae48"
      },
      "source": [
        "predicted = DTClassifier.predict(test_data)\n",
        "report = classification_report(res, predicted)\n",
        "print(report)\n"
      ],
      "execution_count": 702,
      "outputs": [
        {
          "output_type": "stream",
          "text": [
            "              precision    recall  f1-score   support\n",
            "\n",
            "           0       0.90      0.95      0.93        40\n",
            "           1       0.97      0.95      0.96        74\n",
            "\n",
            "    accuracy                           0.95       114\n",
            "   macro avg       0.94      0.95      0.94       114\n",
            "weighted avg       0.95      0.95      0.95       114\n",
            "\n"
          ],
          "name": "stdout"
        }
      ]
    },
    {
      "cell_type": "code",
      "metadata": {
        "colab": {
          "base_uri": "https://localhost:8080/"
        },
        "id": "XPAtqCkRlmWO",
        "outputId": "5ebf77f9-146e-4fa3-b460-26d2e7475670"
      },
      "source": [
        "ans=confusion_matrix(res,predicted)\n",
        "ans"
      ],
      "execution_count": 703,
      "outputs": [
        {
          "output_type": "execute_result",
          "data": {
            "text/plain": [
              "array([[38,  2],\n",
              "       [ 4, 70]])"
            ]
          },
          "metadata": {
            "tags": []
          },
          "execution_count": 703
        }
      ]
    },
    {
      "cell_type": "code",
      "metadata": {
        "colab": {
          "base_uri": "https://localhost:8080/"
        },
        "id": "jkkvopfRlqqg",
        "outputId": "9bf0e35c-8db6-4a06-e0b1-63c637f24dbe"
      },
      "source": [
        "specificity= ans[0,0]/(ans[0,0]+ans[0,1])\n",
        "specificity"
      ],
      "execution_count": 704,
      "outputs": [
        {
          "output_type": "execute_result",
          "data": {
            "text/plain": [
              "0.95"
            ]
          },
          "metadata": {
            "tags": []
          },
          "execution_count": 704
        }
      ]
    },
    {
      "cell_type": "code",
      "metadata": {
        "colab": {
          "base_uri": "https://localhost:8080/"
        },
        "id": "IpJLR-2TltQy",
        "outputId": "dd807fea-d7f6-4ab8-ddb4-0b928eabcec2"
      },
      "source": [
        "hamming_loss = metrics.hamming_loss(res, predicted)\n",
        "hamming_loss "
      ],
      "execution_count": 705,
      "outputs": [
        {
          "output_type": "execute_result",
          "data": {
            "text/plain": [
              "0.05263157894736842"
            ]
          },
          "metadata": {
            "tags": []
          },
          "execution_count": 705
        }
      ]
    },
    {
      "cell_type": "code",
      "metadata": {
        "colab": {
          "base_uri": "https://localhost:8080/"
        },
        "id": "frMKGVBZlvbj",
        "outputId": "58263e2d-2b8f-4ff5-8775-ef0316661a3c"
      },
      "source": [
        "Cross_entropy_loss = metrics.log_loss(res, predicted)\n",
        "cross_entropy_loss "
      ],
      "execution_count": 706,
      "outputs": [
        {
          "output_type": "execute_result",
          "data": {
            "text/plain": [
              "4.763969157918715"
            ]
          },
          "metadata": {
            "tags": []
          },
          "execution_count": 706
        }
      ]
    },
    {
      "cell_type": "markdown",
      "metadata": {
        "id": "fwYhXS6VsWWJ"
      },
      "source": [
        "NAIVE BAYES"
      ]
    },
    {
      "cell_type": "code",
      "metadata": {
        "colab": {
          "base_uri": "https://localhost:8080/"
        },
        "id": "8-9WQXkcErCS",
        "outputId": "a36dd5b9-6930-41b4-f6a1-9f04ac69b842"
      },
      "source": [
        "from sklearn.naive_bayes import GaussianNB\n",
        "\n",
        "model = GaussianNB()\n",
        "model.fit(X,Y)\n",
        "print('Accuracy of naive bayes classifier on test set: {:.2f}'.format(model.score(test_data, res)))\n",
        "predicted = model.predict(test_data)\n",
        "report = classification_report(res, predicted)\n",
        "print(report)"
      ],
      "execution_count": 707,
      "outputs": [
        {
          "output_type": "stream",
          "text": [
            "Accuracy of naive bayes classifier on test set: 0.94\n",
            "              precision    recall  f1-score   support\n",
            "\n",
            "           0       0.95      0.88      0.91        40\n",
            "           1       0.94      0.97      0.95        74\n",
            "\n",
            "    accuracy                           0.94       114\n",
            "   macro avg       0.94      0.92      0.93       114\n",
            "weighted avg       0.94      0.94      0.94       114\n",
            "\n"
          ],
          "name": "stdout"
        }
      ]
    },
    {
      "cell_type": "code",
      "metadata": {
        "colab": {
          "base_uri": "https://localhost:8080/"
        },
        "id": "QynEQW3bl4-4",
        "outputId": "1901fa7a-f228-4efb-c631-5216860b626d"
      },
      "source": [
        "ans=confusion_matrix(res,predicted)\n",
        "ans"
      ],
      "execution_count": 708,
      "outputs": [
        {
          "output_type": "execute_result",
          "data": {
            "text/plain": [
              "array([[35,  5],\n",
              "       [ 2, 72]])"
            ]
          },
          "metadata": {
            "tags": []
          },
          "execution_count": 708
        }
      ]
    },
    {
      "cell_type": "code",
      "metadata": {
        "colab": {
          "base_uri": "https://localhost:8080/"
        },
        "id": "9MtmIHuCl2YX",
        "outputId": "7738ee83-93d9-4194-91e8-a26792fc1364"
      },
      "source": [
        "specificity= ans[0,0]/(ans[0,0]+ans[0,1])\n",
        "specificity"
      ],
      "execution_count": 709,
      "outputs": [
        {
          "output_type": "execute_result",
          "data": {
            "text/plain": [
              "0.875"
            ]
          },
          "metadata": {
            "tags": []
          },
          "execution_count": 709
        }
      ]
    },
    {
      "cell_type": "code",
      "metadata": {
        "id": "GUirkueRmDYs"
      },
      "source": [
        ""
      ],
      "execution_count": 709,
      "outputs": []
    },
    {
      "cell_type": "code",
      "metadata": {
        "colab": {
          "base_uri": "https://localhost:8080/"
        },
        "id": "4mJlpBhplzZ0",
        "outputId": "37b0bbfb-efce-4596-8d24-2ca68689f815"
      },
      "source": [
        "hamming_loss = metrics.hamming_loss(res, predicted)\n",
        "hamming_loss "
      ],
      "execution_count": 710,
      "outputs": [
        {
          "output_type": "execute_result",
          "data": {
            "text/plain": [
              "0.06140350877192982"
            ]
          },
          "metadata": {
            "tags": []
          },
          "execution_count": 710
        }
      ]
    },
    {
      "cell_type": "code",
      "metadata": {
        "colab": {
          "base_uri": "https://localhost:8080/"
        },
        "id": "5X00rq99lw5C",
        "outputId": "1dcf63f1-1a84-4291-d5e2-a5d264c6634c"
      },
      "source": [
        "Cross_entropy_loss = metrics.log_loss(res, predicted)\n",
        "cross_entropy_loss "
      ],
      "execution_count": 711,
      "outputs": [
        {
          "output_type": "execute_result",
          "data": {
            "text/plain": [
              "4.763969157918715"
            ]
          },
          "metadata": {
            "tags": []
          },
          "execution_count": 711
        }
      ]
    },
    {
      "cell_type": "markdown",
      "metadata": {
        "id": "5AbWlvNnsmyH"
      },
      "source": [
        "SVM"
      ]
    },
    {
      "cell_type": "code",
      "metadata": {
        "colab": {
          "base_uri": "https://localhost:8080/"
        },
        "id": "8nxkm7PIErCU",
        "outputId": "0109eabd-f1a6-4f04-9e86-9fb6b73b6164"
      },
      "source": [
        "from sklearn.svm import SVC\n",
        "\n",
        "svcclassifier = SVC(kernel='sigmoid')\n",
        "svcclassifier.fit(X,Y)\n",
        "print('Accuracy of SVM classifier on test set: : {:.2f}'.format(svcclassifier.score(test_data,res)))\n",
        "predicted = svcclassifier.predict(test_data)\n",
        "report = classification_report(res, predicted)\n",
        "print(report)"
      ],
      "execution_count": 712,
      "outputs": [
        {
          "output_type": "stream",
          "text": [
            "Accuracy of SVM classifier on test set: : 0.44\n",
            "              precision    recall  f1-score   support\n",
            "\n",
            "           0       0.17      0.15      0.16        40\n",
            "           1       0.56      0.59      0.58        74\n",
            "\n",
            "    accuracy                           0.44       114\n",
            "   macro avg       0.37      0.37      0.37       114\n",
            "weighted avg       0.42      0.44      0.43       114\n",
            "\n"
          ],
          "name": "stdout"
        }
      ]
    },
    {
      "cell_type": "code",
      "metadata": {
        "colab": {
          "base_uri": "https://localhost:8080/"
        },
        "id": "onQRLWCal_KV",
        "outputId": "a3750702-e7fc-496f-e9f8-46bda47064f3"
      },
      "source": [
        "ans=confusion_matrix(res,predicted)\n",
        "ans"
      ],
      "execution_count": 713,
      "outputs": [
        {
          "output_type": "execute_result",
          "data": {
            "text/plain": [
              "array([[ 6, 34],\n",
              "       [30, 44]])"
            ]
          },
          "metadata": {
            "tags": []
          },
          "execution_count": 713
        }
      ]
    },
    {
      "cell_type": "code",
      "metadata": {
        "colab": {
          "base_uri": "https://localhost:8080/"
        },
        "id": "R2kAdzdsmHO4",
        "outputId": "850321d3-16c7-4fa9-a771-c74da9ef8e30"
      },
      "source": [
        "specificity= ans[0,0]/(ans[0,0]+ans[0,1])\n",
        "specificity"
      ],
      "execution_count": 714,
      "outputs": [
        {
          "output_type": "execute_result",
          "data": {
            "text/plain": [
              "0.15"
            ]
          },
          "metadata": {
            "tags": []
          },
          "execution_count": 714
        }
      ]
    },
    {
      "cell_type": "code",
      "metadata": {
        "colab": {
          "base_uri": "https://localhost:8080/"
        },
        "id": "2y_7NHuYmOOo",
        "outputId": "1a878d22-167a-4bb8-9cdc-403a1348847a"
      },
      "source": [
        "hamming_loss = metrics.hamming_loss(res, predicted)\n",
        "hamming_loss "
      ],
      "execution_count": 715,
      "outputs": [
        {
          "output_type": "execute_result",
          "data": {
            "text/plain": [
              "0.5614035087719298"
            ]
          },
          "metadata": {
            "tags": []
          },
          "execution_count": 715
        }
      ]
    },
    {
      "cell_type": "code",
      "metadata": {
        "colab": {
          "base_uri": "https://localhost:8080/"
        },
        "id": "yMENUecemWfA",
        "outputId": "7818ca5f-30a4-4243-b17c-bc22d5dd51ae"
      },
      "source": [
        "Cross_entropy_loss = metrics.log_loss(res, predicted)\n",
        "cross_entropy_loss "
      ],
      "execution_count": 716,
      "outputs": [
        {
          "output_type": "execute_result",
          "data": {
            "text/plain": [
              "4.763969157918715"
            ]
          },
          "metadata": {
            "tags": []
          },
          "execution_count": 716
        }
      ]
    },
    {
      "cell_type": "markdown",
      "metadata": {
        "id": "in96qxQNsw0B"
      },
      "source": [
        "NEURAL NETWORK"
      ]
    },
    {
      "cell_type": "code",
      "metadata": {
        "colab": {
          "base_uri": "https://localhost:8080/"
        },
        "id": "gtP2okqiErCV",
        "outputId": "181c9d04-1355-481c-dc4e-56ebbf7a896b"
      },
      "source": [
        "from sklearn.neural_network import MLPClassifier\n",
        "\n",
        "clf = MLPClassifier(solver='lbfgs', alpha=1e-5,hidden_layer_sizes=(5, 2), random_state=1)\n",
        "clf.fit(X, Y)\n",
        "print('Accuracy of MLP classifier on test set: : {:.2f}'.format(clf.score(test_data,res)))\n",
        "predicted = clf.predict(test_data)\n",
        "report = classification_report(res, predicted)\n",
        "print(report)"
      ],
      "execution_count": 717,
      "outputs": [
        {
          "output_type": "stream",
          "text": [
            "Accuracy of MLP classifier on test set: : 0.35\n",
            "              precision    recall  f1-score   support\n",
            "\n",
            "           0       0.35      1.00      0.52        40\n",
            "           1       0.00      0.00      0.00        74\n",
            "\n",
            "    accuracy                           0.35       114\n",
            "   macro avg       0.18      0.50      0.26       114\n",
            "weighted avg       0.12      0.35      0.18       114\n",
            "\n"
          ],
          "name": "stdout"
        },
        {
          "output_type": "stream",
          "text": [
            "/usr/local/lib/python3.7/dist-packages/sklearn/metrics/_classification.py:1272: UndefinedMetricWarning: Precision and F-score are ill-defined and being set to 0.0 in labels with no predicted samples. Use `zero_division` parameter to control this behavior.\n",
            "  _warn_prf(average, modifier, msg_start, len(result))\n"
          ],
          "name": "stderr"
        }
      ]
    },
    {
      "cell_type": "code",
      "metadata": {
        "colab": {
          "base_uri": "https://localhost:8080/"
        },
        "id": "t5pNs1IemAE7",
        "outputId": "631e3ff9-3925-4540-dc48-783f36185895"
      },
      "source": [
        "ans=confusion_matrix(res,predicted)\n",
        "ans"
      ],
      "execution_count": 718,
      "outputs": [
        {
          "output_type": "execute_result",
          "data": {
            "text/plain": [
              "array([[40,  0],\n",
              "       [74,  0]])"
            ]
          },
          "metadata": {
            "tags": []
          },
          "execution_count": 718
        }
      ]
    },
    {
      "cell_type": "code",
      "metadata": {
        "colab": {
          "base_uri": "https://localhost:8080/"
        },
        "id": "hLt0LCqJmISM",
        "outputId": "f0e18048-8bd7-4bab-fc4d-244ca9a33e52"
      },
      "source": [
        "specificity= ans[0,0]/(ans[0,0]+ans[0,1])\n",
        "specificity"
      ],
      "execution_count": 719,
      "outputs": [
        {
          "output_type": "execute_result",
          "data": {
            "text/plain": [
              "1.0"
            ]
          },
          "metadata": {
            "tags": []
          },
          "execution_count": 719
        }
      ]
    },
    {
      "cell_type": "code",
      "metadata": {
        "colab": {
          "base_uri": "https://localhost:8080/"
        },
        "id": "VbLvpUAymPPz",
        "outputId": "d602b17f-87fb-4c16-b85d-e4e533a238cc"
      },
      "source": [
        "hamming_loss = metrics.hamming_loss(res, predicted)\n",
        "hamming_loss "
      ],
      "execution_count": 720,
      "outputs": [
        {
          "output_type": "execute_result",
          "data": {
            "text/plain": [
              "0.6491228070175439"
            ]
          },
          "metadata": {
            "tags": []
          },
          "execution_count": 720
        }
      ]
    },
    {
      "cell_type": "code",
      "metadata": {
        "colab": {
          "base_uri": "https://localhost:8080/"
        },
        "id": "IYinlas0mXWN",
        "outputId": "26a62c9b-1151-45ef-efe1-b116f5f9d5a2"
      },
      "source": [
        "Cross_entropy_loss = metrics.log_loss(res, predicted)\n",
        "cross_entropy_loss "
      ],
      "execution_count": 721,
      "outputs": [
        {
          "output_type": "execute_result",
          "data": {
            "text/plain": [
              "4.763969157918715"
            ]
          },
          "metadata": {
            "tags": []
          },
          "execution_count": 721
        }
      ]
    },
    {
      "cell_type": "markdown",
      "metadata": {
        "id": "zRYmxeeytigL"
      },
      "source": [
        "RANDOM FOREST"
      ]
    },
    {
      "cell_type": "code",
      "metadata": {
        "colab": {
          "base_uri": "https://localhost:8080/"
        },
        "id": "g4DUnnlaErCX",
        "outputId": "723bc708-6a23-488e-ccd3-4b34b5293275"
      },
      "source": [
        "from sklearn.ensemble import RandomForestClassifier\n",
        "\n",
        "clf = RandomForestClassifier(n_estimators=10)\n",
        "clf = clf.fit(X, Y)\n",
        "print('Accuracy of Random Forest classifier on test set: : {:.2f}'.format(clf.score(test_data,res)))\n",
        "predicted = clf.predict(test_data)\n",
        "report = classification_report(res, predicted)\n",
        "print(report)"
      ],
      "execution_count": 722,
      "outputs": [
        {
          "output_type": "stream",
          "text": [
            "Accuracy of Random Forest classifier on test set: : 0.98\n",
            "              precision    recall  f1-score   support\n",
            "\n",
            "           0       0.95      1.00      0.98        40\n",
            "           1       1.00      0.97      0.99        74\n",
            "\n",
            "    accuracy                           0.98       114\n",
            "   macro avg       0.98      0.99      0.98       114\n",
            "weighted avg       0.98      0.98      0.98       114\n",
            "\n"
          ],
          "name": "stdout"
        }
      ]
    },
    {
      "cell_type": "code",
      "metadata": {
        "colab": {
          "base_uri": "https://localhost:8080/"
        },
        "id": "vSz5GAMbmA3G",
        "outputId": "36de53df-aee5-4608-d2a3-92da39bfb359"
      },
      "source": [
        "ans=confusion_matrix(res,predicted)\n",
        "ans"
      ],
      "execution_count": 723,
      "outputs": [
        {
          "output_type": "execute_result",
          "data": {
            "text/plain": [
              "array([[40,  0],\n",
              "       [ 2, 72]])"
            ]
          },
          "metadata": {
            "tags": []
          },
          "execution_count": 723
        }
      ]
    },
    {
      "cell_type": "code",
      "metadata": {
        "colab": {
          "base_uri": "https://localhost:8080/"
        },
        "id": "V89vM5n1mJNu",
        "outputId": "91a1093e-f9a3-455b-dc7c-ceeaec35161b"
      },
      "source": [
        "specificity= ans[0,0]/(ans[0,0]+ans[0,1])\n",
        "specificity"
      ],
      "execution_count": 724,
      "outputs": [
        {
          "output_type": "execute_result",
          "data": {
            "text/plain": [
              "1.0"
            ]
          },
          "metadata": {
            "tags": []
          },
          "execution_count": 724
        }
      ]
    },
    {
      "cell_type": "code",
      "metadata": {
        "colab": {
          "base_uri": "https://localhost:8080/"
        },
        "id": "Q3JL3MNVmQDd",
        "outputId": "f14d45ee-1ef4-4ebe-d3db-2309ff6af371"
      },
      "source": [
        "hamming_loss = metrics.hamming_loss(res, predicted)\n",
        "hamming_loss "
      ],
      "execution_count": 725,
      "outputs": [
        {
          "output_type": "execute_result",
          "data": {
            "text/plain": [
              "0.017543859649122806"
            ]
          },
          "metadata": {
            "tags": []
          },
          "execution_count": 725
        }
      ]
    },
    {
      "cell_type": "code",
      "metadata": {
        "colab": {
          "base_uri": "https://localhost:8080/"
        },
        "id": "XtLK997tmYX9",
        "outputId": "d0954ecd-ea62-4adc-e64c-93fa7e22f29a"
      },
      "source": [
        "Cross_entropy_loss = metrics.log_loss(res, predicted)\n",
        "cross_entropy_loss "
      ],
      "execution_count": 726,
      "outputs": [
        {
          "output_type": "execute_result",
          "data": {
            "text/plain": [
              "4.763969157918715"
            ]
          },
          "metadata": {
            "tags": []
          },
          "execution_count": 726
        }
      ]
    },
    {
      "cell_type": "markdown",
      "metadata": {
        "id": "m4nSYm_1uXFW"
      },
      "source": [
        "LINEAR MODEL"
      ]
    },
    {
      "cell_type": "code",
      "metadata": {
        "colab": {
          "base_uri": "https://localhost:8080/"
        },
        "id": "byZM1XgqErCZ",
        "outputId": "7a2c3bab-4066-445d-b479-b220de64b4e1"
      },
      "source": [
        "from sklearn.linear_model import SGDClassifier\n",
        "\n",
        "clf = SGDClassifier(loss=\"hinge\", penalty=\"l2\", max_iter=5)\n",
        "clf.fit(X, Y)\n",
        "print('Accuracy of Random Forest classifier on test set: : {:.2f}'.format(clf.score(test_data,res)))\n",
        "predicted = clf.predict(test_data)\n",
        "report = classification_report(res, predicted)\n",
        "print(report)"
      ],
      "execution_count": 727,
      "outputs": [
        {
          "output_type": "stream",
          "text": [
            "Accuracy of Random Forest classifier on test set: : 0.88\n"
          ],
          "name": "stdout"
        },
        {
          "output_type": "stream",
          "text": [
            "/usr/local/lib/python3.7/dist-packages/sklearn/linear_model/_stochastic_gradient.py:557: ConvergenceWarning: Maximum number of iteration reached before convergence. Consider increasing max_iter to improve the fit.\n",
            "  ConvergenceWarning)\n"
          ],
          "name": "stderr"
        },
        {
          "output_type": "stream",
          "text": [
            "              precision    recall  f1-score   support\n",
            "\n",
            "           0       0.96      0.68      0.79        40\n",
            "           1       0.85      0.99      0.91        74\n",
            "\n",
            "    accuracy                           0.88       114\n",
            "   macro avg       0.91      0.83      0.85       114\n",
            "weighted avg       0.89      0.88      0.87       114\n",
            "\n"
          ],
          "name": "stdout"
        }
      ]
    },
    {
      "cell_type": "code",
      "metadata": {
        "colab": {
          "base_uri": "https://localhost:8080/"
        },
        "id": "Yg0kUMcXmBjk",
        "outputId": "36d8f7d7-4d97-491b-87b9-b4fd6dd66a01"
      },
      "source": [
        "ans=confusion_matrix(res,predicted)\n",
        "ans"
      ],
      "execution_count": 728,
      "outputs": [
        {
          "output_type": "execute_result",
          "data": {
            "text/plain": [
              "array([[27, 13],\n",
              "       [ 1, 73]])"
            ]
          },
          "metadata": {
            "tags": []
          },
          "execution_count": 728
        }
      ]
    },
    {
      "cell_type": "code",
      "metadata": {
        "colab": {
          "base_uri": "https://localhost:8080/"
        },
        "id": "e9tYu0gHmKMf",
        "outputId": "be6697b8-3e2d-4b33-9923-35e1b445a56a"
      },
      "source": [
        "specificity= ans[0,0]/(ans[0,0]+ans[0,1])\n",
        "specificity"
      ],
      "execution_count": 729,
      "outputs": [
        {
          "output_type": "execute_result",
          "data": {
            "text/plain": [
              "0.675"
            ]
          },
          "metadata": {
            "tags": []
          },
          "execution_count": 729
        }
      ]
    },
    {
      "cell_type": "code",
      "metadata": {
        "colab": {
          "base_uri": "https://localhost:8080/"
        },
        "id": "LCPbGjFOmRFj",
        "outputId": "11e3cf73-db00-4339-f916-d117020b3ce6"
      },
      "source": [
        "hamming_loss = metrics.hamming_loss(res, predicted)\n",
        "hamming_loss "
      ],
      "execution_count": 730,
      "outputs": [
        {
          "output_type": "execute_result",
          "data": {
            "text/plain": [
              "0.12280701754385964"
            ]
          },
          "metadata": {
            "tags": []
          },
          "execution_count": 730
        }
      ]
    },
    {
      "cell_type": "code",
      "metadata": {
        "colab": {
          "base_uri": "https://localhost:8080/"
        },
        "id": "5MG-NA0VmZUM",
        "outputId": "fd2ab497-42ce-48c7-dfdf-12fb68eedbe9"
      },
      "source": [
        "cross_entropy_loss = metrics.log_loss(res, predicted)\n",
        "cross_entropy_loss "
      ],
      "execution_count": 731,
      "outputs": [
        {
          "output_type": "execute_result",
          "data": {
            "text/plain": [
              "4.2416953008363345"
            ]
          },
          "metadata": {
            "tags": []
          },
          "execution_count": 731
        }
      ]
    },
    {
      "cell_type": "markdown",
      "metadata": {
        "id": "RgDOmwc_ulIc"
      },
      "source": [
        "# HEART DATA SET"
      ]
    },
    {
      "cell_type": "code",
      "metadata": {
        "colab": {
          "base_uri": "https://localhost:8080/",
          "height": 204
        },
        "id": "2SwdT3-LErCa",
        "outputId": "f328f8ba-88c0-482e-8af6-26fee1aeeacb"
      },
      "source": [
        "df = pd.read_csv('HEART_TRAIN.csv')\n",
        "df.head()"
      ],
      "execution_count": 732,
      "outputs": [
        {
          "output_type": "execute_result",
          "data": {
            "text/html": [
              "<div>\n",
              "<style scoped>\n",
              "    .dataframe tbody tr th:only-of-type {\n",
              "        vertical-align: middle;\n",
              "    }\n",
              "\n",
              "    .dataframe tbody tr th {\n",
              "        vertical-align: top;\n",
              "    }\n",
              "\n",
              "    .dataframe thead th {\n",
              "        text-align: right;\n",
              "    }\n",
              "</style>\n",
              "<table border=\"1\" class=\"dataframe\">\n",
              "  <thead>\n",
              "    <tr style=\"text-align: right;\">\n",
              "      <th></th>\n",
              "      <th>age</th>\n",
              "      <th>sex</th>\n",
              "      <th>cp</th>\n",
              "      <th>trestbps</th>\n",
              "      <th>chol</th>\n",
              "      <th>fbs</th>\n",
              "      <th>restecg</th>\n",
              "      <th>thalach</th>\n",
              "      <th>exang</th>\n",
              "      <th>oldpeak</th>\n",
              "      <th>slope</th>\n",
              "      <th>ca</th>\n",
              "      <th>thal</th>\n",
              "      <th>Class</th>\n",
              "    </tr>\n",
              "  </thead>\n",
              "  <tbody>\n",
              "    <tr>\n",
              "      <th>0</th>\n",
              "      <td>41</td>\n",
              "      <td>0</td>\n",
              "      <td>1</td>\n",
              "      <td>105</td>\n",
              "      <td>198</td>\n",
              "      <td>0</td>\n",
              "      <td>1</td>\n",
              "      <td>168</td>\n",
              "      <td>0</td>\n",
              "      <td>0.0</td>\n",
              "      <td>2</td>\n",
              "      <td>1</td>\n",
              "      <td>2</td>\n",
              "      <td>1</td>\n",
              "    </tr>\n",
              "    <tr>\n",
              "      <th>1</th>\n",
              "      <td>64</td>\n",
              "      <td>1</td>\n",
              "      <td>0</td>\n",
              "      <td>120</td>\n",
              "      <td>246</td>\n",
              "      <td>0</td>\n",
              "      <td>0</td>\n",
              "      <td>96</td>\n",
              "      <td>1</td>\n",
              "      <td>2.2</td>\n",
              "      <td>0</td>\n",
              "      <td>1</td>\n",
              "      <td>2</td>\n",
              "      <td>0</td>\n",
              "    </tr>\n",
              "    <tr>\n",
              "      <th>2</th>\n",
              "      <td>62</td>\n",
              "      <td>0</td>\n",
              "      <td>0</td>\n",
              "      <td>124</td>\n",
              "      <td>209</td>\n",
              "      <td>0</td>\n",
              "      <td>1</td>\n",
              "      <td>163</td>\n",
              "      <td>0</td>\n",
              "      <td>0.0</td>\n",
              "      <td>2</td>\n",
              "      <td>0</td>\n",
              "      <td>2</td>\n",
              "      <td>1</td>\n",
              "    </tr>\n",
              "    <tr>\n",
              "      <th>3</th>\n",
              "      <td>45</td>\n",
              "      <td>0</td>\n",
              "      <td>1</td>\n",
              "      <td>112</td>\n",
              "      <td>160</td>\n",
              "      <td>0</td>\n",
              "      <td>1</td>\n",
              "      <td>138</td>\n",
              "      <td>0</td>\n",
              "      <td>0.0</td>\n",
              "      <td>1</td>\n",
              "      <td>0</td>\n",
              "      <td>2</td>\n",
              "      <td>1</td>\n",
              "    </tr>\n",
              "    <tr>\n",
              "      <th>4</th>\n",
              "      <td>39</td>\n",
              "      <td>0</td>\n",
              "      <td>2</td>\n",
              "      <td>94</td>\n",
              "      <td>199</td>\n",
              "      <td>0</td>\n",
              "      <td>1</td>\n",
              "      <td>179</td>\n",
              "      <td>0</td>\n",
              "      <td>0.0</td>\n",
              "      <td>2</td>\n",
              "      <td>0</td>\n",
              "      <td>2</td>\n",
              "      <td>1</td>\n",
              "    </tr>\n",
              "  </tbody>\n",
              "</table>\n",
              "</div>"
            ],
            "text/plain": [
              "   age  sex  cp  trestbps  chol  fbs  ...  exang  oldpeak  slope  ca  thal  Class\n",
              "0   41    0   1       105   198    0  ...      0      0.0      2   1     2      1\n",
              "1   64    1   0       120   246    0  ...      1      2.2      0   1     2      0\n",
              "2   62    0   0       124   209    0  ...      0      0.0      2   0     2      1\n",
              "3   45    0   1       112   160    0  ...      0      0.0      1   0     2      1\n",
              "4   39    0   2        94   199    0  ...      0      0.0      2   0     2      1\n",
              "\n",
              "[5 rows x 14 columns]"
            ]
          },
          "metadata": {
            "tags": []
          },
          "execution_count": 732
        }
      ]
    },
    {
      "cell_type": "code",
      "metadata": {
        "colab": {
          "base_uri": "https://localhost:8080/",
          "height": 204
        },
        "id": "aU1ekmLLErCf",
        "outputId": "aa0bbbfa-229a-4901-cad2-edbbefda86d1"
      },
      "source": [
        "test_data = pd.read_csv('HEART_TEST.csv')\n",
        "test_data.head()"
      ],
      "execution_count": 733,
      "outputs": [
        {
          "output_type": "execute_result",
          "data": {
            "text/html": [
              "<div>\n",
              "<style scoped>\n",
              "    .dataframe tbody tr th:only-of-type {\n",
              "        vertical-align: middle;\n",
              "    }\n",
              "\n",
              "    .dataframe tbody tr th {\n",
              "        vertical-align: top;\n",
              "    }\n",
              "\n",
              "    .dataframe thead th {\n",
              "        text-align: right;\n",
              "    }\n",
              "</style>\n",
              "<table border=\"1\" class=\"dataframe\">\n",
              "  <thead>\n",
              "    <tr style=\"text-align: right;\">\n",
              "      <th></th>\n",
              "      <th>age</th>\n",
              "      <th>sex</th>\n",
              "      <th>cp</th>\n",
              "      <th>trestbps</th>\n",
              "      <th>chol</th>\n",
              "      <th>fbs</th>\n",
              "      <th>restecg</th>\n",
              "      <th>thalach</th>\n",
              "      <th>exang</th>\n",
              "      <th>oldpeak</th>\n",
              "      <th>slope</th>\n",
              "      <th>ca</th>\n",
              "      <th>thal</th>\n",
              "      <th>Class</th>\n",
              "    </tr>\n",
              "  </thead>\n",
              "  <tbody>\n",
              "    <tr>\n",
              "      <th>0</th>\n",
              "      <td>59</td>\n",
              "      <td>1</td>\n",
              "      <td>0</td>\n",
              "      <td>164</td>\n",
              "      <td>176</td>\n",
              "      <td>1</td>\n",
              "      <td>0</td>\n",
              "      <td>90</td>\n",
              "      <td>0</td>\n",
              "      <td>1.0</td>\n",
              "      <td>1</td>\n",
              "      <td>2</td>\n",
              "      <td>1</td>\n",
              "      <td>0</td>\n",
              "    </tr>\n",
              "    <tr>\n",
              "      <th>1</th>\n",
              "      <td>58</td>\n",
              "      <td>1</td>\n",
              "      <td>0</td>\n",
              "      <td>150</td>\n",
              "      <td>270</td>\n",
              "      <td>0</td>\n",
              "      <td>0</td>\n",
              "      <td>111</td>\n",
              "      <td>1</td>\n",
              "      <td>0.8</td>\n",
              "      <td>2</td>\n",
              "      <td>0</td>\n",
              "      <td>3</td>\n",
              "      <td>0</td>\n",
              "    </tr>\n",
              "    <tr>\n",
              "      <th>2</th>\n",
              "      <td>52</td>\n",
              "      <td>1</td>\n",
              "      <td>1</td>\n",
              "      <td>134</td>\n",
              "      <td>201</td>\n",
              "      <td>0</td>\n",
              "      <td>1</td>\n",
              "      <td>158</td>\n",
              "      <td>0</td>\n",
              "      <td>0.8</td>\n",
              "      <td>2</td>\n",
              "      <td>1</td>\n",
              "      <td>2</td>\n",
              "      <td>1</td>\n",
              "    </tr>\n",
              "    <tr>\n",
              "      <th>3</th>\n",
              "      <td>58</td>\n",
              "      <td>1</td>\n",
              "      <td>0</td>\n",
              "      <td>125</td>\n",
              "      <td>300</td>\n",
              "      <td>0</td>\n",
              "      <td>0</td>\n",
              "      <td>171</td>\n",
              "      <td>0</td>\n",
              "      <td>0.0</td>\n",
              "      <td>2</td>\n",
              "      <td>2</td>\n",
              "      <td>3</td>\n",
              "      <td>0</td>\n",
              "    </tr>\n",
              "    <tr>\n",
              "      <th>4</th>\n",
              "      <td>65</td>\n",
              "      <td>1</td>\n",
              "      <td>0</td>\n",
              "      <td>110</td>\n",
              "      <td>248</td>\n",
              "      <td>0</td>\n",
              "      <td>0</td>\n",
              "      <td>158</td>\n",
              "      <td>0</td>\n",
              "      <td>0.6</td>\n",
              "      <td>2</td>\n",
              "      <td>2</td>\n",
              "      <td>1</td>\n",
              "      <td>0</td>\n",
              "    </tr>\n",
              "  </tbody>\n",
              "</table>\n",
              "</div>"
            ],
            "text/plain": [
              "   age  sex  cp  trestbps  chol  fbs  ...  exang  oldpeak  slope  ca  thal  Class\n",
              "0   59    1   0       164   176    1  ...      0      1.0      1   2     1      0\n",
              "1   58    1   0       150   270    0  ...      1      0.8      2   0     3      0\n",
              "2   52    1   1       134   201    0  ...      0      0.8      2   1     2      1\n",
              "3   58    1   0       125   300    0  ...      0      0.0      2   2     3      0\n",
              "4   65    1   0       110   248    0  ...      0      0.6      2   2     1      0\n",
              "\n",
              "[5 rows x 14 columns]"
            ]
          },
          "metadata": {
            "tags": []
          },
          "execution_count": 733
        }
      ]
    },
    {
      "cell_type": "code",
      "metadata": {
        "id": "jvfIbl4jErCg"
      },
      "source": [
        "X = df.drop('Class',axis=1)\n",
        "Y = df['Class']\n",
        "res = test_data['Class']\n",
        "test_data = test_data.drop('Class', axis=1)"
      ],
      "execution_count": 734,
      "outputs": []
    },
    {
      "cell_type": "markdown",
      "metadata": {
        "id": "xqFf32Xau3Sz"
      },
      "source": [
        "LOGISTIC REGRESSION"
      ]
    },
    {
      "cell_type": "code",
      "metadata": {
        "colab": {
          "base_uri": "https://localhost:8080/"
        },
        "id": "rR4KeCQrErCh",
        "outputId": "c56e550c-5e5b-4dcb-a08e-dab1bf6907e6"
      },
      "source": [
        "from sklearn.linear_model import LogisticRegression\n",
        "\n",
        "logreg = LogisticRegression()\n",
        "logreg.fit(X, Y)\n",
        "print('Accuracy of logistic regression classifier on test set: {:.2f}'.format(logreg.score(test_data, res)))\n",
        "predicted =logreg.predict(test_data)\n",
        "report = classification_report(res, predicted)\n",
        "print(report)"
      ],
      "execution_count": 735,
      "outputs": [
        {
          "output_type": "stream",
          "text": [
            "Accuracy of logistic regression classifier on test set: 0.80\n",
            "              precision    recall  f1-score   support\n",
            "\n",
            "           0       1.00      0.65      0.79        34\n",
            "           1       0.69      1.00      0.82        27\n",
            "\n",
            "    accuracy                           0.80        61\n",
            "   macro avg       0.85      0.82      0.80        61\n",
            "weighted avg       0.86      0.80      0.80        61\n",
            "\n"
          ],
          "name": "stdout"
        },
        {
          "output_type": "stream",
          "text": [
            "/usr/local/lib/python3.7/dist-packages/sklearn/linear_model/_logistic.py:940: ConvergenceWarning: lbfgs failed to converge (status=1):\n",
            "STOP: TOTAL NO. of ITERATIONS REACHED LIMIT.\n",
            "\n",
            "Increase the number of iterations (max_iter) or scale the data as shown in:\n",
            "    https://scikit-learn.org/stable/modules/preprocessing.html\n",
            "Please also refer to the documentation for alternative solver options:\n",
            "    https://scikit-learn.org/stable/modules/linear_model.html#logistic-regression\n",
            "  extra_warning_msg=_LOGISTIC_SOLVER_CONVERGENCE_MSG)\n"
          ],
          "name": "stderr"
        }
      ]
    },
    {
      "cell_type": "code",
      "metadata": {
        "colab": {
          "base_uri": "https://localhost:8080/"
        },
        "id": "hpoYLd3S4bXb",
        "outputId": "5850c74d-5b23-4ee7-9057-95521e23bbe5"
      },
      "source": [
        "ans=confusion_matrix(res,predicted)\n",
        "print(ans)\n",
        "specificity= ans[0,0]/(ans[0,0]+ans[0,1])\n",
        "print(specificity)\n",
        "hamming_loss = metrics.hamming_loss(res, predicted)\n",
        "print(hamming_loss) \n",
        "cross_entropy_loss = metrics.log_loss(res, predicted)\n",
        "print(cross_entropy_loss) \n"
      ],
      "execution_count": 736,
      "outputs": [
        {
          "output_type": "stream",
          "text": [
            "[[22 12]\n",
            " [ 0 27]]\n",
            "0.6470588235294118\n",
            "0.19672131147540983\n",
            "6.794670687017879\n"
          ],
          "name": "stdout"
        }
      ]
    },
    {
      "cell_type": "markdown",
      "metadata": {
        "id": "4rHGJwV2u8-P"
      },
      "source": [
        "DECISION TREE"
      ]
    },
    {
      "cell_type": "code",
      "metadata": {
        "colab": {
          "base_uri": "https://localhost:8080/"
        },
        "id": "s_Tl1aItErCl",
        "outputId": "43b409ca-c1ee-46a7-aeaa-cce6eceef739"
      },
      "source": [
        "from sklearn.tree import DecisionTreeClassifier\n",
        "DTClassifier= DecisionTreeClassifier(criterion='entropy', random_state=2)\n",
        "DTClassifier.fit(X,Y)\n",
        "print('Accuracy of logistic decision tree classifier on test set: {:.2f}'.format(DTClassifier.score(test_data, res)))\n",
        "predicted = DTClassifier.predict(test_data)\n",
        "report = classification_report(res, predicted)\n",
        "print(report)"
      ],
      "execution_count": 737,
      "outputs": [
        {
          "output_type": "stream",
          "text": [
            "Accuracy of logistic decision tree classifier on test set: 0.74\n",
            "              precision    recall  f1-score   support\n",
            "\n",
            "           0       0.85      0.65      0.73        34\n",
            "           1       0.66      0.85      0.74        27\n",
            "\n",
            "    accuracy                           0.74        61\n",
            "   macro avg       0.75      0.75      0.74        61\n",
            "weighted avg       0.76      0.74      0.74        61\n",
            "\n"
          ],
          "name": "stdout"
        }
      ]
    },
    {
      "cell_type": "code",
      "metadata": {
        "colab": {
          "base_uri": "https://localhost:8080/"
        },
        "id": "faEyimKa4rKR",
        "outputId": "2119f7fb-0c86-4d38-951c-520bf2749aca"
      },
      "source": [
        "ans=confusion_matrix(res,predicted)\n",
        "print(ans)\n",
        "specificity= ans[0,0]/(ans[0,0]+ans[0,1])\n",
        "print(specificity)\n",
        "hamming_loss = metrics.hamming_loss(res, predicted)\n",
        "print(hamming_loss) \n",
        "cross_entropy_loss = metrics.log_loss(res, predicted)\n",
        "print(cross_entropy_loss) \n"
      ],
      "execution_count": 738,
      "outputs": [
        {
          "output_type": "stream",
          "text": [
            "[[22 12]\n",
            " [ 4 23]]\n",
            "0.6470588235294118\n",
            "0.26229508196721313\n",
            "9.059508483405464\n"
          ],
          "name": "stdout"
        }
      ]
    },
    {
      "cell_type": "markdown",
      "metadata": {
        "id": "uK0Ex3qVvDf9"
      },
      "source": [
        "NAIVE BAYES"
      ]
    },
    {
      "cell_type": "code",
      "metadata": {
        "colab": {
          "base_uri": "https://localhost:8080/"
        },
        "id": "pMLy4VBFErCm",
        "outputId": "38d382b3-c5be-4b09-bccb-f21b00cea564"
      },
      "source": [
        "from sklearn.naive_bayes import GaussianNB\n",
        "\n",
        "model = GaussianNB()\n",
        "model.fit(X,Y)\n",
        "print('Accuracy of naive bayes classifier on test set: {:.2f}'.format(model.score(test_data, res)))\n",
        "predicted = model.predict(test_data)\n",
        "report = classification_report(res, predicted)\n",
        "print(report)"
      ],
      "execution_count": 739,
      "outputs": [
        {
          "output_type": "stream",
          "text": [
            "Accuracy of naive bayes classifier on test set: 0.87\n",
            "              precision    recall  f1-score   support\n",
            "\n",
            "           0       1.00      0.76      0.87        34\n",
            "           1       0.77      1.00      0.87        27\n",
            "\n",
            "    accuracy                           0.87        61\n",
            "   macro avg       0.89      0.88      0.87        61\n",
            "weighted avg       0.90      0.87      0.87        61\n",
            "\n"
          ],
          "name": "stdout"
        }
      ]
    },
    {
      "cell_type": "code",
      "metadata": {
        "colab": {
          "base_uri": "https://localhost:8080/"
        },
        "id": "rs3JfKwU4sI0",
        "outputId": "ed4943b5-e0be-4213-b1e5-cbc1d94186be"
      },
      "source": [
        "ans=confusion_matrix(res,predicted)\n",
        "print(ans)\n",
        "specificity= ans[0,0]/(ans[0,0]+ans[0,1])\n",
        "print(specificity)\n",
        "hamming_loss = metrics.hamming_loss(res, predicted)\n",
        "print(hamming_loss) \n",
        "cross_entropy_loss = metrics.log_loss(res, predicted)\n",
        "print(cross_entropy_loss) \n"
      ],
      "execution_count": 740,
      "outputs": [
        {
          "output_type": "stream",
          "text": [
            "[[26  8]\n",
            " [ 0 27]]\n",
            "0.7647058823529411\n",
            "0.13114754098360656\n",
            "4.52978045801192\n"
          ],
          "name": "stdout"
        }
      ]
    },
    {
      "cell_type": "markdown",
      "metadata": {
        "id": "MSBxQHAbvG3P"
      },
      "source": [
        "SVC"
      ]
    },
    {
      "cell_type": "code",
      "metadata": {
        "colab": {
          "base_uri": "https://localhost:8080/"
        },
        "id": "_nphNX9kErC8",
        "outputId": "1a4d123a-0bf0-41d3-99a1-b566459797f6"
      },
      "source": [
        "from sklearn.svm import SVC\n",
        "\n",
        "svcclassifier = SVC(kernel='sigmoid')\n",
        "svcclassifier.fit(X,Y)\n",
        "print('Accuracy of SVM classifier on test set: : {:.2f}'.format(svcclassifier.score(test_data,res)))\n",
        "predicted = svcclassifier.predict(test_data)\n",
        "report = classification_report(res, predicted)\n",
        "print(report)"
      ],
      "execution_count": 741,
      "outputs": [
        {
          "output_type": "stream",
          "text": [
            "Accuracy of SVM classifier on test set: : 0.44\n",
            "              precision    recall  f1-score   support\n",
            "\n",
            "           0       0.00      0.00      0.00        34\n",
            "           1       0.44      1.00      0.61        27\n",
            "\n",
            "    accuracy                           0.44        61\n",
            "   macro avg       0.22      0.50      0.31        61\n",
            "weighted avg       0.20      0.44      0.27        61\n",
            "\n"
          ],
          "name": "stdout"
        },
        {
          "output_type": "stream",
          "text": [
            "/usr/local/lib/python3.7/dist-packages/sklearn/metrics/_classification.py:1272: UndefinedMetricWarning: Precision and F-score are ill-defined and being set to 0.0 in labels with no predicted samples. Use `zero_division` parameter to control this behavior.\n",
            "  _warn_prf(average, modifier, msg_start, len(result))\n"
          ],
          "name": "stderr"
        }
      ]
    },
    {
      "cell_type": "code",
      "metadata": {
        "colab": {
          "base_uri": "https://localhost:8080/"
        },
        "id": "ARHeDW6O4s_K",
        "outputId": "850ad4ff-36c6-43dc-aa3d-4c828d044747"
      },
      "source": [
        "ans=confusion_matrix(res,predicted)\n",
        "print(ans)\n",
        "specificity= ans[0,0]/(ans[0,0]+ans[0,1])\n",
        "print(specificity)\n",
        "hamming_loss = metrics.hamming_loss(res, predicted)\n",
        "print(hamming_loss) \n",
        "cross_entropy_loss = metrics.log_loss(res, predicted)\n",
        "print(cross_entropy_loss) \n",
        "\n"
      ],
      "execution_count": 742,
      "outputs": [
        {
          "output_type": "stream",
          "text": [
            "[[ 0 34]\n",
            " [ 0 27]]\n",
            "0.0\n",
            "0.5573770491803278\n",
            "19.251566946550646\n"
          ],
          "name": "stdout"
        }
      ]
    },
    {
      "cell_type": "markdown",
      "metadata": {
        "id": "jX-nBfAjvJ2Y"
      },
      "source": [
        "NEURAL NETWORK"
      ]
    },
    {
      "cell_type": "code",
      "metadata": {
        "colab": {
          "base_uri": "https://localhost:8080/"
        },
        "id": "ldAmnaa7ErC-",
        "outputId": "710c6a8e-ea38-4dbf-d65b-c5984c9fc2f2"
      },
      "source": [
        "from sklearn.neural_network import MLPClassifier\n",
        "\n",
        "clf = MLPClassifier(solver='lbfgs', alpha=1e-5,hidden_layer_sizes=(5, 2), random_state=1)\n",
        "clf.fit(X, Y)\n",
        "print('Accuracy of MLP classifier on test set: : {:.2f}'.format(clf.score(test_data,res)))\n",
        "predicted = clf.predict(test_data)\n",
        "report = classification_report(res, predicted)\n",
        "print(report)"
      ],
      "execution_count": 743,
      "outputs": [
        {
          "output_type": "stream",
          "text": [
            "Accuracy of MLP classifier on test set: : 0.56\n",
            "              precision    recall  f1-score   support\n",
            "\n",
            "           0       0.56      1.00      0.72        34\n",
            "           1       0.00      0.00      0.00        27\n",
            "\n",
            "    accuracy                           0.56        61\n",
            "   macro avg       0.28      0.50      0.36        61\n",
            "weighted avg       0.31      0.56      0.40        61\n",
            "\n"
          ],
          "name": "stdout"
        },
        {
          "output_type": "stream",
          "text": [
            "/usr/local/lib/python3.7/dist-packages/sklearn/metrics/_classification.py:1272: UndefinedMetricWarning: Precision and F-score are ill-defined and being set to 0.0 in labels with no predicted samples. Use `zero_division` parameter to control this behavior.\n",
            "  _warn_prf(average, modifier, msg_start, len(result))\n"
          ],
          "name": "stderr"
        }
      ]
    },
    {
      "cell_type": "code",
      "metadata": {
        "colab": {
          "base_uri": "https://localhost:8080/"
        },
        "id": "9bDGSg164tvl",
        "outputId": "54c588a0-e306-4508-a062-9fc7c8bd47d9"
      },
      "source": [
        "ans=confusion_matrix(res,predicted)\n",
        "print(ans)\n",
        "specificity= ans[0,0]/(ans[0,0]+ans[0,1])\n",
        "print(specificity)\n",
        "hamming_loss = metrics.hamming_loss(res, predicted)\n",
        "print(hamming_loss) \n",
        "cross_entropy_loss = metrics.log_loss(res, predicted)\n",
        "print(cross_entropy_loss) \n",
        "\n"
      ],
      "execution_count": 744,
      "outputs": [
        {
          "output_type": "stream",
          "text": [
            "[[34  0]\n",
            " [27  0]]\n",
            "1.0\n",
            "0.4426229508196721\n",
            "15.287655125616203\n"
          ],
          "name": "stdout"
        }
      ]
    },
    {
      "cell_type": "markdown",
      "metadata": {
        "id": "NgjbgEmgvO2N"
      },
      "source": [
        "RANDOM FOREST"
      ]
    },
    {
      "cell_type": "code",
      "metadata": {
        "colab": {
          "base_uri": "https://localhost:8080/"
        },
        "id": "L3rvs00hErC_",
        "outputId": "e8b6ee7f-0872-4a59-ec5a-d36e6fc83f29"
      },
      "source": [
        "from sklearn.ensemble import RandomForestClassifier\n",
        "\n",
        "clf = RandomForestClassifier(n_estimators=10)\n",
        "clf = clf.fit(X, Y)\n",
        "print('Accuracy of Random Forest classifier on test set: : {:.2f}'.format(clf.score(test_data,res)))\n",
        "predicted = clf.predict(test_data)\n",
        "report = classification_report(res, predicted)\n",
        "print(report)"
      ],
      "execution_count": 745,
      "outputs": [
        {
          "output_type": "stream",
          "text": [
            "Accuracy of Random Forest classifier on test set: : 0.77\n",
            "              precision    recall  f1-score   support\n",
            "\n",
            "           0       0.88      0.68      0.77        34\n",
            "           1       0.69      0.89      0.77        27\n",
            "\n",
            "    accuracy                           0.77        61\n",
            "   macro avg       0.79      0.78      0.77        61\n",
            "weighted avg       0.80      0.77      0.77        61\n",
            "\n"
          ],
          "name": "stdout"
        }
      ]
    },
    {
      "cell_type": "code",
      "metadata": {
        "colab": {
          "base_uri": "https://localhost:8080/"
        },
        "id": "E6-xovNB4unx",
        "outputId": "95ce8785-0411-42e3-bfed-8f307a04ae95"
      },
      "source": [
        "ans=confusion_matrix(res,predicted)\n",
        "print(ans)\n",
        "specificity= ans[0,0]/(ans[0,0]+ans[0,1])\n",
        "print(specificity)\n",
        "hamming_loss = metrics.hamming_loss(res, predicted)\n",
        "print(hamming_loss) \n",
        "cross_entropy_loss = metrics.log_loss(res, predicted)\n",
        "print(cross_entropy_loss) \n",
        "\n"
      ],
      "execution_count": 746,
      "outputs": [
        {
          "output_type": "stream",
          "text": [
            "[[23 11]\n",
            " [ 3 24]]\n",
            "0.6764705882352942\n",
            "0.22950819672131148\n",
            "7.927076477057077\n"
          ],
          "name": "stdout"
        }
      ]
    },
    {
      "cell_type": "markdown",
      "metadata": {
        "id": "DMpu5t6yvRx7"
      },
      "source": [
        "LINEAR MODEL"
      ]
    },
    {
      "cell_type": "code",
      "metadata": {
        "colab": {
          "base_uri": "https://localhost:8080/"
        },
        "id": "xVSelvygErDA",
        "outputId": "9887fd73-da66-4355-f725-c0969f5e098b"
      },
      "source": [
        "from sklearn.linear_model import SGDClassifier\n",
        "\n",
        "clf = SGDClassifier(loss=\"hinge\", penalty=\"l2\", max_iter=5)\n",
        "clf.fit(X, Y)\n",
        "print('Accuracy of Random Forest classifier on test set: : {:.2f}'.format(clf.score(test_data,res)))\n",
        "predicted = clf.predict(test_data)\n",
        "report = classification_report(res, predicted)\n",
        "print(report)"
      ],
      "execution_count": 747,
      "outputs": [
        {
          "output_type": "stream",
          "text": [
            "Accuracy of Random Forest classifier on test set: : 0.56\n"
          ],
          "name": "stdout"
        },
        {
          "output_type": "stream",
          "text": [
            "/usr/local/lib/python3.7/dist-packages/sklearn/linear_model/_stochastic_gradient.py:557: ConvergenceWarning: Maximum number of iteration reached before convergence. Consider increasing max_iter to improve the fit.\n",
            "  ConvergenceWarning)\n"
          ],
          "name": "stderr"
        },
        {
          "output_type": "stream",
          "text": [
            "              precision    recall  f1-score   support\n",
            "\n",
            "           0       0.89      0.24      0.37        34\n",
            "           1       0.50      0.96      0.66        27\n",
            "\n",
            "    accuracy                           0.56        61\n",
            "   macro avg       0.69      0.60      0.52        61\n",
            "weighted avg       0.72      0.56      0.50        61\n",
            "\n"
          ],
          "name": "stdout"
        }
      ]
    },
    {
      "cell_type": "code",
      "metadata": {
        "colab": {
          "base_uri": "https://localhost:8080/"
        },
        "id": "8sA23lPB4vo5",
        "outputId": "df0b882d-ea85-4d54-b51e-cc50e9c23d72"
      },
      "source": [
        "ans=confusion_matrix(res,predicted)\n",
        "print(ans)\n",
        "specificity= ans[0,0]/(ans[0,0]+ans[0,1])\n",
        "print(specificity)\n",
        "hamming_loss = metrics.hamming_loss(res, predicted)\n",
        "print(hamming_loss) \n",
        "cross_entropy_loss = metrics.log_loss(res, predicted)\n",
        "print(cross_entropy_loss) \n",
        "\n"
      ],
      "execution_count": 748,
      "outputs": [
        {
          "output_type": "stream",
          "text": [
            "[[ 8 26]\n",
            " [ 1 26]]\n",
            "0.23529411764705882\n",
            "0.4426229508196721\n",
            "15.287995937635634\n"
          ],
          "name": "stdout"
        }
      ]
    },
    {
      "cell_type": "markdown",
      "metadata": {
        "id": "IrBPcF4gvU2H"
      },
      "source": [
        "# **PIMA** **DATA** **SET**"
      ]
    },
    {
      "cell_type": "code",
      "metadata": {
        "scrolled": true,
        "colab": {
          "base_uri": "https://localhost:8080/",
          "height": 204
        },
        "id": "5033kVEkErDB",
        "outputId": "72ab6112-5f6e-4c6e-a33d-a55120dba79f"
      },
      "source": [
        "df = pd.read_csv('PIMA_TRAIN.csv')\n",
        "df.head()"
      ],
      "execution_count": 749,
      "outputs": [
        {
          "output_type": "execute_result",
          "data": {
            "text/html": [
              "<div>\n",
              "<style scoped>\n",
              "    .dataframe tbody tr th:only-of-type {\n",
              "        vertical-align: middle;\n",
              "    }\n",
              "\n",
              "    .dataframe tbody tr th {\n",
              "        vertical-align: top;\n",
              "    }\n",
              "\n",
              "    .dataframe thead th {\n",
              "        text-align: right;\n",
              "    }\n",
              "</style>\n",
              "<table border=\"1\" class=\"dataframe\">\n",
              "  <thead>\n",
              "    <tr style=\"text-align: right;\">\n",
              "      <th></th>\n",
              "      <th>Pregnancies</th>\n",
              "      <th>Glucose</th>\n",
              "      <th>BloodPressure</th>\n",
              "      <th>SkinThickness</th>\n",
              "      <th>Insulin</th>\n",
              "      <th>BMI</th>\n",
              "      <th>DiabetesPedigreeFunction</th>\n",
              "      <th>Age</th>\n",
              "      <th>Class</th>\n",
              "    </tr>\n",
              "  </thead>\n",
              "  <tbody>\n",
              "    <tr>\n",
              "      <th>0</th>\n",
              "      <td>2</td>\n",
              "      <td>129</td>\n",
              "      <td>74</td>\n",
              "      <td>26</td>\n",
              "      <td>205</td>\n",
              "      <td>33.2</td>\n",
              "      <td>0.591</td>\n",
              "      <td>25</td>\n",
              "      <td>0</td>\n",
              "    </tr>\n",
              "    <tr>\n",
              "      <th>1</th>\n",
              "      <td>9</td>\n",
              "      <td>184</td>\n",
              "      <td>85</td>\n",
              "      <td>15</td>\n",
              "      <td>0</td>\n",
              "      <td>30.0</td>\n",
              "      <td>1.213</td>\n",
              "      <td>49</td>\n",
              "      <td>1</td>\n",
              "    </tr>\n",
              "    <tr>\n",
              "      <th>2</th>\n",
              "      <td>7</td>\n",
              "      <td>150</td>\n",
              "      <td>66</td>\n",
              "      <td>42</td>\n",
              "      <td>342</td>\n",
              "      <td>34.7</td>\n",
              "      <td>0.718</td>\n",
              "      <td>42</td>\n",
              "      <td>0</td>\n",
              "    </tr>\n",
              "    <tr>\n",
              "      <th>3</th>\n",
              "      <td>2</td>\n",
              "      <td>89</td>\n",
              "      <td>90</td>\n",
              "      <td>30</td>\n",
              "      <td>0</td>\n",
              "      <td>33.5</td>\n",
              "      <td>0.292</td>\n",
              "      <td>42</td>\n",
              "      <td>0</td>\n",
              "    </tr>\n",
              "    <tr>\n",
              "      <th>4</th>\n",
              "      <td>14</td>\n",
              "      <td>100</td>\n",
              "      <td>78</td>\n",
              "      <td>25</td>\n",
              "      <td>184</td>\n",
              "      <td>36.6</td>\n",
              "      <td>0.412</td>\n",
              "      <td>46</td>\n",
              "      <td>1</td>\n",
              "    </tr>\n",
              "  </tbody>\n",
              "</table>\n",
              "</div>"
            ],
            "text/plain": [
              "   Pregnancies  Glucose  BloodPressure  ...  DiabetesPedigreeFunction  Age  Class\n",
              "0            2      129             74  ...                     0.591   25      0\n",
              "1            9      184             85  ...                     1.213   49      1\n",
              "2            7      150             66  ...                     0.718   42      0\n",
              "3            2       89             90  ...                     0.292   42      0\n",
              "4           14      100             78  ...                     0.412   46      1\n",
              "\n",
              "[5 rows x 9 columns]"
            ]
          },
          "metadata": {
            "tags": []
          },
          "execution_count": 749
        }
      ]
    },
    {
      "cell_type": "code",
      "metadata": {
        "colab": {
          "base_uri": "https://localhost:8080/",
          "height": 204
        },
        "id": "mQHjh35ZErDC",
        "outputId": "f5ca11e3-309d-48aa-cf2b-2d52330ee090"
      },
      "source": [
        "test_data = pd.read_csv('PIMA_TEST.csv')\n",
        "test_data.head()"
      ],
      "execution_count": 750,
      "outputs": [
        {
          "output_type": "execute_result",
          "data": {
            "text/html": [
              "<div>\n",
              "<style scoped>\n",
              "    .dataframe tbody tr th:only-of-type {\n",
              "        vertical-align: middle;\n",
              "    }\n",
              "\n",
              "    .dataframe tbody tr th {\n",
              "        vertical-align: top;\n",
              "    }\n",
              "\n",
              "    .dataframe thead th {\n",
              "        text-align: right;\n",
              "    }\n",
              "</style>\n",
              "<table border=\"1\" class=\"dataframe\">\n",
              "  <thead>\n",
              "    <tr style=\"text-align: right;\">\n",
              "      <th></th>\n",
              "      <th>Pregnancies</th>\n",
              "      <th>Glucose</th>\n",
              "      <th>BloodPressure</th>\n",
              "      <th>SkinThickness</th>\n",
              "      <th>Insulin</th>\n",
              "      <th>BMI</th>\n",
              "      <th>DiabetesPedigreeFunction</th>\n",
              "      <th>Age</th>\n",
              "      <th>Class</th>\n",
              "    </tr>\n",
              "  </thead>\n",
              "  <tbody>\n",
              "    <tr>\n",
              "      <th>0</th>\n",
              "      <td>3</td>\n",
              "      <td>96</td>\n",
              "      <td>56</td>\n",
              "      <td>34</td>\n",
              "      <td>115</td>\n",
              "      <td>24.7</td>\n",
              "      <td>0.944</td>\n",
              "      <td>39</td>\n",
              "      <td>0</td>\n",
              "    </tr>\n",
              "    <tr>\n",
              "      <th>1</th>\n",
              "      <td>7</td>\n",
              "      <td>106</td>\n",
              "      <td>92</td>\n",
              "      <td>18</td>\n",
              "      <td>0</td>\n",
              "      <td>22.7</td>\n",
              "      <td>0.235</td>\n",
              "      <td>48</td>\n",
              "      <td>0</td>\n",
              "    </tr>\n",
              "    <tr>\n",
              "      <th>2</th>\n",
              "      <td>7</td>\n",
              "      <td>194</td>\n",
              "      <td>68</td>\n",
              "      <td>28</td>\n",
              "      <td>0</td>\n",
              "      <td>35.9</td>\n",
              "      <td>0.745</td>\n",
              "      <td>41</td>\n",
              "      <td>1</td>\n",
              "    </tr>\n",
              "    <tr>\n",
              "      <th>3</th>\n",
              "      <td>0</td>\n",
              "      <td>95</td>\n",
              "      <td>80</td>\n",
              "      <td>45</td>\n",
              "      <td>92</td>\n",
              "      <td>36.5</td>\n",
              "      <td>0.330</td>\n",
              "      <td>26</td>\n",
              "      <td>0</td>\n",
              "    </tr>\n",
              "    <tr>\n",
              "      <th>4</th>\n",
              "      <td>3</td>\n",
              "      <td>102</td>\n",
              "      <td>44</td>\n",
              "      <td>20</td>\n",
              "      <td>94</td>\n",
              "      <td>30.8</td>\n",
              "      <td>0.400</td>\n",
              "      <td>26</td>\n",
              "      <td>0</td>\n",
              "    </tr>\n",
              "  </tbody>\n",
              "</table>\n",
              "</div>"
            ],
            "text/plain": [
              "   Pregnancies  Glucose  BloodPressure  ...  DiabetesPedigreeFunction  Age  Class\n",
              "0            3       96             56  ...                     0.944   39      0\n",
              "1            7      106             92  ...                     0.235   48      0\n",
              "2            7      194             68  ...                     0.745   41      1\n",
              "3            0       95             80  ...                     0.330   26      0\n",
              "4            3      102             44  ...                     0.400   26      0\n",
              "\n",
              "[5 rows x 9 columns]"
            ]
          },
          "metadata": {
            "tags": []
          },
          "execution_count": 750
        }
      ]
    },
    {
      "cell_type": "code",
      "metadata": {
        "id": "15nPU1zXErDG"
      },
      "source": [
        "X = df.drop('Class',axis=1)\n",
        "Y = df['Class']\n",
        "res = test_data['Class']\n",
        "test_data = test_data.drop('Class', axis=1)"
      ],
      "execution_count": 751,
      "outputs": []
    },
    {
      "cell_type": "markdown",
      "metadata": {
        "id": "fZ96tsrqva3E"
      },
      "source": [
        "LOGISTIC REGRESSION"
      ]
    },
    {
      "cell_type": "code",
      "metadata": {
        "colab": {
          "base_uri": "https://localhost:8080/"
        },
        "id": "A6CblFjQErDG",
        "outputId": "794267e4-a2e9-43c3-e7d2-53b02f9a63ea"
      },
      "source": [
        "from sklearn.linear_model import LogisticRegression\n",
        "\n",
        "logreg = LogisticRegression()\n",
        "logreg.fit(X, Y)\n",
        "predicted =logreg.predict(test_data)\n",
        "print('Accuracy of logistic regression classifier on test set: {:.2f}'.format(logreg.score(test_data, res)))\n",
        "report = classification_report(res, predicted)\n",
        "print(report)"
      ],
      "execution_count": 752,
      "outputs": [
        {
          "output_type": "stream",
          "text": [
            "Accuracy of logistic regression classifier on test set: 0.82\n",
            "              precision    recall  f1-score   support\n",
            "\n",
            "           0       0.82      0.93      0.87       103\n",
            "           1       0.81      0.59      0.68        51\n",
            "\n",
            "    accuracy                           0.82       154\n",
            "   macro avg       0.82      0.76      0.78       154\n",
            "weighted avg       0.82      0.82      0.81       154\n",
            "\n"
          ],
          "name": "stdout"
        },
        {
          "output_type": "stream",
          "text": [
            "/usr/local/lib/python3.7/dist-packages/sklearn/linear_model/_logistic.py:940: ConvergenceWarning: lbfgs failed to converge (status=1):\n",
            "STOP: TOTAL NO. of ITERATIONS REACHED LIMIT.\n",
            "\n",
            "Increase the number of iterations (max_iter) or scale the data as shown in:\n",
            "    https://scikit-learn.org/stable/modules/preprocessing.html\n",
            "Please also refer to the documentation for alternative solver options:\n",
            "    https://scikit-learn.org/stable/modules/linear_model.html#logistic-regression\n",
            "  extra_warning_msg=_LOGISTIC_SOLVER_CONVERGENCE_MSG)\n"
          ],
          "name": "stderr"
        }
      ]
    },
    {
      "cell_type": "code",
      "metadata": {
        "colab": {
          "base_uri": "https://localhost:8080/"
        },
        "id": "42T80bCR4w0l",
        "outputId": "ea25c5a5-1a2e-42b5-d08f-614b8c940fb8"
      },
      "source": [
        "ans=confusion_matrix(res,predicted)\n",
        "print(ans)\n",
        "specificity= ans[0,0]/(ans[0,0]+ans[0,1])\n",
        "print(specificity)\n",
        "hamming_loss = metrics.hamming_loss(res, predicted)\n",
        "print(hamming_loss) \n",
        "cross_entropy_loss = metrics.log_loss(res, predicted)\n",
        "print(cross_entropy_loss) \n",
        "\n"
      ],
      "execution_count": 753,
      "outputs": [
        {
          "output_type": "stream",
          "text": [
            "[[96  7]\n",
            " [21 30]]\n",
            "0.9320388349514563\n",
            "0.18181818181818182\n",
            "6.279813871685134\n"
          ],
          "name": "stdout"
        }
      ]
    },
    {
      "cell_type": "markdown",
      "metadata": {
        "id": "NdzqUxaTveer"
      },
      "source": [
        "DECISION TREE"
      ]
    },
    {
      "cell_type": "code",
      "metadata": {
        "colab": {
          "base_uri": "https://localhost:8080/"
        },
        "id": "mFP1e6fSErDH",
        "outputId": "8f3fec23-7466-4650-9483-c9d108123985"
      },
      "source": [
        "from sklearn.tree import DecisionTreeClassifier\n",
        "DTClassifier= DecisionTreeClassifier(criterion='entropy', random_state=1)\n",
        "DTClassifier.fit(X,Y)\n",
        "print('Accuracy of logistic decision tree classifier on test set: {:.2f}'.format(DTClassifier.score(test_data, res)))\n",
        "predicted =DTClassifier.predict(test_data)\n",
        "report = classification_report(res, predicted)\n",
        "print(report)\n"
      ],
      "execution_count": 754,
      "outputs": [
        {
          "output_type": "stream",
          "text": [
            "Accuracy of logistic decision tree classifier on test set: 0.70\n",
            "              precision    recall  f1-score   support\n",
            "\n",
            "           0       0.79      0.76      0.77       103\n",
            "           1       0.55      0.59      0.57        51\n",
            "\n",
            "    accuracy                           0.70       154\n",
            "   macro avg       0.67      0.67      0.67       154\n",
            "weighted avg       0.71      0.70      0.70       154\n",
            "\n"
          ],
          "name": "stdout"
        }
      ]
    },
    {
      "cell_type": "code",
      "metadata": {
        "colab": {
          "base_uri": "https://localhost:8080/"
        },
        "id": "dMqJI8hk4xog",
        "outputId": "c5d9eb95-fb6e-495b-8903-d5e9f00c6d02"
      },
      "source": [
        "ans=confusion_matrix(res,predicted)\n",
        "print(ans)\n",
        "specificity= ans[0,0]/(ans[0,0]+ans[0,1])\n",
        "print(specificity)\n",
        "hamming_loss = metrics.hamming_loss(res, predicted)\n",
        "print(hamming_loss) \n",
        "cross_entropy_loss = metrics.log_loss(res, predicted)\n",
        "print(cross_entropy_loss) \n"
      ],
      "execution_count": 755,
      "outputs": [
        {
          "output_type": "stream",
          "text": [
            "[[78 25]\n",
            " [21 30]]\n",
            "0.7572815533980582\n",
            "0.2987012987012987\n",
            "10.316907169491211\n"
          ],
          "name": "stdout"
        }
      ]
    },
    {
      "cell_type": "markdown",
      "metadata": {
        "id": "ryPmtMbivg89"
      },
      "source": [
        "NAIVE BAYES"
      ]
    },
    {
      "cell_type": "code",
      "metadata": {
        "colab": {
          "base_uri": "https://localhost:8080/"
        },
        "id": "wYkBAjDfErDI",
        "outputId": "d80b403f-ba83-41fa-a7ae-24364df6d85b"
      },
      "source": [
        "from sklearn.naive_bayes import GaussianNB\n",
        "\n",
        "model = GaussianNB()\n",
        "model.fit(X,Y)\n",
        "print('Accuracy of naive bayes classifier on test set: {:.2f}'.format(model.score(test_data, res)))\n",
        "predicted =model.predict(test_data)\n",
        "report = classification_report(res, predicted)\n",
        "print(report)"
      ],
      "execution_count": 756,
      "outputs": [
        {
          "output_type": "stream",
          "text": [
            "Accuracy of naive bayes classifier on test set: 0.82\n",
            "              precision    recall  f1-score   support\n",
            "\n",
            "           0       0.85      0.90      0.87       103\n",
            "           1       0.77      0.67      0.72        51\n",
            "\n",
            "    accuracy                           0.82       154\n",
            "   macro avg       0.81      0.78      0.79       154\n",
            "weighted avg       0.82      0.82      0.82       154\n",
            "\n"
          ],
          "name": "stdout"
        }
      ]
    },
    {
      "cell_type": "code",
      "metadata": {
        "colab": {
          "base_uri": "https://localhost:8080/"
        },
        "id": "tV9N2qbw4yVd",
        "outputId": "c852cb2c-77c1-4b89-fdcf-3457f18d7041"
      },
      "source": [
        "ans=confusion_matrix(res,predicted)\n",
        "print(ans)\n",
        "specificity= ans[0,0]/(ans[0,0]+ans[0,1])\n",
        "print(specificity)\n",
        "hamming_loss = metrics.hamming_loss(res, predicted)\n",
        "print(hamming_loss) \n",
        "cross_entropy_loss = metrics.log_loss(res, predicted)\n",
        "print(cross_entropy_loss) \n"
      ],
      "execution_count": 757,
      "outputs": [
        {
          "output_type": "stream",
          "text": [
            "[[93 10]\n",
            " [17 34]]\n",
            "0.9029126213592233\n",
            "0.17532467532467533\n",
            "6.0555516794603275\n"
          ],
          "name": "stdout"
        }
      ]
    },
    {
      "cell_type": "markdown",
      "metadata": {
        "id": "e9K1WqdhvjGl"
      },
      "source": [
        "SVC"
      ]
    },
    {
      "cell_type": "code",
      "metadata": {
        "colab": {
          "base_uri": "https://localhost:8080/"
        },
        "id": "0gngs3lIErDJ",
        "outputId": "5e67f06f-9e96-4ffb-c2c4-bd8faf6bd878"
      },
      "source": [
        "from sklearn.svm import SVC\n",
        "\n",
        "svcclassifier = SVC(kernel='sigmoid')\n",
        "svcclassifier.fit(X,Y)\n",
        "print('Accuracy of SVM classifier on test set: : {:.2f}'.format(svcclassifier.score(test_data,res)))\n",
        "predicted =svcclassifier.predict(test_data)\n",
        "report = classification_report(res, predicted)\n",
        "print(report)"
      ],
      "execution_count": 758,
      "outputs": [
        {
          "output_type": "stream",
          "text": [
            "Accuracy of SVM classifier on test set: : 0.48\n",
            "              precision    recall  f1-score   support\n",
            "\n",
            "           0       0.61      0.64      0.62       103\n",
            "           1       0.18      0.16      0.17        51\n",
            "\n",
            "    accuracy                           0.48       154\n",
            "   macro avg       0.39      0.40      0.39       154\n",
            "weighted avg       0.46      0.48      0.47       154\n",
            "\n"
          ],
          "name": "stdout"
        }
      ]
    },
    {
      "cell_type": "code",
      "metadata": {
        "colab": {
          "base_uri": "https://localhost:8080/"
        },
        "id": "iFKhQFcx4zF2",
        "outputId": "9a3783b8-b60b-465b-ea8c-f08069e8c32c"
      },
      "source": [
        "ans=confusion_matrix(res,predicted)\n",
        "print(ans)\n",
        "specificity= ans[0,0]/(ans[0,0]+ans[0,1])\n",
        "print(specificity)\n",
        "hamming_loss = metrics.hamming_loss(res, predicted)\n",
        "print(hamming_loss) \n",
        "cross_entropy_loss = metrics.log_loss(res, predicted)\n",
        "print(cross_entropy_loss) \n"
      ],
      "execution_count": 759,
      "outputs": [
        {
          "output_type": "stream",
          "text": [
            "[[66 37]\n",
            " [43  8]]\n",
            "0.6407766990291263\n",
            "0.5194805194805194\n",
            "17.942413614920596\n"
          ],
          "name": "stdout"
        }
      ]
    },
    {
      "cell_type": "markdown",
      "metadata": {
        "id": "xzVi3W5wvmGw"
      },
      "source": [
        "NEURAL NETWORK"
      ]
    },
    {
      "cell_type": "code",
      "metadata": {
        "colab": {
          "base_uri": "https://localhost:8080/"
        },
        "id": "2o2XFhHqErDK",
        "outputId": "19ae6c48-7f8c-4f3c-a99d-e4032c18e86f"
      },
      "source": [
        "from sklearn.neural_network import MLPClassifier\n",
        "\n",
        "clf = MLPClassifier(solver='lbfgs', alpha=1e-5,hidden_layer_sizes=(5, 2), random_state=1)\n",
        "clf.fit(X, Y)\n",
        "print('Accuracy of MLP classifier on test set: : {:.2f}'.format(clf.score(test_data,res)))\n",
        "predicted =clf.predict(test_data)\n",
        "report = classification_report(res, predicted)\n",
        "print(report)"
      ],
      "execution_count": 760,
      "outputs": [
        {
          "output_type": "stream",
          "text": [
            "Accuracy of MLP classifier on test set: : 0.70\n",
            "              precision    recall  f1-score   support\n",
            "\n",
            "           0       0.71      0.93      0.81       103\n",
            "           1       0.63      0.24      0.34        51\n",
            "\n",
            "    accuracy                           0.70       154\n",
            "   macro avg       0.67      0.58      0.57       154\n",
            "weighted avg       0.68      0.70      0.65       154\n",
            "\n"
          ],
          "name": "stdout"
        }
      ]
    },
    {
      "cell_type": "code",
      "metadata": {
        "colab": {
          "base_uri": "https://localhost:8080/"
        },
        "id": "2N3j2Nf04z1V",
        "outputId": "5f7e3524-df24-4555-e41f-99d7840b48ca"
      },
      "source": [
        "ans=confusion_matrix(res,predicted)\n",
        "print(ans)\n",
        "specificity= ans[0,0]/(ans[0,0]+ans[0,1])\n",
        "print(specificity)\n",
        "hamming_loss = metrics.hamming_loss(res, predicted)\n",
        "print(hamming_loss) \n",
        "cross_entropy_loss = metrics.log_loss(res, predicted)\n",
        "print(cross_entropy_loss) \n",
        "\n"
      ],
      "execution_count": 761,
      "outputs": [
        {
          "output_type": "stream",
          "text": [
            "[[96  7]\n",
            " [39 12]]\n",
            "0.9320388349514563\n",
            "0.2987012987012987\n",
            "10.316813710051315\n"
          ],
          "name": "stdout"
        }
      ]
    },
    {
      "cell_type": "markdown",
      "metadata": {
        "id": "zyQWAgUdvqQN"
      },
      "source": [
        "RANDOM FOREST"
      ]
    },
    {
      "cell_type": "code",
      "metadata": {
        "colab": {
          "base_uri": "https://localhost:8080/"
        },
        "id": "6vQJGsowErDL",
        "outputId": "a5ee740f-862f-4b95-e257-20f3bb85fc67"
      },
      "source": [
        "from sklearn.ensemble import RandomForestClassifier\n",
        "\n",
        "clf = RandomForestClassifier(n_estimators=10)\n",
        "clf = clf.fit(X, Y)\n",
        "print('Accuracy of Random Forest classifier on test set: : {:.2f}'.format(clf.score(test_data,res)))\n",
        "predicted =clf.predict(test_data)\n",
        "report = classification_report(res, predicted)\n",
        "print(report)"
      ],
      "execution_count": 762,
      "outputs": [
        {
          "output_type": "stream",
          "text": [
            "Accuracy of Random Forest classifier on test set: : 0.77\n",
            "              precision    recall  f1-score   support\n",
            "\n",
            "           0       0.79      0.90      0.84       103\n",
            "           1       0.72      0.51      0.60        51\n",
            "\n",
            "    accuracy                           0.77       154\n",
            "   macro avg       0.76      0.71      0.72       154\n",
            "weighted avg       0.77      0.77      0.76       154\n",
            "\n"
          ],
          "name": "stdout"
        }
      ]
    },
    {
      "cell_type": "code",
      "metadata": {
        "colab": {
          "base_uri": "https://localhost:8080/"
        },
        "id": "crKfoQbX40ey",
        "outputId": "f8c96841-8a76-48c0-c136-940baceb8df5"
      },
      "source": [
        "ans=confusion_matrix(res,predicted)\n",
        "print(ans)\n",
        "specificity= ans[0,0]/(ans[0,0]+ans[0,1])\n",
        "print(specificity)\n",
        "hamming_loss = metrics.hamming_loss(res, predicted)\n",
        "print(hamming_loss) \n",
        "cross_entropy_loss = metrics.log_loss(res, predicted)\n",
        "print(cross_entropy_loss) \n",
        "\n"
      ],
      "execution_count": 763,
      "outputs": [
        {
          "output_type": "stream",
          "text": [
            "[[93 10]\n",
            " [25 26]]\n",
            "0.9029126213592233\n",
            "0.22727272727272727\n",
            "7.849773829845298\n"
          ],
          "name": "stdout"
        }
      ]
    },
    {
      "cell_type": "markdown",
      "metadata": {
        "id": "7SXnBvtwvs4K"
      },
      "source": [
        "LINEAR MODEL"
      ]
    },
    {
      "cell_type": "code",
      "metadata": {
        "colab": {
          "base_uri": "https://localhost:8080/"
        },
        "id": "GewmS_5DErDM",
        "outputId": "dc57cf26-7198-4ee8-cc08-bb39d3e32868"
      },
      "source": [
        "from sklearn.linear_model import SGDClassifier\n",
        "\n",
        "clf = SGDClassifier(loss=\"hinge\", penalty=\"l2\", max_iter=5)\n",
        "clf.fit(X, Y)\n",
        "print('Accuracy of Random Forest classifier on test set: : {:.2f}'.format(clf.score(test_data,res)))\n",
        "predicted =clf.predict(test_data)\n",
        "report = classification_report(res, predicted)\n",
        "print(report)"
      ],
      "execution_count": 764,
      "outputs": [
        {
          "output_type": "stream",
          "text": [
            "Accuracy of Random Forest classifier on test set: : 0.67\n",
            "              precision    recall  f1-score   support\n",
            "\n",
            "           0       0.68      0.96      0.80       103\n",
            "           1       0.50      0.08      0.14        51\n",
            "\n",
            "    accuracy                           0.67       154\n",
            "   macro avg       0.59      0.52      0.47       154\n",
            "weighted avg       0.62      0.67      0.58       154\n",
            "\n"
          ],
          "name": "stdout"
        },
        {
          "output_type": "stream",
          "text": [
            "/usr/local/lib/python3.7/dist-packages/sklearn/linear_model/_stochastic_gradient.py:557: ConvergenceWarning: Maximum number of iteration reached before convergence. Consider increasing max_iter to improve the fit.\n",
            "  ConvergenceWarning)\n"
          ],
          "name": "stderr"
        }
      ]
    },
    {
      "cell_type": "code",
      "metadata": {
        "colab": {
          "base_uri": "https://localhost:8080/"
        },
        "id": "d0uXuG2a41dI",
        "outputId": "c0909dd7-346e-4ae3-9b7d-b820f0881f47"
      },
      "source": [
        "ans=confusion_matrix(res,predicted)\n",
        "print(ans)\n",
        "specificity= ans[0,0]/(ans[0,0]+ans[0,1])\n",
        "print(specificity)\n",
        "hamming_loss = metrics.hamming_loss(res, predicted)\n",
        "print(hamming_loss) \n",
        "cross_entropy_loss = metrics.log_loss(res, predicted)\n",
        "print(cross_entropy_loss) \n",
        "\n"
      ],
      "execution_count": 765,
      "outputs": [
        {
          "output_type": "stream",
          "text": [
            "[[99  4]\n",
            " [47  4]]\n",
            "0.9611650485436893\n",
            "0.33116883116883117\n",
            "11.438186977468607\n"
          ],
          "name": "stdout"
        }
      ]
    },
    {
      "cell_type": "markdown",
      "metadata": {
        "id": "sFlgEHxFvvdP"
      },
      "source": [
        "**LIVER** **DATASET**\n",
        "\n",
        "---\n",
        "\n",
        "\n",
        "\n",
        "---\n",
        "\n"
      ]
    },
    {
      "cell_type": "code",
      "metadata": {
        "colab": {
          "base_uri": "https://localhost:8080/",
          "height": 204
        },
        "id": "NMhNaVwDErDN",
        "outputId": "0bfacf59-886a-43a9-9297-6896636ae96a"
      },
      "source": [
        "df = pd.read_csv('LIVER_TRAIN.csv')\n",
        "df.head()"
      ],
      "execution_count": 766,
      "outputs": [
        {
          "output_type": "execute_result",
          "data": {
            "text/html": [
              "<div>\n",
              "<style scoped>\n",
              "    .dataframe tbody tr th:only-of-type {\n",
              "        vertical-align: middle;\n",
              "    }\n",
              "\n",
              "    .dataframe tbody tr th {\n",
              "        vertical-align: top;\n",
              "    }\n",
              "\n",
              "    .dataframe thead th {\n",
              "        text-align: right;\n",
              "    }\n",
              "</style>\n",
              "<table border=\"1\" class=\"dataframe\">\n",
              "  <thead>\n",
              "    <tr style=\"text-align: right;\">\n",
              "      <th></th>\n",
              "      <th>Age</th>\n",
              "      <th>Gender</th>\n",
              "      <th>Total_Bilirubin</th>\n",
              "      <th>Direct_Bilirubin</th>\n",
              "      <th>Alkaline_Phosphotase</th>\n",
              "      <th>Alamine_Aminotransferase</th>\n",
              "      <th>Aspartate_Aminotransferase</th>\n",
              "      <th>Total_Protiens</th>\n",
              "      <th>Albumin</th>\n",
              "      <th>Albumin_and_Globulin_Ratio</th>\n",
              "      <th>Class</th>\n",
              "    </tr>\n",
              "  </thead>\n",
              "  <tbody>\n",
              "    <tr>\n",
              "      <th>0</th>\n",
              "      <td>50</td>\n",
              "      <td>1</td>\n",
              "      <td>0.6</td>\n",
              "      <td>0.2</td>\n",
              "      <td>137</td>\n",
              "      <td>15</td>\n",
              "      <td>16</td>\n",
              "      <td>4.8</td>\n",
              "      <td>2.6</td>\n",
              "      <td>1.10</td>\n",
              "      <td>1</td>\n",
              "    </tr>\n",
              "    <tr>\n",
              "      <th>1</th>\n",
              "      <td>65</td>\n",
              "      <td>1</td>\n",
              "      <td>0.9</td>\n",
              "      <td>0.2</td>\n",
              "      <td>170</td>\n",
              "      <td>33</td>\n",
              "      <td>66</td>\n",
              "      <td>7.0</td>\n",
              "      <td>3.0</td>\n",
              "      <td>0.75</td>\n",
              "      <td>1</td>\n",
              "    </tr>\n",
              "    <tr>\n",
              "      <th>2</th>\n",
              "      <td>49</td>\n",
              "      <td>0</td>\n",
              "      <td>0.8</td>\n",
              "      <td>0.2</td>\n",
              "      <td>198</td>\n",
              "      <td>23</td>\n",
              "      <td>20</td>\n",
              "      <td>7.0</td>\n",
              "      <td>4.3</td>\n",
              "      <td>1.50</td>\n",
              "      <td>1</td>\n",
              "    </tr>\n",
              "    <tr>\n",
              "      <th>3</th>\n",
              "      <td>33</td>\n",
              "      <td>1</td>\n",
              "      <td>1.8</td>\n",
              "      <td>0.8</td>\n",
              "      <td>196</td>\n",
              "      <td>25</td>\n",
              "      <td>22</td>\n",
              "      <td>8.0</td>\n",
              "      <td>4.0</td>\n",
              "      <td>1.00</td>\n",
              "      <td>1</td>\n",
              "    </tr>\n",
              "    <tr>\n",
              "      <th>4</th>\n",
              "      <td>48</td>\n",
              "      <td>1</td>\n",
              "      <td>0.7</td>\n",
              "      <td>0.2</td>\n",
              "      <td>165</td>\n",
              "      <td>32</td>\n",
              "      <td>30</td>\n",
              "      <td>8.0</td>\n",
              "      <td>4.0</td>\n",
              "      <td>1.00</td>\n",
              "      <td>0</td>\n",
              "    </tr>\n",
              "  </tbody>\n",
              "</table>\n",
              "</div>"
            ],
            "text/plain": [
              "   Age  Gender  Total_Bilirubin  ...  Albumin  Albumin_and_Globulin_Ratio  Class\n",
              "0   50       1              0.6  ...      2.6                        1.10      1\n",
              "1   65       1              0.9  ...      3.0                        0.75      1\n",
              "2   49       0              0.8  ...      4.3                        1.50      1\n",
              "3   33       1              1.8  ...      4.0                        1.00      1\n",
              "4   48       1              0.7  ...      4.0                        1.00      0\n",
              "\n",
              "[5 rows x 11 columns]"
            ]
          },
          "metadata": {
            "tags": []
          },
          "execution_count": 766
        }
      ]
    },
    {
      "cell_type": "code",
      "metadata": {
        "colab": {
          "base_uri": "https://localhost:8080/",
          "height": 204
        },
        "id": "pLfWI-nhErDO",
        "outputId": "f7b998ad-204b-4793-acf7-0371bdb7437b"
      },
      "source": [
        "test_data = pd.read_csv('LIVER_TEST.csv')\n",
        "test_data.head()"
      ],
      "execution_count": 767,
      "outputs": [
        {
          "output_type": "execute_result",
          "data": {
            "text/html": [
              "<div>\n",
              "<style scoped>\n",
              "    .dataframe tbody tr th:only-of-type {\n",
              "        vertical-align: middle;\n",
              "    }\n",
              "\n",
              "    .dataframe tbody tr th {\n",
              "        vertical-align: top;\n",
              "    }\n",
              "\n",
              "    .dataframe thead th {\n",
              "        text-align: right;\n",
              "    }\n",
              "</style>\n",
              "<table border=\"1\" class=\"dataframe\">\n",
              "  <thead>\n",
              "    <tr style=\"text-align: right;\">\n",
              "      <th></th>\n",
              "      <th>Age</th>\n",
              "      <th>Gender</th>\n",
              "      <th>Total_Bilirubin</th>\n",
              "      <th>Direct_Bilirubin</th>\n",
              "      <th>Alkaline_Phosphotase</th>\n",
              "      <th>Alamine_Aminotransferase</th>\n",
              "      <th>Aspartate_Aminotransferase</th>\n",
              "      <th>Total_Protiens</th>\n",
              "      <th>Albumin</th>\n",
              "      <th>Albumin_and_Globulin_Ratio</th>\n",
              "      <th>Class</th>\n",
              "    </tr>\n",
              "  </thead>\n",
              "  <tbody>\n",
              "    <tr>\n",
              "      <th>0</th>\n",
              "      <td>45</td>\n",
              "      <td>1</td>\n",
              "      <td>2.2</td>\n",
              "      <td>0.8</td>\n",
              "      <td>209</td>\n",
              "      <td>25</td>\n",
              "      <td>20</td>\n",
              "      <td>8.0</td>\n",
              "      <td>4.0</td>\n",
              "      <td>1.0</td>\n",
              "      <td>1</td>\n",
              "    </tr>\n",
              "    <tr>\n",
              "      <th>1</th>\n",
              "      <td>45</td>\n",
              "      <td>1</td>\n",
              "      <td>2.5</td>\n",
              "      <td>1.2</td>\n",
              "      <td>163</td>\n",
              "      <td>28</td>\n",
              "      <td>22</td>\n",
              "      <td>7.6</td>\n",
              "      <td>4.0</td>\n",
              "      <td>1.1</td>\n",
              "      <td>1</td>\n",
              "    </tr>\n",
              "    <tr>\n",
              "      <th>2</th>\n",
              "      <td>48</td>\n",
              "      <td>0</td>\n",
              "      <td>0.8</td>\n",
              "      <td>0.2</td>\n",
              "      <td>150</td>\n",
              "      <td>25</td>\n",
              "      <td>23</td>\n",
              "      <td>7.5</td>\n",
              "      <td>3.9</td>\n",
              "      <td>1.0</td>\n",
              "      <td>1</td>\n",
              "    </tr>\n",
              "    <tr>\n",
              "      <th>3</th>\n",
              "      <td>41</td>\n",
              "      <td>0</td>\n",
              "      <td>0.9</td>\n",
              "      <td>0.2</td>\n",
              "      <td>201</td>\n",
              "      <td>31</td>\n",
              "      <td>24</td>\n",
              "      <td>7.6</td>\n",
              "      <td>3.8</td>\n",
              "      <td>1.0</td>\n",
              "      <td>0</td>\n",
              "    </tr>\n",
              "    <tr>\n",
              "      <th>4</th>\n",
              "      <td>65</td>\n",
              "      <td>0</td>\n",
              "      <td>0.7</td>\n",
              "      <td>0.2</td>\n",
              "      <td>182</td>\n",
              "      <td>23</td>\n",
              "      <td>28</td>\n",
              "      <td>6.8</td>\n",
              "      <td>2.9</td>\n",
              "      <td>0.7</td>\n",
              "      <td>0</td>\n",
              "    </tr>\n",
              "  </tbody>\n",
              "</table>\n",
              "</div>"
            ],
            "text/plain": [
              "   Age  Gender  Total_Bilirubin  ...  Albumin  Albumin_and_Globulin_Ratio  Class\n",
              "0   45       1              2.2  ...      4.0                         1.0      1\n",
              "1   45       1              2.5  ...      4.0                         1.1      1\n",
              "2   48       0              0.8  ...      3.9                         1.0      1\n",
              "3   41       0              0.9  ...      3.8                         1.0      0\n",
              "4   65       0              0.7  ...      2.9                         0.7      0\n",
              "\n",
              "[5 rows x 11 columns]"
            ]
          },
          "metadata": {
            "tags": []
          },
          "execution_count": 767
        }
      ]
    },
    {
      "cell_type": "code",
      "metadata": {
        "scrolled": true,
        "colab": {
          "base_uri": "https://localhost:8080/"
        },
        "id": "SqGoK1uwErDP",
        "outputId": "942e6ef9-02fd-45b2-ca6f-23fc2a113074"
      },
      "source": [
        "df.isna().sum()/len(df)*100"
      ],
      "execution_count": 768,
      "outputs": [
        {
          "output_type": "execute_result",
          "data": {
            "text/plain": [
              "Age                           0.000000\n",
              "Gender                        0.000000\n",
              "Total_Bilirubin               0.000000\n",
              "Direct_Bilirubin              0.000000\n",
              "Alkaline_Phosphotase          0.000000\n",
              "Alamine_Aminotransferase      0.000000\n",
              "Aspartate_Aminotransferase    0.000000\n",
              "Total_Protiens                0.000000\n",
              "Albumin                       0.000000\n",
              "Albumin_and_Globulin_Ratio    0.643777\n",
              "Class                         0.000000\n",
              "dtype: float64"
            ]
          },
          "metadata": {
            "tags": []
          },
          "execution_count": 768
        }
      ]
    },
    {
      "cell_type": "code",
      "metadata": {
        "colab": {
          "base_uri": "https://localhost:8080/"
        },
        "id": "ADU2dK_4ErDP",
        "outputId": "bfeda7c6-13e6-4736-d6b6-7d4d5759066b"
      },
      "source": [
        "df = df.fillna(method ='bfill')\n",
        "df.isna().sum()/len(df)*100"
      ],
      "execution_count": 769,
      "outputs": [
        {
          "output_type": "execute_result",
          "data": {
            "text/plain": [
              "Age                           0.0\n",
              "Gender                        0.0\n",
              "Total_Bilirubin               0.0\n",
              "Direct_Bilirubin              0.0\n",
              "Alkaline_Phosphotase          0.0\n",
              "Alamine_Aminotransferase      0.0\n",
              "Aspartate_Aminotransferase    0.0\n",
              "Total_Protiens                0.0\n",
              "Albumin                       0.0\n",
              "Albumin_and_Globulin_Ratio    0.0\n",
              "Class                         0.0\n",
              "dtype: float64"
            ]
          },
          "metadata": {
            "tags": []
          },
          "execution_count": 769
        }
      ]
    },
    {
      "cell_type": "code",
      "metadata": {
        "id": "aqGynKNMErDR"
      },
      "source": [
        "X = df.drop('Class',axis=1)\n",
        "Y = df['Class']\n",
        "res = test_data['Class']\n",
        "test_data = test_data.drop('Class', axis=1)"
      ],
      "execution_count": 770,
      "outputs": []
    },
    {
      "cell_type": "markdown",
      "metadata": {
        "id": "1Jm3g7wqvz4u"
      },
      "source": [
        "LOGISTIC REGRESSION"
      ]
    },
    {
      "cell_type": "code",
      "metadata": {
        "colab": {
          "base_uri": "https://localhost:8080/"
        },
        "id": "tRfcCWrVErDS",
        "outputId": "49cf3929-e0d2-46a8-d252-fa30caedd9d1"
      },
      "source": [
        "from sklearn.linear_model import LogisticRegression\n",
        "logreg = LogisticRegression()\n",
        "logreg.fit(X, Y)\n",
        "print('Accuracy of logistic regression classifier on test set: {:.2f}'.format(logreg.score(test_data, res)))\n",
        "predicted =logreg.predict(test_data)\n",
        "report = classification_report(res, predicted)\n",
        "print(report)"
      ],
      "execution_count": 771,
      "outputs": [
        {
          "output_type": "stream",
          "text": [
            "Accuracy of logistic regression classifier on test set: 0.70\n",
            "              precision    recall  f1-score   support\n",
            "\n",
            "           0       0.31      0.17      0.22        29\n",
            "           1       0.76      0.88      0.81        88\n",
            "\n",
            "    accuracy                           0.70       117\n",
            "   macro avg       0.54      0.52      0.52       117\n",
            "weighted avg       0.65      0.70      0.67       117\n",
            "\n"
          ],
          "name": "stdout"
        },
        {
          "output_type": "stream",
          "text": [
            "/usr/local/lib/python3.7/dist-packages/sklearn/linear_model/_logistic.py:940: ConvergenceWarning: lbfgs failed to converge (status=1):\n",
            "STOP: TOTAL NO. of ITERATIONS REACHED LIMIT.\n",
            "\n",
            "Increase the number of iterations (max_iter) or scale the data as shown in:\n",
            "    https://scikit-learn.org/stable/modules/preprocessing.html\n",
            "Please also refer to the documentation for alternative solver options:\n",
            "    https://scikit-learn.org/stable/modules/linear_model.html#logistic-regression\n",
            "  extra_warning_msg=_LOGISTIC_SOLVER_CONVERGENCE_MSG)\n"
          ],
          "name": "stderr"
        }
      ]
    },
    {
      "cell_type": "code",
      "metadata": {
        "colab": {
          "base_uri": "https://localhost:8080/"
        },
        "id": "w7zj_Uno43Bn",
        "outputId": "d415bd1a-6d5c-49ab-e4b3-3bdbeccc26bb"
      },
      "source": [
        "ans=confusion_matrix(res,predicted)\n",
        "print(ans)\n",
        "specificity= ans[0,0]/(ans[0,0]+ans[0,1])\n",
        "print(specificity)\n",
        "hamming_loss = metrics.hamming_loss(res, predicted)\n",
        "print(hamming_loss) \n",
        "cross_entropy_loss = metrics.log_loss(res, predicted)\n",
        "print(cross_entropy_loss) \n",
        "\n"
      ],
      "execution_count": 772,
      "outputs": [
        {
          "output_type": "stream",
          "text": [
            "[[ 5 24]\n",
            " [11 77]]\n",
            "0.1724137931034483\n",
            "0.29914529914529914\n",
            "10.332276616753832\n"
          ],
          "name": "stdout"
        }
      ]
    },
    {
      "cell_type": "markdown",
      "metadata": {
        "id": "O4nNbjjxv2Ub"
      },
      "source": [
        "DECISION TREE"
      ]
    },
    {
      "cell_type": "code",
      "metadata": {
        "colab": {
          "base_uri": "https://localhost:8080/"
        },
        "id": "OO6bzEwzErDU",
        "outputId": "8ad4c52f-afca-4496-a9e6-76279e183433"
      },
      "source": [
        "from sklearn.tree import DecisionTreeClassifier\n",
        "DTClassifier= DecisionTreeClassifier(criterion='entropy', random_state=1)\n",
        "DTClassifier.fit(X,Y)\n",
        "print('Accuracy of logistic decision tree classifier on test set: {:.2f}'.format(DTClassifier.score(test_data, res)))\n",
        "predicted =DTClassifier.predict(test_data)\n",
        "report = classification_report(res, predicted)\n",
        "print(report)"
      ],
      "execution_count": 773,
      "outputs": [
        {
          "output_type": "stream",
          "text": [
            "Accuracy of logistic decision tree classifier on test set: 0.61\n",
            "              precision    recall  f1-score   support\n",
            "\n",
            "           0       0.23      0.24      0.23        29\n",
            "           1       0.74      0.73      0.74        88\n",
            "\n",
            "    accuracy                           0.61       117\n",
            "   macro avg       0.48      0.48      0.48       117\n",
            "weighted avg       0.62      0.61      0.61       117\n",
            "\n"
          ],
          "name": "stdout"
        }
      ]
    },
    {
      "cell_type": "code",
      "metadata": {
        "colab": {
          "base_uri": "https://localhost:8080/"
        },
        "id": "Mt6ch2Bu44Cp",
        "outputId": "9a9d3306-fa80-4ec0-bdd3-8103371ea54b"
      },
      "source": [
        "ans=confusion_matrix(res,predicted)\n",
        "print(ans)\n",
        "specificity= ans[0,0]/(ans[0,0]+ans[0,1])\n",
        "print(specificity)\n",
        "hamming_loss = metrics.hamming_loss(res, predicted)\n",
        "print(hamming_loss) \n",
        "cross_entropy_loss = metrics.log_loss(res, predicted)\n",
        "print(cross_entropy_loss) \n"
      ],
      "execution_count": 774,
      "outputs": [
        {
          "output_type": "stream",
          "text": [
            "[[ 7 22]\n",
            " [24 64]]\n",
            "0.2413793103448276\n",
            "0.39316239316239315\n",
            "13.579498335977398\n"
          ],
          "name": "stdout"
        }
      ]
    },
    {
      "cell_type": "markdown",
      "metadata": {
        "id": "7yOAsy3Zv5iR"
      },
      "source": [
        "NAIVE BAYES"
      ]
    },
    {
      "cell_type": "code",
      "metadata": {
        "colab": {
          "base_uri": "https://localhost:8080/"
        },
        "id": "AHdnPGpbErDX",
        "outputId": "2a5d1653-ae94-4beb-c40b-b024fe327082"
      },
      "source": [
        "from sklearn.naive_bayes import GaussianNB\n",
        "\n",
        "model = GaussianNB()\n",
        "model.fit(X,Y)\n",
        "print('Accuracy of naive bayes classifier on test set: {:.2f}'.format(model.score(test_data, res)))\n",
        "predicted =model.predict(test_data)\n",
        "report = classification_report(res, predicted)\n",
        "print(report)"
      ],
      "execution_count": 775,
      "outputs": [
        {
          "output_type": "stream",
          "text": [
            "Accuracy of naive bayes classifier on test set: 0.50\n",
            "              precision    recall  f1-score   support\n",
            "\n",
            "           0       0.33      1.00      0.50        29\n",
            "           1       1.00      0.33      0.50        88\n",
            "\n",
            "    accuracy                           0.50       117\n",
            "   macro avg       0.66      0.66      0.50       117\n",
            "weighted avg       0.83      0.50      0.50       117\n",
            "\n"
          ],
          "name": "stdout"
        }
      ]
    },
    {
      "cell_type": "code",
      "metadata": {
        "colab": {
          "base_uri": "https://localhost:8080/"
        },
        "id": "1LBmMioO5KD3",
        "outputId": "137c374e-4c4e-4ec8-b937-9e3590b479b8"
      },
      "source": [
        "ans=confusion_matrix(res,predicted)\n",
        "print(ans)\n",
        "specificity= ans[0,0]/(ans[0,0]+ans[0,1])\n",
        "print(specificity)\n",
        "hamming_loss = metrics.hamming_loss(res, predicted)\n",
        "print(hamming_loss) \n",
        "cross_entropy_loss = metrics.log_loss(res, predicted)\n",
        "print(cross_entropy_loss) \n",
        "\n"
      ],
      "execution_count": 776,
      "outputs": [
        {
          "output_type": "stream",
          "text": [
            "[[29  0]\n",
            " [59 29]]\n",
            "1.0\n",
            "0.5042735042735043\n",
            "17.416989805980602\n"
          ],
          "name": "stdout"
        }
      ]
    },
    {
      "cell_type": "markdown",
      "metadata": {
        "id": "8BQi2LGov729"
      },
      "source": [
        "SVC"
      ]
    },
    {
      "cell_type": "code",
      "metadata": {
        "colab": {
          "base_uri": "https://localhost:8080/"
        },
        "id": "3mZEdjuRErDY",
        "outputId": "03eab1ca-0918-46be-bc4d-e60bb4433a71"
      },
      "source": [
        "from sklearn.svm import SVC\n",
        "\n",
        "svcclassifier = SVC(kernel='sigmoid')\n",
        "svcclassifier.fit(X,Y)\n",
        "print('Accuracy of SVM classifier on test set: : {:.2f}'.format(svcclassifier.score(test_data,res)))\n",
        "predicted =svcclassifier.predict(test_data)\n",
        "report = classification_report(res, predicted)\n",
        "print(report)"
      ],
      "execution_count": 777,
      "outputs": [
        {
          "output_type": "stream",
          "text": [
            "Accuracy of SVM classifier on test set: : 0.62\n",
            "              precision    recall  f1-score   support\n",
            "\n",
            "           0       0.17      0.14      0.15        29\n",
            "           1       0.73      0.77      0.75        88\n",
            "\n",
            "    accuracy                           0.62       117\n",
            "   macro avg       0.45      0.46      0.45       117\n",
            "weighted avg       0.59      0.62      0.60       117\n",
            "\n"
          ],
          "name": "stdout"
        }
      ]
    },
    {
      "cell_type": "code",
      "metadata": {
        "colab": {
          "base_uri": "https://localhost:8080/"
        },
        "id": "quD1Awhc5K5m",
        "outputId": "fd6470b3-e6c4-42eb-b212-5d0849f3129d"
      },
      "source": [
        "ans=confusion_matrix(res,predicted)\n",
        "print(ans)\n",
        "specificity= ans[0,0]/(ans[0,0]+ans[0,1])\n",
        "print(specificity)\n",
        "hamming_loss = metrics.hamming_loss(res, predicted)\n",
        "print(hamming_loss) \n",
        "cross_entropy_loss = metrics.log_loss(res, predicted)\n",
        "print(cross_entropy_loss) \n",
        "\n"
      ],
      "execution_count": 778,
      "outputs": [
        {
          "output_type": "stream",
          "text": [
            "[[ 4 25]\n",
            " [20 68]]\n",
            "0.13793103448275862\n",
            "0.38461538461538464\n",
            "13.284315621425089\n"
          ],
          "name": "stdout"
        }
      ]
    },
    {
      "cell_type": "markdown",
      "metadata": {
        "id": "HQgsFtk5v-Es"
      },
      "source": [
        "NEURAL NETWORK"
      ]
    },
    {
      "cell_type": "code",
      "metadata": {
        "colab": {
          "base_uri": "https://localhost:8080/"
        },
        "id": "9saX6d0fErDZ",
        "outputId": "affc7668-4771-4ab9-80ea-f24d8b1af51e"
      },
      "source": [
        "from sklearn.neural_network import MLPClassifier\n",
        "\n",
        "clf = MLPClassifier(solver='lbfgs', alpha=1e-5,hidden_layer_sizes=(5, 2), random_state=1)\n",
        "clf.fit(X, Y)\n",
        "print('Accuracy of MLP classifier on test set: : {:.2f}'.format(clf.score(test_data,res)))\n",
        "predicted =clf.predict(test_data)\n",
        "report = classification_report(res, predicted)\n",
        "print(report)"
      ],
      "execution_count": 779,
      "outputs": [
        {
          "output_type": "stream",
          "text": [
            "Accuracy of MLP classifier on test set: : 0.75\n",
            "              precision    recall  f1-score   support\n",
            "\n",
            "           0       0.00      0.00      0.00        29\n",
            "           1       0.75      1.00      0.86        88\n",
            "\n",
            "    accuracy                           0.75       117\n",
            "   macro avg       0.38      0.50      0.43       117\n",
            "weighted avg       0.57      0.75      0.65       117\n",
            "\n"
          ],
          "name": "stdout"
        },
        {
          "output_type": "stream",
          "text": [
            "/usr/local/lib/python3.7/dist-packages/sklearn/metrics/_classification.py:1272: UndefinedMetricWarning: Precision and F-score are ill-defined and being set to 0.0 in labels with no predicted samples. Use `zero_division` parameter to control this behavior.\n",
            "  _warn_prf(average, modifier, msg_start, len(result))\n"
          ],
          "name": "stderr"
        }
      ]
    },
    {
      "cell_type": "code",
      "metadata": {
        "colab": {
          "base_uri": "https://localhost:8080/"
        },
        "id": "aIQY8MPL5LtS",
        "outputId": "d6e295f0-5ad0-4c11-875f-ae78cd896e35"
      },
      "source": [
        "ans=confusion_matrix(res,predicted)\n",
        "print(ans)\n",
        "specificity= ans[0,0]/(ans[0,0]+ans[0,1])\n",
        "print(specificity)\n",
        "hamming_loss = metrics.hamming_loss(res, predicted)\n",
        "print(hamming_loss) \n",
        "cross_entropy_loss = metrics.log_loss(res, predicted)\n",
        "print(cross_entropy_loss) \n",
        "\n"
      ],
      "execution_count": 780,
      "outputs": [
        {
          "output_type": "stream",
          "text": [
            "[[ 0 29]\n",
            " [ 0 88]]\n",
            "0.0\n",
            "0.24786324786324787\n",
            "8.561091485281073\n"
          ],
          "name": "stdout"
        }
      ]
    },
    {
      "cell_type": "markdown",
      "metadata": {
        "id": "ikTNtNHrwAXf"
      },
      "source": [
        "RANDOM FOREST"
      ]
    },
    {
      "cell_type": "code",
      "metadata": {
        "colab": {
          "base_uri": "https://localhost:8080/"
        },
        "id": "E6Hb3uP2ErDb",
        "outputId": "e84a5163-3335-4194-976d-7c719e4347c7"
      },
      "source": [
        "from sklearn.ensemble import RandomForestClassifier\n",
        "\n",
        "clf = RandomForestClassifier(n_estimators=10)\n",
        "clf = clf.fit(X, Y)\n",
        "print('Accuracy of Random Forest classifier on test set: : {:.2f}'.format(clf.score(test_data,res)))\n",
        "predicted =clf.predict(test_data)\n",
        "report = classification_report(res, predicted)\n",
        "print(report)"
      ],
      "execution_count": 781,
      "outputs": [
        {
          "output_type": "stream",
          "text": [
            "Accuracy of Random Forest classifier on test set: : 0.68\n",
            "              precision    recall  f1-score   support\n",
            "\n",
            "           0       0.40      0.55      0.46        29\n",
            "           1       0.83      0.73      0.78        88\n",
            "\n",
            "    accuracy                           0.68       117\n",
            "   macro avg       0.62      0.64      0.62       117\n",
            "weighted avg       0.72      0.68      0.70       117\n",
            "\n"
          ],
          "name": "stdout"
        }
      ]
    },
    {
      "cell_type": "code",
      "metadata": {
        "colab": {
          "base_uri": "https://localhost:8080/"
        },
        "id": "4tP6g9uN5Mi-",
        "outputId": "e3b804f9-9d29-49ae-cdbc-90577e33ca98"
      },
      "source": [
        "ans=confusion_matrix(res,predicted)\n",
        "print(ans)\n",
        "specificity= ans[0,0]/(ans[0,0]+ans[0,1])\n",
        "print(specificity)\n",
        "hamming_loss = metrics.hamming_loss(res, predicted)\n",
        "print(hamming_loss) \n",
        "cross_entropy_loss = metrics.log_loss(res, predicted)\n",
        "print(cross_entropy_loss) \n",
        "\n"
      ],
      "execution_count": 782,
      "outputs": [
        {
          "output_type": "stream",
          "text": [
            "[[16 13]\n",
            " [24 64]]\n",
            "0.5517241379310345\n",
            "0.3162393162393162\n",
            "10.9226078750281\n"
          ],
          "name": "stdout"
        }
      ]
    },
    {
      "cell_type": "markdown",
      "metadata": {
        "id": "ex035zOQwCuo"
      },
      "source": [
        "LINEAR MODEL"
      ]
    },
    {
      "cell_type": "code",
      "metadata": {
        "colab": {
          "base_uri": "https://localhost:8080/"
        },
        "id": "H0LrQtlNErDc",
        "outputId": "32c3424e-5229-4c3c-84ed-e3bd7564f4fa"
      },
      "source": [
        "from sklearn.linear_model import SGDClassifier\n",
        "\n",
        "clf = SGDClassifier(loss=\"hinge\", penalty=\"l2\", max_iter=5)\n",
        "clf.fit(X, Y)\n",
        "print('Accuracy of Random Forest classifier on test set: : {:.2f}'.format(clf.score(test_data,res)))\n",
        "predicted =clf.predict(test_data)\n",
        "report = classification_report(res, predicted)\n",
        "print(report)"
      ],
      "execution_count": 783,
      "outputs": [
        {
          "output_type": "stream",
          "text": [
            "Accuracy of Random Forest classifier on test set: : 0.64\n",
            "              precision    recall  f1-score   support\n",
            "\n",
            "           0       0.39      0.83      0.53        29\n",
            "           1       0.91      0.58      0.71        88\n",
            "\n",
            "    accuracy                           0.64       117\n",
            "   macro avg       0.65      0.70      0.62       117\n",
            "weighted avg       0.78      0.64      0.66       117\n",
            "\n"
          ],
          "name": "stdout"
        },
        {
          "output_type": "stream",
          "text": [
            "/usr/local/lib/python3.7/dist-packages/sklearn/linear_model/_stochastic_gradient.py:557: ConvergenceWarning: Maximum number of iteration reached before convergence. Consider increasing max_iter to improve the fit.\n",
            "  ConvergenceWarning)\n"
          ],
          "name": "stderr"
        }
      ]
    },
    {
      "cell_type": "code",
      "metadata": {
        "colab": {
          "base_uri": "https://localhost:8080/"
        },
        "id": "JlLBC4PR5NWh",
        "outputId": "aae175a9-207c-4795-c935-5a8caa7c0e18"
      },
      "source": [
        "ans=confusion_matrix(res,predicted)\n",
        "print(ans)\n",
        "specificity= ans[0,0]/(ans[0,0]+ans[0,1])\n",
        "print(specificity)\n",
        "hamming_loss = metrics.hamming_loss(res, predicted)\n",
        "print(hamming_loss) \n",
        "cross_entropy_loss = metrics.log_loss(res, predicted)\n",
        "print(cross_entropy_loss) \n"
      ],
      "execution_count": 784,
      "outputs": [
        {
          "output_type": "stream",
          "text": [
            "[[24  5]\n",
            " [37 51]]\n",
            "0.8275862068965517\n",
            "0.358974358974359\n",
            "12.398569286952133\n"
          ],
          "name": "stdout"
        }
      ]
    },
    {
      "cell_type": "code",
      "metadata": {
        "id": "Z_t_3oTJErDd"
      },
      "source": [
        ""
      ],
      "execution_count": 784,
      "outputs": []
    },
    {
      "cell_type": "code",
      "metadata": {
        "id": "vGvYktqkErDd"
      },
      "source": [
        ""
      ],
      "execution_count": 784,
      "outputs": []
    },
    {
      "cell_type": "code",
      "metadata": {
        "id": "B6Uzr-JQIkt2"
      },
      "source": [
        ""
      ],
      "execution_count": 784,
      "outputs": []
    }
  ]
}