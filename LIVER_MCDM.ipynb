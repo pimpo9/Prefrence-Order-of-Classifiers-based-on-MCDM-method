{
 "cells": [
  {
   "cell_type": "code",
   "execution_count": 1,
   "metadata": {},
   "outputs": [],
   "source": [
    "import mcdm\n",
    "import numpy as np\n",
    "from pymcdm.methods import TOPSIS\n",
    "from pymcdm.methods import VIKOR\n",
    "from pymcdm.methods import PROMETHEE_II\n",
    "from pymcdm.helpers import rankdata,rrankdata\n",
    "from pymcdm import weights as mcdm_weights"
   ]
  },
  {
   "cell_type": "code",
   "execution_count": 2,
   "metadata": {},
   "outputs": [
    {
     "name": "stdout",
     "output_type": "stream",
     "text": [
      "+----------------------+----------+-----------+--------+-------------+---------+-------------+-------------+-------------+--------------+--------------+\n",
      "|                      | ACCURACY | PRECISION | RECALL |     AUC     | F1SCORE |   FP_RATE   |   FN_RATE   | SPECIFICITY | HAMMING LOSS | ENTROPY LOSS |\n",
      "+----------------------+----------+-----------+--------+-------------+---------+-------------+-------------+-------------+--------------+--------------+\n",
      "| LOGISTIC REGRESSION  |   0.7    |    0.65   |  0.7   | 0.671238245 |   0.67  | 0.827586207 | 0.136363636 | 0.172413793 | 0.299145299  | 10.33227662  |\n",
      "|    DECISION TREE     |   0.61   |    0.62   |  0.61  | 0.484326019 |   0.61  |  0.75862069 | 0.272727273 |  0.24137931 | 0.393162393  | 13.57949834  |\n",
      "| GAUSSIAN NAIVE BAYES |   0.5    |    0.83   |  0.5   | 0.684169279 |   0.5   |      0      | 0.670454545 |      1      | 0.504273504  | 17.41698981  |\n",
      "|         SVM          |   0.62   |    0.59   |  0.62  | 0.587774295 |   0.6   | 0.862068966 | 0.227272727 | 0.137931034 | 0.384615385  | 13.28431562  |\n",
      "|    NEURAL NETWORK    |   0.75   |    0.57   |  0.75  | 0.545454545 |   0.65  |      1      |      0      |      0      | 0.247863248  | 8.561091485  |\n",
      "|    RANDOM FOREST     |   0.68   |    0.72   |  0.68  | 0.699255486 |   0.7   | 0.482758621 |     0.25    | 0.551724138 | 0.316239316  | 10.92260788  |\n",
      "|     LINEAR MODEL     |   0.32   |    0.82   |  0.32  | 0.551136364 |   0.66  |      0      | 0.897727273 |      1      | 0.675213675  | 23.32105415  |\n",
      "+----------------------+----------+-----------+--------+-------------+---------+-------------+-------------+-------------+--------------+--------------+\n"
     ]
    }
   ],
   "source": [
    "from prettytable import from_csv\n",
    "with open(\"liver_perform.tsv\") as fp:\n",
    "    mytable = from_csv(fp)\n",
    "print(mytable)"
   ]
  },
  {
   "cell_type": "code",
   "execution_count": 10,
   "metadata": {},
   "outputs": [],
   "source": [
    "x_matrix, alt_names = mcdm.load(\"liver_perform.tsv\", delimiter=\"\\t\", skiprows=1, labeled_rows=True)\n",
    "alts = np.array(x_matrix, dtype='float')\n",
    "weights = mcdm_weights.equal(alts)\n",
    "types = np.array([1,1,1,1,1,-1,-1,1,-1,-1])"
   ]
  },
  {
   "cell_type": "code",
   "execution_count": 11,
   "metadata": {},
   "outputs": [
    {
     "name": "stdout",
     "output_type": "stream",
     "text": [
      "2.0 0.6249495433030752\n",
      "6.0 0.4671348796103944\n",
      "4.0 0.5549153732254491\n",
      "5.0 0.48697852796240343\n",
      "3.0 0.5568334656413534\n",
      "1.0 0.7369595509683988\n",
      "7.0 0.44893601553232615\n"
     ]
    }
   ],
   "source": [
    "topsis = TOPSIS()\n",
    "# Determine preferences and ranking for alternatives\n",
    "pref1 = topsis(alts, weights, types)\n",
    "ranking1= rrankdata(pref1)\n",
    "\n",
    "for r, p in zip(ranking1, pref1):\n",
    "    print(r, p)\n"
   ]
  },
  {
   "cell_type": "code",
   "execution_count": 12,
   "metadata": {},
   "outputs": [
    {
     "name": "stdout",
     "output_type": "stream",
     "text": [
      "2.0 0.4667951579547199\n",
      "6.0 0.9290688763506856\n",
      "4.0 0.7605387303353439\n",
      "5.0 0.8209821833219335\n",
      "3.0 0.731188484272285\n",
      "1.0 0.0\n",
      "7.0 1.0\n"
     ]
    }
   ],
   "source": [
    "vikor= VIKOR()\n",
    "pref2 = vikor(alts, weights, types)\n",
    "ranking2= rankdata(pref2)\n",
    "\n",
    "for r, p in zip(ranking2, pref2):\n",
    "    print(r, p)"
   ]
  },
  {
   "cell_type": "code",
   "execution_count": 13,
   "metadata": {},
   "outputs": [
    {
     "name": "stdout",
     "output_type": "stream",
     "text": [
      "2.0 0.36666666666666653\n",
      "7.0 -0.3333333333333333\n",
      "4.0 -0.09999999999999998\n",
      "5.0 -0.23333333333333323\n",
      "3.0 0.1333333333333333\n",
      "1.0 0.43333333333333335\n",
      "6.0 -0.26666666666666666\n"
     ]
    }
   ],
   "source": [
    "promethe=PROMETHEE_II('usual')\n",
    "p = np.random.rand(x_matrix.shape[1]) / 2\n",
    "q = np.random.rand(x_matrix.shape[1]) / 2 + 0.5\n",
    "pref3 = promethe(alts, weights, types,p=p,q=q)\n",
    "ranking3 = rrankdata(pref3)\n",
    "\n",
    "for r, p in zip(ranking3, pref3):\n",
    "    print(r, p)"
   ]
  },
  {
   "cell_type": "code",
   "execution_count": 14,
   "metadata": {},
   "outputs": [
    {
     "name": "stdout",
     "output_type": "stream",
     "text": [
      "#########################LIVER DATASET#######################\n",
      "+----------------------+--------+---------------------+-------+--------------------+-----------+----------------------+\n",
      "|        Model         | TOPSIS |        Value        | VIKOR |       VALUES       | PROMETHEE |        VALUES        |\n",
      "+----------------------+--------+---------------------+-------+--------------------+-----------+----------------------+\n",
      "| LOGISTIC REGRESSION  |  2.0   |  0.6249495433030752 |  2.0  | 0.4667951579547199 |    2.0    | 0.36666666666666653  |\n",
      "|    DECISION TREE     |  6.0   |  0.4671348796103944 |  6.0  | 0.9290688763506856 |    7.0    | -0.3333333333333333  |\n",
      "| GAUSSIAN NAIVE BAYES |  4.0   |  0.5549153732254491 |  4.0  | 0.7605387303353439 |    4.0    | -0.09999999999999998 |\n",
      "|         SVM          |  5.0   | 0.48697852796240343 |  5.0  | 0.8209821833219335 |    5.0    | -0.23333333333333323 |\n",
      "|    NEURAL NETWORK    |  3.0   |  0.5568334656413534 |  3.0  | 0.731188484272285  |    3.0    |  0.1333333333333333  |\n",
      "|    RANDOM FOREST     |  1.0   |  0.7369595509683988 |  1.0  |        0.0         |    1.0    | 0.43333333333333335  |\n",
      "|     LINEAR MODEL     |  7.0   | 0.44893601553232615 |  7.0  |        1.0         |    6.0    | -0.26666666666666666 |\n",
      "+----------------------+--------+---------------------+-------+--------------------+-----------+----------------------+\n"
     ]
    }
   ],
   "source": [
    "from prettytable import PrettyTable\n",
    "print(\"#########################LIVER DATASET#######################\")\n",
    "columns = [\"Model\", \"TOPSIS\",\"Value\",\"VIKOR\",\"VALUES\",\"PROMETHEE\",\"VALUES\"]\n",
    "Table = PrettyTable()\n",
    "Table.add_column(columns[0], [\"LOGISTIC REGRESSION \", \"DECISION TREE\", \"GAUSSIAN NAIVE BAYES\",\n",
    "                       \"SVM \", \"NEURAL NETWORK\", \"RANDOM FOREST \", \"LINEAR MODEL\"])\n",
    "Table.add_column(columns[1], ranking1)\n",
    "Table.add_column(columns[2], pref1)\n",
    "Table.add_column(columns[3], ranking2)\n",
    "Table.add_column(columns[4], pref2)\n",
    "Table.add_column(columns[5], ranking3)\n",
    "Table.add_column(columns[6], pref3)\n",
    "\n",
    "print(Table)"
   ]
  },
  {
   "cell_type": "code",
   "execution_count": 15,
   "metadata": {},
   "outputs": [
    {
     "name": "stdout",
     "output_type": "stream",
     "text": [
      "#########################SAW#######################\n",
      "+----------------------+---------------------+\n",
      "|        Model         |        Value        |\n",
      "+----------------------+---------------------+\n",
      "|    RANDOM FOREST     |  0.6008123925655068 |\n",
      "| LOGISTIC REGRESSION  |  0.5537581408276082 |\n",
      "|     LINEAR MODEL     |  0.5487894498073074 |\n",
      "| GAUSSIAN NAIVE BAYES |  0.5402210303349484 |\n",
      "|         SVM          | 0.46610818194815995 |\n",
      "|    NEURAL NETWORK    |  0.4596305755791673 |\n",
      "|    DECISION TREE     |  0.4338378982914595 |\n",
      "+----------------------+---------------------+\n"
     ]
    }
   ],
   "source": [
    "ans=mcdm.rank(x_matrix, alt_names=alt_names, n_method=\"Linear2\", w_method=\"CRITIC\", s_method=\"SAW\") \n",
    "model=[]\n",
    "value=[]\n",
    "for x in ans:\n",
    "    model.append(x[0])\n",
    "    value.append(x[1])\n",
    "\n",
    "print(\"#########################SAW#######################\")\n",
    "columns = [\"Model\",\"Value\"]\n",
    "Table = PrettyTable()\n",
    "Table.add_column(columns[0], model)\n",
    "Table.add_column(columns[1], value)\n",
    "\n",
    "print(Table) "
   ]
  },
  {
   "cell_type": "code",
   "execution_count": 16,
   "metadata": {},
   "outputs": [
    {
     "name": "stdout",
     "output_type": "stream",
     "text": [
      "#########################MEW#######################\n",
      "+----------------------+--------------------+\n",
      "|        Model         |       Value        |\n",
      "+----------------------+--------------------+\n",
      "|    RANDOM FOREST     | 0.5639249831479368 |\n",
      "|    DECISION TREE     | 0.5485920508629925 |\n",
      "|         SVM          | 0.5088748941820731 |\n",
      "| LOGISTIC REGRESSION  | 0.4856761739825573 |\n",
      "| GAUSSIAN NAIVE BAYES |        0.0         |\n",
      "|    NEURAL NETWORK    |        0.0         |\n",
      "|     LINEAR MODEL     |        0.0         |\n",
      "+----------------------+--------------------+\n"
     ]
    }
   ],
   "source": [
    "ans=mcdm.rank(x_matrix,alt_names=alt_names,n_method=\"Linear1\",w_method=\"CRITIC\",s_method=\"MEW\")\n",
    "model=[]\n",
    "value=[]\n",
    "for x in ans:\n",
    "    model.append(x[0])\n",
    "    value.append(x[1])\n",
    "\n",
    "print(\"#########################MEW#######################\")\n",
    "columns = [\"Model\",\"Value\"]\n",
    "Table = PrettyTable()\n",
    "Table.add_column(columns[0], model)\n",
    "Table.add_column(columns[1], value)\n",
    "\n",
    "print(Table)"
   ]
  },
  {
   "cell_type": "code",
   "execution_count": null,
   "metadata": {},
   "outputs": [],
   "source": []
  }
 ],
 "metadata": {
  "kernelspec": {
   "display_name": "Python 3",
   "language": "python",
   "name": "python3"
  },
  "language_info": {
   "codemirror_mode": {
    "name": "ipython",
    "version": 3
   },
   "file_extension": ".py",
   "mimetype": "text/x-python",
   "name": "python",
   "nbconvert_exporter": "python",
   "pygments_lexer": "ipython3",
   "version": "3.7.4"
  }
 },
 "nbformat": 4,
 "nbformat_minor": 2
}
