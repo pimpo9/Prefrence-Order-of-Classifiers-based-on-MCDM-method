{
 "cells": [
  {
   "cell_type": "code",
   "execution_count": 1,
   "metadata": {},
   "outputs": [],
   "source": [
    "import mcdm\n",
    "import numpy as np\n",
    "from pymcdm.methods import TOPSIS\n",
    "from pymcdm.methods import VIKOR\n",
    "from pymcdm.methods import PROMETHEE_II\n",
    "from pymcdm.helpers import rankdata, rrankdata\n",
    "from pymcdm import weights as mcdm_weights"
   ]
  },
  {
   "cell_type": "code",
   "execution_count": 2,
   "metadata": {},
   "outputs": [
    {
     "name": "stdout",
     "output_type": "stream",
     "text": [
      "+----------------------+---------+-----------+--------+-------------+----------+---------+---------+-------------+--------------+--------------+\n",
      "|                      | ACURACY | PRECISION | RECALL |     AUC     | F1-SCORE | FP_RATE | FN_RATE | SPECIFICITY | HAMMING LOSS | ENTROPY LOSS |\n",
      "+----------------------+---------+-----------+--------+-------------+----------+---------+---------+-------------+--------------+--------------+\n",
      "| LOGISTIC REGRESSION  |   0.95  |    0.95   |  0.95  | 0.991216216 |   0.95   |  0.075  |  0.054  |    0.925    | 0.052631579  | 4.763969158  |\n",
      "|    DECISION TREE     |   0.95  |    0.95   |  0.95  | 0.947972973 |   0.95   |   0.05  |  0.054  |     0.95    | 0.052631579  | 4.763969158  |\n",
      "| GAUSSIAN NAIVE BAYES |   0.94  |    0.94   |  0.94  | 0.988851351 |   0.94   |  0.125  |  0.027  |    0.875    | 0.061403509  | 4.763969158  |\n",
      "|         SVM          |   0.44  |    0.42   |  0.44  | 0.755743243 |   0.43   |   0.85  |  0.4054 |     0.15    | 0.561403509  | 4.763969158  |\n",
      "|    NEURAL NETWORK    |   0.35  |    0.12   |  0.35  | 0.966554054 |   0.18   |    0    |    1    |      1      | 0.649122807  | 4.763969158  |\n",
      "|    RANDOM FOREST     |   0.98  |    0.98   |  0.98  | 0.998310811 |   0.98   |    0    |  0.027  |      1      |  0.01754386  | 4.763969158  |\n",
      "|     LINEAR MODEL     |   0.94  |    0.94   |  0.94  | 0.923986486 |   0.94   |  0.125  |   0.27  |    0.875    | 0.061403509  | 2.120837129  |\n",
      "+----------------------+---------+-----------+--------+-------------+----------+---------+---------+-------------+--------------+--------------+\n"
     ]
    }
   ],
   "source": [
    "from prettytable import from_csv\n",
    "with open(\"breast_perform.tsv\") as fp:\n",
    "    mytable = from_csv(fp)\n",
    "print(mytable)"
   ]
  },
  {
   "cell_type": "code",
   "execution_count": 3,
   "metadata": {},
   "outputs": [],
   "source": [
    "x_matrix, alt_names = mcdm.load(\"breast_perform.tsv\", delimiter=\"\\t\", skiprows=1, labeled_rows=True)\n",
    "alts = np.array(x_matrix, dtype='float')\n",
    "weights = mcdm_weights.equal(alts)\n",
    "types = np.array([1,1,1,1,1,-1,-1,1,-1,-1])"
   ]
  },
  {
   "cell_type": "code",
   "execution_count": 4,
   "metadata": {},
   "outputs": [
    {
     "name": "stdout",
     "output_type": "stream",
     "text": [
      "3.0 0.7375491911067369\n",
      "4.0 0.7319194107786223\n",
      "5.0 0.7305643278497282\n",
      "7.0 0.2307148442838144\n",
      "6.0 0.3852283947858865\n",
      "2.0 0.7500000000000001\n",
      "1.0 0.8580470522468049\n"
     ]
    }
   ],
   "source": [
    "topsis = TOPSIS()\n",
    "# Determine preferences and ranking for alternatives\n",
    "pref1 = topsis(alts, weights, types)\n",
    "ranking1= rrankdata(pref1)\n",
    "\n",
    "for r, p in zip(ranking1, pref1):\n",
    "    print(r, p)\n"
   ]
  },
  {
   "cell_type": "code",
   "execution_count": 5,
   "metadata": {},
   "outputs": [
    {
     "name": "stdout",
     "output_type": "stream",
     "text": [
      "3.0 0.5312643849820373\n",
      "4.0 0.5394425381555598\n",
      "5.0 0.542863104093194\n",
      "7.0 1.0\n",
      "6.0 0.91975577601531\n",
      "2.0 0.5\n",
      "1.0 0.009804763950867086\n"
     ]
    }
   ],
   "source": [
    "vikor= VIKOR()\n",
    "pref2 = vikor(alts, weights, types)\n",
    "ranking2=rankdata(pref2)\n",
    "\n",
    "for r, p in zip(ranking2, pref2):\n",
    "    print(r, p)"
   ]
  },
  {
   "cell_type": "code",
   "execution_count": 6,
   "metadata": {},
   "outputs": [
    {
     "name": "stdout",
     "output_type": "stream",
     "text": [
      "2.0 0.31666666666666665\n",
      "3.0 0.28333333333333327\n",
      "4.0 -0.08333333333333331\n",
      "7.0 -0.7166666666666666\n",
      "6.0 -0.44999999999999996\n",
      "1.0 0.8333333333333333\n",
      "5.0 -0.1833333333333334\n"
     ]
    }
   ],
   "source": [
    "promethe=PROMETHEE_II('usual')\n",
    "p = np.random.rand(x_matrix.shape[1]) / 2\n",
    "q = np.random.rand(x_matrix.shape[1]) / 2 + 0.5\n",
    "pref3 = promethe(alts, weights, types,p=p,q=q)\n",
    "ranking3 = rrankdata(pref3)\n",
    "\n",
    "for r, p in zip(ranking3, pref3):\n",
    "    print(r, p)"
   ]
  },
  {
   "cell_type": "code",
   "execution_count": 7,
   "metadata": {},
   "outputs": [
    {
     "name": "stdout",
     "output_type": "stream",
     "text": [
      "#########################BREAST DATASET#######################\n",
      "+----------------------+--------+--------------------+-------+----------------------+-----------+----------------------+\n",
      "|        Model         | TOPSIS |       Value        | VIKOR |        VALUES        | PROMETHEE |        VALUES        |\n",
      "+----------------------+--------+--------------------+-------+----------------------+-----------+----------------------+\n",
      "| LOGISTIC REGRESSION  |  3.0   | 0.7375491911067369 |  3.0  |  0.5312643849820373  |    2.0    | 0.31666666666666665  |\n",
      "|    DECISION TREE     |  4.0   | 0.7319194107786223 |  4.0  |  0.5394425381555598  |    3.0    | 0.28333333333333327  |\n",
      "| GAUSSIAN NAIVE BAYES |  5.0   | 0.7305643278497282 |  5.0  |  0.542863104093194   |    4.0    | -0.08333333333333331 |\n",
      "|         SVM          |  7.0   | 0.2307148442838144 |  7.0  |         1.0          |    7.0    | -0.7166666666666666  |\n",
      "|    NEURAL NETWORK    |  6.0   | 0.3852283947858865 |  6.0  |   0.91975577601531   |    6.0    | -0.44999999999999996 |\n",
      "|    RANDOM FOREST     |  2.0   | 0.7500000000000001 |  2.0  |         0.5          |    1.0    |  0.8333333333333333  |\n",
      "|     LINEAR MODEL     |  1.0   | 0.8580470522468049 |  1.0  | 0.009804763950867086 |    5.0    | -0.1833333333333334  |\n",
      "+----------------------+--------+--------------------+-------+----------------------+-----------+----------------------+\n"
     ]
    }
   ],
   "source": [
    "from prettytable import PrettyTable\n",
    "print(\"#########################BREAST DATASET#######################\")\n",
    "columns = [\"Model\", \"TOPSIS\",\"Value\",\"VIKOR\",\"VALUES\",\"PROMETHEE\",\"VALUES\"]\n",
    "Table = PrettyTable()\n",
    "Table.add_column(columns[0], [\"LOGISTIC REGRESSION \", \"DECISION TREE\", \"GAUSSIAN NAIVE BAYES\",\n",
    "                       \"SVM \", \"NEURAL NETWORK\", \"RANDOM FOREST \", \"LINEAR MODEL\"])\n",
    "Table.add_column(columns[1], ranking1)\n",
    "Table.add_column(columns[2], pref1)\n",
    "Table.add_column(columns[3], ranking2)\n",
    "Table.add_column(columns[4], pref2)\n",
    "Table.add_column(columns[5], ranking3)\n",
    "Table.add_column(columns[6], pref3)\n",
    "\n",
    "print(Table)"
   ]
  },
  {
   "cell_type": "code",
   "execution_count": 8,
   "metadata": {},
   "outputs": [
    {
     "name": "stdout",
     "output_type": "stream",
     "text": [
      "#########################SAW#######################\n",
      "+----------------------+--------------------+\n",
      "|        Model         |       Value        |\n",
      "+----------------------+--------------------+\n",
      "|    RANDOM FOREST     | 0.6107459811888937 |\n",
      "| LOGISTIC REGRESSION  | 0.6087143889491596 |\n",
      "| GAUSSIAN NAIVE BAYES | 0.6039820058404186 |\n",
      "|    DECISION TREE     | 0.5941742676105118 |\n",
      "|    NEURAL NETWORK    | 0.5163670401408708 |\n",
      "|     LINEAR MODEL     | 0.5133279573527112 |\n",
      "|         SVM          | 0.4782700946309548 |\n",
      "+----------------------+--------------------+\n"
     ]
    }
   ],
   "source": [
    "ans=mcdm.rank(x_matrix, alt_names=alt_names, n_method=\"Linear2\", w_method=\"CRITIC\", s_method=\"SAW\") \n",
    "model=[]\n",
    "value=[]\n",
    "for x in ans:\n",
    "    model.append(x[0])\n",
    "    value.append(x[1])\n",
    "\n",
    "print(\"#########################SAW#######################\")\n",
    "columns = [\"Model\",\"Value\"]\n",
    "Table = PrettyTable()\n",
    "Table.add_column(columns[0], model)\n",
    "Table.add_column(columns[1], value)\n",
    "\n",
    "print(Table) "
   ]
  },
  {
   "cell_type": "code",
   "execution_count": 9,
   "metadata": {},
   "outputs": [
    {
     "name": "stdout",
     "output_type": "stream",
     "text": [
      "#########################MEW#######################\n",
      "+----------------------+---------------------+\n",
      "|        Model         |        Value        |\n",
      "+----------------------+---------------------+\n",
      "|         SVM          |  0.545420093059679  |\n",
      "|     LINEAR MODEL     |  0.3663260784445677 |\n",
      "| LOGISTIC REGRESSION  | 0.27672590978974165 |\n",
      "| GAUSSIAN NAIVE BAYES |  0.274542712549622  |\n",
      "|    DECISION TREE     | 0.26070320399710223 |\n",
      "|    NEURAL NETWORK    |         0.0         |\n",
      "|    RANDOM FOREST     |         0.0         |\n",
      "+----------------------+---------------------+\n"
     ]
    }
   ],
   "source": [
    "ans=mcdm.rank(x_matrix,alt_names=alt_names,n_method=\"Linear1\",w_method=\"CRITIC\",s_method=\"MEW\")\n",
    "model=[]\n",
    "value=[]\n",
    "for x in ans:\n",
    "    model.append(x[0])\n",
    "    value.append(x[1])\n",
    "\n",
    "print(\"#########################MEW#######################\")\n",
    "columns = [\"Model\",\"Value\"]\n",
    "Table = PrettyTable()\n",
    "Table.add_column(columns[0], model)\n",
    "Table.add_column(columns[1], value)\n",
    "\n",
    "print(Table)"
   ]
  },
  {
   "cell_type": "code",
   "execution_count": null,
   "metadata": {},
   "outputs": [],
   "source": []
  }
 ],
 "metadata": {
  "kernelspec": {
   "display_name": "Python 3",
   "language": "python",
   "name": "python3"
  },
  "language_info": {
   "codemirror_mode": {
    "name": "ipython",
    "version": 3
   },
   "file_extension": ".py",
   "mimetype": "text/x-python",
   "name": "python",
   "nbconvert_exporter": "python",
   "pygments_lexer": "ipython3",
   "version": "3.7.4"
  }
 },
 "nbformat": 4,
 "nbformat_minor": 2
}
