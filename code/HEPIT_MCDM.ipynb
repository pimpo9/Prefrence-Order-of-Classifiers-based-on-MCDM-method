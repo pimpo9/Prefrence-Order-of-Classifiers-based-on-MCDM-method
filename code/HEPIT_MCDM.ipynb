{
 "cells": [
  {
   "cell_type": "code",
   "execution_count": 12,
   "metadata": {},
   "outputs": [],
   "source": [
    "import mcdm\n",
    "import numpy as np\n",
    "from pymcdm.methods import TOPSIS\n",
    "from pymcdm.methods import VIKOR\n",
    "from pymcdm.methods import PROMETHEE_II\n",
    "from pymcdm.helpers import rankdata,rrankdata\n",
    "from pymcdm import weights as mcdm_weights"
   ]
  },
  {
   "cell_type": "code",
   "execution_count": 13,
   "metadata": {},
   "outputs": [
    {
     "name": "stdout",
     "output_type": "stream",
     "text": [
      "+----------------------+---------+-----------+--------+-------+----------+---------+---------+-------------+--------------+--------------+\n",
      "|                      | ACURACY | PRECISION | RECALL |  AUC  | F1-SCORE | FP_RATE | FN_RATE | SPECIFICITY | HAMMING LOSS | ENTROPY LOSS |\n",
      "+----------------------+---------+-----------+--------+-------+----------+---------+---------+-------------+--------------+--------------+\n",
      "| LOGISTIC REGRESSION  |   0.86  |    0.89   |  0.86  |  0.86 |   0.87   |   0.12  |   0.25  |     0.88    | 0.137931034  | 4.764051875  |\n",
      "|    DECISION TREE     |   0.79  |    0.87   |  0.79  | 0.775 |   0.82   |   0.2   |   0.25  |     0.8     | 0.206896552  | 7.146091599  |\n",
      "| GAUSSIAN NAIVE BAYES |   0.83  |    0.88   |  0.83  |  0.95 |   0.85   |   0.16  |   0.25  |     0.84    | 0.172413793  | 5.955071737  |\n",
      "|         SVM          |   0.86  |    0.74   |  0.86  |  0.63 |   0.8    |    0    |    1    |      1      | 0.137931034  | 4.763969158  |\n",
      "|    NEURAL NETWORK    |   0.76  |    0.73   |  0.76  |  0.44 |   0.74   |   0.12  |    1    |     0.88    |  0.24137931  | 4.763969158  |\n",
      "|    RANDOM FOREST     |   0.86  |    0.86   |  0.86  |  0.87 |   0.86   |   0.08  |   0.5   |     0.92    | 0.137931034  | 4.763969158  |\n",
      "|     LINEAR MODEL     |   0.72  |    0.81   |  0.72  |  0.63 |   0.76   |   0.24  |   0.5   |     0.76    | 0.275862068  | 4.763969158  |\n",
      "+----------------------+---------+-----------+--------+-------+----------+---------+---------+-------------+--------------+--------------+\n"
     ]
    }
   ],
   "source": [
    "from prettytable import from_csv\n",
    "with open(\"hep_perform.tsv\") as fp:\n",
    "    mytable = from_csv(fp)\n",
    "print(mytable)"
   ]
  },
  {
   "cell_type": "code",
   "execution_count": 14,
   "metadata": {},
   "outputs": [],
   "source": [
    "x_matrix, alt_names = mcdm.load(\"hep_perform.tsv\", delimiter=\"\\t\", skiprows=1, labeled_rows=True)\n",
    "alts = np.array(x_matrix, dtype='float')\n",
    "weights = mcdm_weights.equal(alts)\n",
    "weight=weights.tolist()\n",
    "types = np.array([1,1,1,1,1,-1,-1,1,-1,-1])"
   ]
  },
  {
   "cell_type": "code",
   "execution_count": 15,
   "metadata": {},
   "outputs": [
    {
     "name": "stdout",
     "output_type": "stream",
     "text": [
      "2.0 0.7969103845723764\n",
      "5.0 0.4985724196076565\n",
      "3.0 0.678156873084089\n",
      "4.0 0.6116320148255644\n",
      "7.0 0.3475318192132489\n",
      "1.0 0.8131457124040566\n",
      "6.0 0.3488284877446559\n"
     ]
    }
   ],
   "source": [
    "topsis = TOPSIS()\n",
    "# Determine preferences and ranking for alternatives\n",
    "pref1 = topsis(alts, weights, types)\n",
    "ranking1= rrankdata(pref1)\n",
    "\n",
    "for r, p in zip(ranking1, pref1):\n",
    "    print(r, p)\n"
   ]
  },
  {
   "cell_type": "code",
   "execution_count": 16,
   "metadata": {},
   "outputs": [
    {
     "name": "stdout",
     "output_type": "stream",
     "text": [
      "2.0 0.12499999999999994\n",
      "5.0 0.8134292550523017\n",
      "3.0 0.3765622679251991\n",
      "4.0 0.6571591480124447\n",
      "6.0 0.989530369969404\n",
      "1.0 0.01996437411488836\n",
      "7.0 1.0\n"
     ]
    }
   ],
   "source": [
    "vikor= VIKOR()\n",
    "pref2 = vikor(alts, weights, types)\n",
    "ranking2= rankdata(pref2)\n",
    "\n",
    "for r, p in zip(ranking2, pref2):\n",
    "    print(r, p)"
   ]
  },
  {
   "cell_type": "code",
   "execution_count": 17,
   "metadata": {},
   "outputs": [
    {
     "name": "stdout",
     "output_type": "stream",
     "text": [
      "1.5 0.5\n",
      "5.0 -0.23333333333333328\n",
      "4.0 0.13333333333333325\n",
      "3.0 0.21666666666666673\n",
      "6.0 -0.4999999999999998\n",
      "1.5 0.5\n",
      "7.0 -0.6166666666666666\n"
     ]
    }
   ],
   "source": [
    "promethe=PROMETHEE_II('usual')\n",
    "p = np.random.rand(x_matrix.shape[1]) / 2\n",
    "q = np.random.rand(x_matrix.shape[1]) / 2 + 0.5\n",
    "pref3 = promethe(alts, weights, types,p=p,q=q)\n",
    "ranking3 = rrankdata(pref3)\n",
    "\n",
    "for r, p in zip(ranking3, pref3):\n",
    "    print(r, p)"
   ]
  },
  {
   "cell_type": "code",
   "execution_count": 18,
   "metadata": {},
   "outputs": [
    {
     "name": "stdout",
     "output_type": "stream",
     "text": [
      "#########################BREAST DATASET#######################\n",
      "+----------------------+--------+--------------------+-------+---------------------+-----------+----------------------+\n",
      "|        Model         | TOPSIS |       Value        | VIKOR |        VALUES       | PROMETHEE |        VALUES        |\n",
      "+----------------------+--------+--------------------+-------+---------------------+-----------+----------------------+\n",
      "| LOGISTIC REGRESSION  |  2.0   | 0.7969103845723764 |  2.0  | 0.12499999999999994 |    1.5    |         0.5          |\n",
      "|    DECISION TREE     |  5.0   | 0.4985724196076565 |  5.0  |  0.8134292550523017 |    5.0    | -0.23333333333333328 |\n",
      "| GAUSSIAN NAIVE BAYES |  3.0   | 0.678156873084089  |  3.0  |  0.3765622679251991 |    4.0    | 0.13333333333333325  |\n",
      "|         SVM          |  4.0   | 0.6116320148255644 |  4.0  |  0.6571591480124447 |    3.0    | 0.21666666666666673  |\n",
      "|    NEURAL NETWORK    |  7.0   | 0.3475318192132489 |  6.0  |  0.989530369969404  |    6.0    | -0.4999999999999998  |\n",
      "|    RANDOM FOREST     |  1.0   | 0.8131457124040566 |  1.0  | 0.01996437411488836 |    1.5    |         0.5          |\n",
      "|     LINEAR MODEL     |  6.0   | 0.3488284877446559 |  7.0  |         1.0         |    7.0    | -0.6166666666666666  |\n",
      "+----------------------+--------+--------------------+-------+---------------------+-----------+----------------------+\n"
     ]
    }
   ],
   "source": [
    "from prettytable import PrettyTable\n",
    "print(\"#########################BREAST DATASET#######################\")\n",
    "columns = [\"Model\", \"TOPSIS\",\"Value\",\"VIKOR\",\"VALUES\",\"PROMETHEE\",\"VALUES\"]\n",
    "Table = PrettyTable()\n",
    "Table.add_column(columns[0], [\"LOGISTIC REGRESSION \", \"DECISION TREE\", \"GAUSSIAN NAIVE BAYES\",\n",
    "                       \"SVM \", \"NEURAL NETWORK\", \"RANDOM FOREST \", \"LINEAR MODEL\"])\n",
    "Table.add_column(columns[1], ranking1)\n",
    "Table.add_column(columns[2], pref1)\n",
    "Table.add_column(columns[3], ranking2)\n",
    "Table.add_column(columns[4], pref2)\n",
    "Table.add_column(columns[5], ranking3)\n",
    "Table.add_column(columns[6], pref3)\n",
    "\n",
    "print(Table)"
   ]
  },
  {
   "cell_type": "code",
   "execution_count": 19,
   "metadata": {},
   "outputs": [
    {
     "name": "stdout",
     "output_type": "stream",
     "text": [
      "#########################SAW#######################\n",
      "+----------------------+--------------------+\n",
      "|        Model         |       Value        |\n",
      "+----------------------+--------------------+\n",
      "| GAUSSIAN NAIVE BAYES | 0.6105099783245274 |\n",
      "|    RANDOM FOREST     | 0.5912047511312217 |\n",
      "| LOGISTIC REGRESSION  | 0.582356413584042  |\n",
      "|    DECISION TREE     | 0.5647247367732655 |\n",
      "|         SVM          | 0.4896587481146305 |\n",
      "|     LINEAR MODEL     | 0.3359728506787331 |\n",
      "|    NEURAL NETWORK    | 0.3321428575053572 |\n",
      "+----------------------+--------------------+\n"
     ]
    }
   ],
   "source": [
    "ans=mcdm.rank(x_matrix, alt_names=alt_names, n_method=\"Linear2\",is_benefit_x=[1,1,1,1,1,-1,-1,1,-1,-1], w_vector=weight, s_method=\"SAW\") \n",
    "model=[]\n",
    "value=[]\n",
    "for x in ans:\n",
    "    model.append(x[0])\n",
    "    value.append(x[1])\n",
    "\n",
    "print(\"#########################SAW#######################\")\n",
    "columns = [\"Model\",\"Value\"]\n",
    "Table = PrettyTable()\n",
    "Table.add_column(columns[0], model)\n",
    "Table.add_column(columns[1], value)\n",
    "\n",
    "print(Table) "
   ]
  },
  {
   "cell_type": "code",
   "execution_count": 20,
   "metadata": {},
   "outputs": [
    {
     "name": "stdout",
     "output_type": "stream",
     "text": [
      "#########################MEW#######################\n",
      "+----------------------+--------------------+\n",
      "|        Model         |       Value        |\n",
      "+----------------------+--------------------+\n",
      "|     LINEAR MODEL     | 0.7891068884737424 |\n",
      "|    DECISION TREE     | 0.7760986425318048 |\n",
      "| GAUSSIAN NAIVE BAYES | 0.761548924971407  |\n",
      "|    NEURAL NETWORK    | 0.7605654215040737 |\n",
      "|    RANDOM FOREST     | 0.7328903838809628 |\n",
      "| LOGISTIC REGRESSION  | 0.7113847383739225 |\n",
      "|         SVM          |        0.0         |\n",
      "+----------------------+--------------------+\n"
     ]
    }
   ],
   "source": [
    "ans=mcdm.rank(x_matrix,alt_names=alt_names,n_method=\"Linear1\",is_benefit_x=[1,1,1,1,1,-1,-1,1,-1,-1], w_vector=weight,s_method=\"MEW\")\n",
    "model=[]\n",
    "value=[]\n",
    "for x in ans:\n",
    "    model.append(x[0])\n",
    "    value.append(x[1])\n",
    "\n",
    "print(\"#########################MEW#######################\")\n",
    "columns = [\"Model\",\"Value\"]\n",
    "Table = PrettyTable()\n",
    "Table.add_column(columns[0], model)\n",
    "Table.add_column(columns[1], value)\n",
    "\n",
    "print(Table)"
   ]
  },
  {
   "cell_type": "code",
   "execution_count": null,
   "metadata": {},
   "outputs": [],
   "source": []
  }
 ],
 "metadata": {
  "kernelspec": {
   "display_name": "Python 3",
   "language": "python",
   "name": "python3"
  },
  "language_info": {
   "codemirror_mode": {
    "name": "ipython",
    "version": 3
   },
   "file_extension": ".py",
   "mimetype": "text/x-python",
   "name": "python",
   "nbconvert_exporter": "python",
   "pygments_lexer": "ipython3",
   "version": "3.7.4"
  }
 },
 "nbformat": 4,
 "nbformat_minor": 2
}
