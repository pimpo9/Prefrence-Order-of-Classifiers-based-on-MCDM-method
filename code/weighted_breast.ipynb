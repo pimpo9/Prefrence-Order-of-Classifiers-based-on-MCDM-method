{
 "cells": [
  {
   "cell_type": "code",
   "execution_count": 7,
   "metadata": {},
   "outputs": [],
   "source": [
    "import mcdm\n",
    "import numpy as np\n",
    "from pymcdm.methods import TOPSIS\n",
    "from pymcdm.methods import VIKOR\n",
    "from pymcdm.methods import PROMETHEE_II\n",
    "from pymcdm.helpers import rankdata,rrankdata\n",
    "from pymcdm import weights as mcdm_weights"
   ]
  },
  {
   "cell_type": "code",
   "execution_count": 8,
   "metadata": {},
   "outputs": [
    {
     "name": "stdout",
     "output_type": "stream",
     "text": [
      "+----------------------+---------+-----------+--------+-------------+----------+---------+---------+-------------+--------------+--------------+\n",
      "|                      | ACURACY | PRECISION | RECALL |     AUC     | F1-SCORE | FP_RATE | FN_RATE | SPECIFICITY | HAMMING LOSS | ENTROPY LOSS |\n",
      "+----------------------+---------+-----------+--------+-------------+----------+---------+---------+-------------+--------------+--------------+\n",
      "| LOGISTIC REGRESSION  |   0.95  |    0.95   |  0.95  | 0.991216216 |   0.95   |  0.075  |  0.054  |    0.925    | 0.052631579  | 4.763969158  |\n",
      "|    DECISION TREE     |   0.95  |    0.95   |  0.95  | 0.947972973 |   0.95   |   0.05  |  0.054  |     0.95    | 0.052631579  | 4.763969158  |\n",
      "| GAUSSIAN NAIVE BAYES |   0.94  |    0.94   |  0.94  | 0.988851351 |   0.94   |  0.125  |  0.027  |    0.875    | 0.061403509  | 4.763969158  |\n",
      "|         SVM          |   0.44  |    0.42   |  0.44  | 0.755743243 |   0.43   |   0.85  |  0.4054 |     0.15    | 0.561403509  | 4.763969158  |\n",
      "|    NEURAL NETWORK    |   0.35  |    0.12   |  0.35  | 0.966554054 |   0.18   |    0    |    1    |      1      | 0.649122807  | 4.763969158  |\n",
      "|    RANDOM FOREST     |   0.98  |    0.98   |  0.98  | 0.998310811 |   0.98   |    0    |  0.027  |      1      |  0.01754386  | 4.763969158  |\n",
      "|     LINEAR MODEL     |   0.94  |    0.94   |  0.94  | 0.923986486 |   0.94   |  0.125  |   0.27  |    0.875    | 0.061403509  | 2.120837129  |\n",
      "+----------------------+---------+-----------+--------+-------------+----------+---------+---------+-------------+--------------+--------------+\n"
     ]
    }
   ],
   "source": [
    "from prettytable import from_csv\n",
    "with open(\"breast_perform.tsv\") as fp:\n",
    "    mytable = from_csv(fp)\n",
    "print(mytable)"
   ]
  },
  {
   "cell_type": "code",
   "execution_count": 9,
   "metadata": {},
   "outputs": [],
   "source": [
    "x_matrix, alt_names = mcdm.load(\"breast_perform.tsv\", delimiter=\"\\t\", skiprows=1, labeled_rows=True)\n",
    "alts = np.array(x_matrix, dtype='float')\n",
    "weight = [0.10909090908971901,0.16363636363821488, 0.18181818182165294,0.12727272727352062,0.14545454545314052,0.0363636363625124,0.0727272727239339,0.0545454545446777,0.09090909091046283,0.018181818182165292]\n",
    "weights=np.array(weight)\n",
    "types = np.array([1,1,1,1,1,-1,-1,1,-1,-1])"
   ]
  },
  {
   "cell_type": "code",
   "execution_count": 10,
   "metadata": {},
   "outputs": [
    {
     "name": "stdout",
     "output_type": "stream",
     "text": [
      "2.0 0.9345384644893263\n",
      "4.0 0.9047780170462361\n",
      "3.0 0.923413206070996\n",
      "7.0 0.24204863508868982\n",
      "6.0 0.28211079236423886\n",
      "1.0 0.951446689445082\n",
      "5.0 0.8712772491802427\n"
     ]
    }
   ],
   "source": [
    "topsis = TOPSIS()\n",
    "# Determine preferences and ranking for alternatives\n",
    "pref1 = topsis(alts, weights, types)\n",
    "ranking1= rrankdata(pref1)\n",
    "\n",
    "for r, p in zip(ranking1, pref1):\n",
    "    print(r, p)\n"
   ]
  },
  {
   "cell_type": "code",
   "execution_count": 11,
   "metadata": {},
   "outputs": [
    {
     "name": "stdout",
     "output_type": "stream",
     "text": [
      "2.0 0.028071431747176433\n",
      "4.0 0.06603815822386921\n",
      "3.0 0.037148097005403585\n",
      "6.0 0.9206349206349207\n",
      "7.0 0.9997732308891574\n",
      "1.0 0.0\n",
      "5.0 0.12253710736570203\n"
     ]
    }
   ],
   "source": [
    "vikor= VIKOR()\n",
    "pref2 = vikor(alts, weights, types)\n",
    "ranking2= rankdata(pref2)\n",
    "\n",
    "for r, p in zip(ranking2, pref2):\n",
    "    print(r, p)"
   ]
  },
  {
   "cell_type": "code",
   "execution_count": 12,
   "metadata": {},
   "outputs": [
    {
     "name": "stdout",
     "output_type": "stream",
     "text": [
      "2.0 0.43939393939590354\n",
      "3.0 0.3424242424247796\n",
      "4.0 -0.06060606060836915\n",
      "7.0 -0.7303030303024877\n",
      "6.0 -0.6909090909114931\n",
      "1.0 0.9515151515156199\n",
      "5.0 -0.2515151515139531\n"
     ]
    }
   ],
   "source": [
    "promethe=PROMETHEE_II('usual')\n",
    "p = np.random.rand(x_matrix.shape[1]) / 2\n",
    "q = np.random.rand(x_matrix.shape[1]) / 2 + 0.5\n",
    "pref3 = promethe(alts, weights, types,p=p,q=q)\n",
    "ranking3 = rrankdata(pref3)\n",
    "\n",
    "for r, p in zip(ranking3, pref3):\n",
    "    print(r, p)"
   ]
  },
  {
   "cell_type": "code",
   "execution_count": 13,
   "metadata": {},
   "outputs": [
    {
     "name": "stdout",
     "output_type": "stream",
     "text": [
      "#########################BREAST DATASET#######################\n",
      "+----------------------+--------+---------------------+-------+----------------------+-----------+----------------------+\n",
      "|        Model         | TOPSIS |        Value        | VIKOR |        VALUES        | PROMETHEE |        VALUES        |\n",
      "+----------------------+--------+---------------------+-------+----------------------+-----------+----------------------+\n",
      "| LOGISTIC REGRESSION  |  2.0   |  0.9345384644893263 |  2.0  | 0.028071431747176433 |    2.0    | 0.43939393939590354  |\n",
      "|    DECISION TREE     |  4.0   |  0.9047780170462361 |  4.0  | 0.06603815822386921  |    3.0    |  0.3424242424247796  |\n",
      "| GAUSSIAN NAIVE BAYES |  3.0   |  0.923413206070996  |  3.0  | 0.037148097005403585 |    4.0    | -0.06060606060836915 |\n",
      "|         SVM          |  7.0   | 0.24204863508868982 |  6.0  |  0.9206349206349207  |    7.0    | -0.7303030303024877  |\n",
      "|    NEURAL NETWORK    |  6.0   | 0.28211079236423886 |  7.0  |  0.9997732308891574  |    6.0    | -0.6909090909114931  |\n",
      "|    RANDOM FOREST     |  1.0   |  0.951446689445082  |  1.0  |         0.0          |    1.0    |  0.9515151515156199  |\n",
      "|     LINEAR MODEL     |  5.0   |  0.8712772491802427 |  5.0  | 0.12253710736570203  |    5.0    | -0.2515151515139531  |\n",
      "+----------------------+--------+---------------------+-------+----------------------+-----------+----------------------+\n"
     ]
    }
   ],
   "source": [
    "from prettytable import PrettyTable\n",
    "print(\"#########################BREAST DATASET#######################\")\n",
    "columns = [\"Model\", \"TOPSIS\",\"Value\",\"VIKOR\",\"VALUES\",\"PROMETHEE\",\"VALUES\"]\n",
    "Table = PrettyTable()\n",
    "Table.add_column(columns[0], [\"LOGISTIC REGRESSION \", \"DECISION TREE\", \"GAUSSIAN NAIVE BAYES\",\n",
    "                       \"SVM \", \"NEURAL NETWORK\", \"RANDOM FOREST \", \"LINEAR MODEL\"])\n",
    "Table.add_column(columns[1], ranking1)\n",
    "Table.add_column(columns[2], pref1)\n",
    "Table.add_column(columns[3], ranking2)\n",
    "Table.add_column(columns[4], pref2)\n",
    "Table.add_column(columns[5], ranking3)\n",
    "Table.add_column(columns[6], pref3)\n",
    "\n",
    "print(Table)"
   ]
  },
  {
   "cell_type": "code",
   "execution_count": 14,
   "metadata": {},
   "outputs": [
    {
     "name": "stdout",
     "output_type": "stream",
     "text": [
      "#########################SAW#######################\n",
      "+----------------------+--------------------+\n",
      "|        Model         |       Value        |\n",
      "+----------------------+--------------------+\n",
      "|    RANDOM FOREST     | 0.6107459811888937 |\n",
      "| LOGISTIC REGRESSION  | 0.6087143889491596 |\n",
      "| GAUSSIAN NAIVE BAYES | 0.6039820058404186 |\n",
      "|    DECISION TREE     | 0.5941742676105118 |\n",
      "|    NEURAL NETWORK    | 0.5163670401408708 |\n",
      "|     LINEAR MODEL     | 0.5133279573527112 |\n",
      "|         SVM          | 0.4782700946309548 |\n",
      "+----------------------+--------------------+\n"
     ]
    }
   ],
   "source": [
    "ans=mcdm.rank(x_matrix, alt_names=alt_names, n_method=\"Linear2\", w_method=\"CRITIC\", s_method=\"SAW\") \n",
    "model=[]\n",
    "value=[]\n",
    "for x in ans:\n",
    "    model.append(x[0])\n",
    "    value.append(x[1])\n",
    "\n",
    "print(\"#########################SAW#######################\")\n",
    "columns = [\"Model\",\"Value\"]\n",
    "Table = PrettyTable()\n",
    "Table.add_column(columns[0], model)\n",
    "Table.add_column(columns[1], value)\n",
    "\n",
    "print(Table) "
   ]
  },
  {
   "cell_type": "code",
   "execution_count": 15,
   "metadata": {},
   "outputs": [
    {
     "name": "stdout",
     "output_type": "stream",
     "text": [
      "#########################MEW#######################\n",
      "+----------------------+---------------------+\n",
      "|        Model         |        Value        |\n",
      "+----------------------+---------------------+\n",
      "|         SVM          |  0.545420093059679  |\n",
      "|     LINEAR MODEL     |  0.3663260784445677 |\n",
      "| LOGISTIC REGRESSION  | 0.27672590978974165 |\n",
      "| GAUSSIAN NAIVE BAYES |  0.274542712549622  |\n",
      "|    DECISION TREE     | 0.26070320399710223 |\n",
      "|    NEURAL NETWORK    |         0.0         |\n",
      "|    RANDOM FOREST     |         0.0         |\n",
      "+----------------------+---------------------+\n"
     ]
    }
   ],
   "source": [
    "ans=mcdm.rank(x_matrix,alt_names=alt_names,n_method=\"Linear1\",w_method=\"CRITIC\",s_method=\"MEW\")\n",
    "model=[]\n",
    "value=[]\n",
    "for x in ans:\n",
    "    model.append(x[0])\n",
    "    value.append(x[1])\n",
    "\n",
    "print(\"#########################MEW#######################\")\n",
    "columns = [\"Model\",\"Value\"]\n",
    "Table = PrettyTable()\n",
    "Table.add_column(columns[0], model)\n",
    "Table.add_column(columns[1], value)\n",
    "\n",
    "print(Table)"
   ]
  },
  {
   "cell_type": "code",
   "execution_count": null,
   "metadata": {},
   "outputs": [],
   "source": []
  }
 ],
 "metadata": {
  "kernelspec": {
   "display_name": "Python 3",
   "language": "python",
   "name": "python3"
  },
  "language_info": {
   "codemirror_mode": {
    "name": "ipython",
    "version": 3
   },
   "file_extension": ".py",
   "mimetype": "text/x-python",
   "name": "python",
   "nbconvert_exporter": "python",
   "pygments_lexer": "ipython3",
   "version": "3.7.4"
  }
 },
 "nbformat": 4,
 "nbformat_minor": 2
}
