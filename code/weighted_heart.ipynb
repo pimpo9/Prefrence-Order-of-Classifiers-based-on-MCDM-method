{
 "cells": [
  {
   "cell_type": "code",
   "execution_count": 19,
   "metadata": {},
   "outputs": [],
   "source": [
    "import mcdm\n",
    "import numpy as np\n",
    "from pymcdm.methods import TOPSIS\n",
    "from pymcdm.methods import VIKOR\n",
    "from pymcdm.methods import PROMETHEE_II\n",
    "from pymcdm.helpers import rankdata, rrankdata\n",
    "from pymcdm import weights as mcdm_weights"
   ]
  },
  {
   "cell_type": "code",
   "execution_count": 20,
   "metadata": {},
   "outputs": [
    {
     "name": "stdout",
     "output_type": "stream",
     "text": [
      "+----------------------+----------+-----------+--------+-------------+----------+-------------+-------------+-------------+--------------+--------------+\n",
      "|                      | ACCURACY | PRECISION | RECALL |     AUC     | F1-SCORE |   FP_RATE   |   FN_RATE   | SPECIFICITY | HAMMING LOSS | ENTROPY LOSS |\n",
      "+----------------------+----------+-----------+--------+-------------+----------+-------------+-------------+-------------+--------------+--------------+\n",
      "| LOGISTIC REGRESSION  |   0.8    |    0.86   |  0.8   | 0.949891068 |   0.8    | 0.352941176 |      0      | 0.647058824 | 0.196721311  | 6.794670687  |\n",
      "|    DECISION TREE     |   0.74   |    0.76   |  0.74  | 0.749455338 |   0.74   | 0.352941176 | 0.148148148 | 0.647058824 | 0.262295082  | 9.059508483  |\n",
      "| GAUSSIAN NAIVE BAYES |   0.87   |    0.9    |  0.87  | 0.934640523 |   0.87   | 0.235294118 |      0      | 0.764705882 | 0.131147541  | 4.529780458  |\n",
      "|         SVM          |   0.44   |    0.2    |  0.44  | 0.566448802 |   0.27   |      1      |      0      |      0      | 0.557377049  | 19.25156695  |\n",
      "|    NEURAL NETWORK    |   0.56   |    0.31   |  0.56  |  0.35620915 |   0.4    |      0      |      1      |      1      | 0.442622951  | 15.28765513  |\n",
      "|    RANDOM FOREST     |   0.8    |    0.83   |  0.8   | 0.883442266 |   0.8    | 0.294117647 | 0.074074074 | 0.705882353 | 0.196721311  | 7.927076477  |\n",
      "|     LINEAR MODEL     |   0.69   |    0.71   |  0.69  | 0.697712418 |   0.69   | 0.382352941 |  0.2222222  | 0.617647059 |  0.31147541  | 10.75814994  |\n",
      "+----------------------+----------+-----------+--------+-------------+----------+-------------+-------------+-------------+--------------+--------------+\n"
     ]
    }
   ],
   "source": [
    "from prettytable import from_csv\n",
    "with open(\"heart_perform.tsv\") as fp:\n",
    "    mytable = from_csv(fp)\n",
    "print(mytable)"
   ]
  },
  {
   "cell_type": "code",
   "execution_count": 21,
   "metadata": {},
   "outputs": [],
   "source": [
    "x_matrix, alt_names = mcdm.load(\"heart_perform.tsv\", delimiter=\"\\t\", skiprows=1, labeled_rows=True)\n",
    "alts = np.array(x_matrix, dtype='float')\n",
    "weight = [0.10909090908971901,0.16363636363821488, 0.18181818182165294,0.12727272727352062,0.14545454545314052,0.0363636363625124,0.0727272727239339,0.0545454545446777,0.09090909091046283,0.018181818182165292]\n",
    "weights=np.array(weight)\n",
    "types = np.array([1,1,1,1,1,-1,-1,1,-1,-1])"
   ]
  },
  {
   "cell_type": "code",
   "execution_count": 22,
   "metadata": {},
   "outputs": [
    {
     "name": "stdout",
     "output_type": "stream",
     "text": [
      "2.0 0.8688923584178941\n",
      "4.0 0.7293310983982733\n",
      "1.0 0.9572522011247699\n",
      "7.0 0.20321579498106554\n",
      "6.0 0.26020687310738383\n",
      "3.0 0.85906853200189\n",
      "5.0 0.6373558152472117\n"
     ]
    }
   ],
   "source": [
    "topsis = TOPSIS()\n",
    "# Determine preferences and ranking for alternatives\n",
    "pref1 = topsis(alts, weights, types)\n",
    "ranking1= rrankdata(pref1)\n",
    "\n",
    "for r, p in zip(ranking1, pref1):\n",
    "    print(r, p)\n"
   ]
  },
  {
   "cell_type": "code",
   "execution_count": 23,
   "metadata": {},
   "outputs": [
    {
     "name": "stdout",
     "output_type": "stream",
     "text": [
      "2.0 0.10667655584933175\n",
      "4.0 0.2686427536289488\n",
      "1.0 0.0\n",
      "7.0 1.0\n",
      "6.0 0.7879668411601278\n",
      "3.0 0.1199099334694391\n",
      "5.0 0.3833103317534652\n"
     ]
    }
   ],
   "source": [
    "vikor= VIKOR()\n",
    "pref2 = vikor(alts, weights, types)\n",
    "ranking2= rankdata(pref2)\n",
    "\n",
    "for r, p in zip(ranking2, pref2):\n",
    "    print(r, p)"
   ]
  },
  {
   "cell_type": "code",
   "execution_count": 24,
   "metadata": {},
   "outputs": [
    {
     "name": "stdout",
     "output_type": "stream",
     "text": [
      "2.0 0.5454545454560191\n",
      "4.0 -0.039393939392509625\n",
      "1.0 0.9030303030317852\n",
      "7.0 -0.8363636363689366\n",
      "6.0 -0.5818181818205013\n",
      "3.0 0.3969696969711846\n",
      "5.0 -0.38787878787704133\n"
     ]
    }
   ],
   "source": [
    "promethe=PROMETHEE_II('usual')\n",
    "p = np.random.rand(x_matrix.shape[1]) / 2\n",
    "q = np.random.rand(x_matrix.shape[1]) / 2 + 0.5\n",
    "pref3 = promethe(alts, weights, types,p=p,q=q)\n",
    "ranking3 = rrankdata(pref3)\n",
    "\n",
    "for r, p in zip(ranking3, pref3):\n",
    "    print(r, p)"
   ]
  },
  {
   "cell_type": "code",
   "execution_count": 25,
   "metadata": {},
   "outputs": [
    {
     "name": "stdout",
     "output_type": "stream",
     "text": [
      "#########################PIMA DATASET#######################\n",
      "+----------------------+--------+---------------------+-------+---------------------+-----------+-----------------------+\n",
      "|        Model         | TOPSIS |        Value        | VIKOR |        VALUES       | PROMETHEE |         VALUES        |\n",
      "+----------------------+--------+---------------------+-------+---------------------+-----------+-----------------------+\n",
      "| LOGISTIC REGRESSION  |  2.0   |  0.8688923584178941 |  2.0  | 0.10667655584933175 |    2.0    |   0.5454545454560191  |\n",
      "|    DECISION TREE     |  4.0   |  0.7293310983982733 |  4.0  |  0.2686427536289488 |    4.0    | -0.039393939392509625 |\n",
      "| GAUSSIAN NAIVE BAYES |  1.0   |  0.9572522011247699 |  1.0  |         0.0         |    1.0    |   0.9030303030317852  |\n",
      "|         SVM          |  7.0   | 0.20321579498106554 |  7.0  |         1.0         |    7.0    |  -0.8363636363689366  |\n",
      "|    NEURAL NETWORK    |  6.0   | 0.26020687310738383 |  6.0  |  0.7879668411601278 |    6.0    |  -0.5818181818205013  |\n",
      "|    RANDOM FOREST     |  3.0   |   0.85906853200189  |  3.0  |  0.1199099334694391 |    3.0    |   0.3969696969711846  |\n",
      "|     LINEAR MODEL     |  5.0   |  0.6373558152472117 |  5.0  |  0.3833103317534652 |    5.0    |  -0.38787878787704133 |\n",
      "+----------------------+--------+---------------------+-------+---------------------+-----------+-----------------------+\n"
     ]
    }
   ],
   "source": [
    "from prettytable import PrettyTable\n",
    "print(\"#########################PIMA DATASET#######################\")\n",
    "columns = [\"Model\", \"TOPSIS\",\"Value\",\"VIKOR\",\"VALUES\",\"PROMETHEE\",\"VALUES\"]\n",
    "Table = PrettyTable()\n",
    "Table.add_column(columns[0], [\"LOGISTIC REGRESSION \", \"DECISION TREE\", \"GAUSSIAN NAIVE BAYES\",\n",
    "                       \"SVM \", \"NEURAL NETWORK\", \"RANDOM FOREST \", \"LINEAR MODEL\"])\n",
    "Table.add_column(columns[1], ranking1)\n",
    "Table.add_column(columns[2], pref1)\n",
    "Table.add_column(columns[3], ranking2)\n",
    "Table.add_column(columns[4], pref2)\n",
    "Table.add_column(columns[5], ranking3)\n",
    "Table.add_column(columns[6], pref3)\n",
    "\n",
    "print(Table)"
   ]
  },
  {
   "cell_type": "code",
   "execution_count": 26,
   "metadata": {},
   "outputs": [
    {
     "name": "stdout",
     "output_type": "stream",
     "text": [
      "#########################SAW#######################\n",
      "+----------------------+---------------------+\n",
      "|        Model         |        Value        |\n",
      "+----------------------+---------------------+\n",
      "| GAUSSIAN NAIVE BAYES |  0.7742707157207465 |\n",
      "| LOGISTIC REGRESSION  |  0.7185066460246889 |\n",
      "|    RANDOM FOREST     |  0.7051037315605179 |\n",
      "|    DECISION TREE     |  0.6245810239067179 |\n",
      "|     LINEAR MODEL     |  0.5732921090172806 |\n",
      "|    NEURAL NETWORK    | 0.34540593953354615 |\n",
      "|         SVM          | 0.19052543793106042 |\n",
      "+----------------------+---------------------+\n"
     ]
    }
   ],
   "source": [
    "ans=mcdm.rank(x_matrix, alt_names=alt_names,is_benefit_x=[1,1,1,1,1,-1,-1,1,-1,-1],n_method=\"Linear2\", w_vector=weight, s_method=\"SAW\") \n",
    "model=[]\n",
    "value=[]\n",
    "for x in ans:\n",
    "    model.append(x[0])\n",
    "    value.append(x[1])\n",
    "\n",
    "print(\"#########################SAW#######################\")\n",
    "columns = [\"Model\",\"Value\"]\n",
    "Table = PrettyTable()\n",
    "Table.add_column(columns[0], model)\n",
    "Table.add_column(columns[1], value)\n",
    "\n",
    "print(Table) "
   ]
  },
  {
   "cell_type": "code",
   "execution_count": 27,
   "metadata": {},
   "outputs": [
    {
     "name": "stdout",
     "output_type": "stream",
     "text": [
      "#########################MEW#######################\n",
      "+----------------------+--------------------+\n",
      "|        Model         |       Value        |\n",
      "+----------------------+--------------------+\n",
      "|    DECISION TREE     | 0.6628713135019321 |\n",
      "|     LINEAR MODEL     | 0.6614412985215331 |\n",
      "|    RANDOM FOREST     | 0.6552890781554467 |\n",
      "| LOGISTIC REGRESSION  |        0.0         |\n",
      "| GAUSSIAN NAIVE BAYES |        0.0         |\n",
      "|         SVM          |        0.0         |\n",
      "|    NEURAL NETWORK    |        0.0         |\n",
      "+----------------------+--------------------+\n"
     ]
    }
   ],
   "source": [
    "ans=mcdm.rank(x_matrix,alt_names=alt_names,is_benefit_x=[1,1,1,1,1,-1,-1,1,-1,-1], w_vector=weight,n_method=\"Linear1\",s_method=\"MEW\")\n",
    "model=[]\n",
    "value=[]\n",
    "for x in ans:\n",
    "    model.append(x[0])\n",
    "    value.append(x[1])\n",
    "\n",
    "print(\"#########################MEW#######################\")\n",
    "columns = [\"Model\",\"Value\"]\n",
    "Table = PrettyTable()\n",
    "Table.add_column(columns[0], model)\n",
    "Table.add_column(columns[1], value)\n",
    "\n",
    "print(Table)"
   ]
  },
  {
   "cell_type": "code",
   "execution_count": null,
   "metadata": {},
   "outputs": [],
   "source": []
  }
 ],
 "metadata": {
  "kernelspec": {
   "display_name": "Python 3",
   "language": "python",
   "name": "python3"
  },
  "language_info": {
   "codemirror_mode": {
    "name": "ipython",
    "version": 3
   },
   "file_extension": ".py",
   "mimetype": "text/x-python",
   "name": "python",
   "nbconvert_exporter": "python",
   "pygments_lexer": "ipython3",
   "version": "3.7.4"
  }
 },
 "nbformat": 4,
 "nbformat_minor": 2
}
