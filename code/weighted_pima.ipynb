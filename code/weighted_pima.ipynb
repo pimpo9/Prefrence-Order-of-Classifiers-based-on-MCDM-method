{
 "cells": [
  {
   "cell_type": "code",
   "execution_count": 1,
   "metadata": {},
   "outputs": [],
   "source": [
    "import mcdm\n",
    "import numpy as np\n",
    "from pymcdm.methods import TOPSIS\n",
    "from pymcdm.methods import VIKOR\n",
    "from pymcdm.methods import PROMETHEE_II\n",
    "from pymcdm.helpers import rankdata, rrankdata\n",
    "from pymcdm import weights as mcdm_weights"
   ]
  },
  {
   "cell_type": "code",
   "execution_count": 2,
   "metadata": {},
   "outputs": [
    {
     "name": "stdout",
     "output_type": "stream",
     "text": [
      "+----------------------+----------+-----------+--------+-------------+---------+-------------+-------------+-------------+--------------+--------------+\n",
      "|                      | ACCURACY | PRECISION | RECALL |     AUC     | F1SCORE |   FP_RATE   |   FN_RATE   | SPECIFICITY | HAMMING LOSS | ENTROPY LOSS |\n",
      "+----------------------+----------+-----------+--------+-------------+---------+-------------+-------------+-------------+--------------+--------------+\n",
      "| LOGISTIC REGRESSION  |   0.82   |    0.82   |  0.82  | 0.864458405 |   0.81  | 0.067961165 | 0.411764706 | 0.932038835 | 0.181818182  | 6.279813872  |\n",
      "|    DECISION TREE     |   0.7    |    0.71   |  0.7   | 0.672758424 |   0.7   | 0.242718447 | 0.411764706 | 0.757281553 | 0.298701299  | 10.31690717  |\n",
      "| GAUSSIAN NAIVE BAYES |   0.82   |    0.82   |  0.82  | 0.885018085 |   0.82  | 0.097087379 | 0.333333333 | 0.902912621 | 0.902912621  | 6.055551679  |\n",
      "|         SVM          |   0.48   |    0.46   |  0.48  | 0.726537217 |   0.47  | 0.359223301 | 0.843137255 | 0.640776699 | 0.519480519  | 17.94241361  |\n",
      "|    NEURAL NETWORK    |   0.7    |    0.68   |  0.7   |  0.69579288 |   0.65  | 0.067961165 | 0.764705882 | 0.932038835 | 0.298701299  | 10.31681371  |\n",
      "|    RANDOM FOREST     |   0.77   |    0.77   |  0.77  |  0.82295831 |   0.76  | 0.116504854 | 0.450980392 | 0.883495146 | 0.227272727  |  7.84977383  |\n",
      "|     LINEAR MODEL     |   0.33   |    0.44   |  0.33  | 0.495050447 |   0.18  | 0.990291262 | 0.019607843 | 0.009708738 | 0.668831169  | 23.10113979  |\n",
      "+----------------------+----------+-----------+--------+-------------+---------+-------------+-------------+-------------+--------------+--------------+\n"
     ]
    }
   ],
   "source": [
    "from prettytable import from_csv\n",
    "with open(\"pima_perform.tsv\") as fp:\n",
    "    mytable = from_csv(fp)\n",
    "print(mytable)"
   ]
  },
  {
   "cell_type": "code",
   "execution_count": 4,
   "metadata": {},
   "outputs": [],
   "source": [
    "x_matrix, alt_names = mcdm.load(\"pima_perform.tsv\", delimiter=\"\\t\", skiprows=1, labeled_rows=True)\n",
    "alts = np.array(x_matrix, dtype='float')\n",
    "weight = [0.10909090908971901,0.16363636363821488, 0.18181818182165294,0.12727272727352062,0.14545454545314052,0.0363636363625124,0.0727272727239339,0.0545454545446777,0.09090909091046283,0.018181818182165292]\n",
    "weights=np.array(weight)\n",
    "types = np.array([1,1,1,1,1,-1,-1,1,-1,-1])"
   ]
  },
  {
   "cell_type": "code",
   "execution_count": 5,
   "metadata": {},
   "outputs": [
    {
     "name": "stdout",
     "output_type": "stream",
     "text": [
      "1.0 0.9077876226958926\n",
      "4.0 0.7015952559405871\n",
      "3.0 0.7814123466750394\n",
      "6.0 0.35392805625811224\n",
      "5.0 0.6623382490628669\n",
      "2.0 0.8504131712837436\n",
      "7.0 0.18631707123302396\n"
     ]
    }
   ],
   "source": [
    "topsis = TOPSIS()\n",
    "# Determine preferences and ranking for alternatives\n",
    "pref1 = topsis(alts, weights, types)\n",
    "ranking1= rrankdata(pref1)\n",
    "\n",
    "for r, p in zip(ranking1, pref1):\n",
    "    print(r, p)\n"
   ]
  },
  {
   "cell_type": "code",
   "execution_count": 6,
   "metadata": {},
   "outputs": [
    {
     "name": "stdout",
     "output_type": "stream",
     "text": [
      "1.0 0.0\n",
      "4.0 0.2596436663470678\n",
      "3.0 0.23663310164846152\n",
      "6.0 0.7608767886870238\n",
      "5.0 0.2658241937561817\n",
      "2.0 0.06550388718853742\n",
      "7.0 1.0\n"
     ]
    }
   ],
   "source": [
    "vikor= VIKOR()\n",
    "pref2 = vikor(alts, weights, types)\n",
    "ranking2= rankdata(pref2)\n",
    "\n",
    "for r, p in zip(ranking2, pref2):\n",
    "    print(r, p)"
   ]
  },
  {
   "cell_type": "code",
   "execution_count": 7,
   "metadata": {},
   "outputs": [
    {
     "name": "stdout",
     "output_type": "stream",
     "text": [
      "1.0 0.7515151515176501\n",
      "4.0 -0.14242424242496138\n",
      "2.0 0.6575757575747051\n",
      "6.0 -0.5757575757554767\n",
      "5.0 -0.15151515151507428\n",
      "3.0 0.2848484848518016\n",
      "7.0 -0.8242424242486447\n"
     ]
    }
   ],
   "source": [
    "promethe=PROMETHEE_II('usual')\n",
    "p = np.random.rand(x_matrix.shape[1]) / 2\n",
    "q = np.random.rand(x_matrix.shape[1]) / 2 + 0.5\n",
    "pref3 = promethe(alts, weights, types,p=p,q=q)\n",
    "ranking3 = rrankdata(pref3)\n",
    "\n",
    "for r, p in zip(ranking3, pref3):\n",
    "    print(r, p)"
   ]
  },
  {
   "cell_type": "code",
   "execution_count": 8,
   "metadata": {},
   "outputs": [
    {
     "name": "stdout",
     "output_type": "stream",
     "text": [
      "#########################PIMA DATASET#######################\n",
      "+----------------------+--------+---------------------+-------+---------------------+-----------+----------------------+\n",
      "|        Model         | TOPSIS |        Value        | VIKOR |        VALUES       | PROMETHEE |        VALUES        |\n",
      "+----------------------+--------+---------------------+-------+---------------------+-----------+----------------------+\n",
      "| LOGISTIC REGRESSION  |  1.0   |  0.9077876226958926 |  1.0  |         0.0         |    1.0    |  0.7515151515176501  |\n",
      "|    DECISION TREE     |  4.0   |  0.7015952559405871 |  4.0  |  0.2596436663470678 |    4.0    | -0.14242424242496138 |\n",
      "| GAUSSIAN NAIVE BAYES |  3.0   |  0.7814123466750394 |  3.0  | 0.23663310164846152 |    2.0    |  0.6575757575747051  |\n",
      "|         SVM          |  6.0   | 0.35392805625811224 |  6.0  |  0.7608767886870238 |    6.0    | -0.5757575757554767  |\n",
      "|    NEURAL NETWORK    |  5.0   |  0.6623382490628669 |  5.0  |  0.2658241937561817 |    5.0    | -0.15151515151507428 |\n",
      "|    RANDOM FOREST     |  2.0   |  0.8504131712837436 |  2.0  | 0.06550388718853742 |    3.0    |  0.2848484848518016  |\n",
      "|     LINEAR MODEL     |  7.0   | 0.18631707123302396 |  7.0  |         1.0         |    7.0    | -0.8242424242486447  |\n",
      "+----------------------+--------+---------------------+-------+---------------------+-----------+----------------------+\n"
     ]
    }
   ],
   "source": [
    "from prettytable import PrettyTable\n",
    "print(\"#########################PIMA DATASET#######################\")\n",
    "columns = [\"Model\", \"TOPSIS\",\"Value\",\"VIKOR\",\"VALUES\",\"PROMETHEE\",\"VALUES\"]\n",
    "Table = PrettyTable()\n",
    "Table.add_column(columns[0], [\"LOGISTIC REGRESSION \", \"DECISION TREE\", \"GAUSSIAN NAIVE BAYES\",\n",
    "                       \"SVM \", \"NEURAL NETWORK\", \"RANDOM FOREST \", \"LINEAR MODEL\"])\n",
    "Table.add_column(columns[1], ranking1)\n",
    "Table.add_column(columns[2], pref1)\n",
    "Table.add_column(columns[3], ranking2)\n",
    "Table.add_column(columns[4], pref2)\n",
    "Table.add_column(columns[5], ranking3)\n",
    "Table.add_column(columns[6], pref3)\n",
    "\n",
    "print(Table)"
   ]
  },
  {
   "cell_type": "code",
   "execution_count": 9,
   "metadata": {},
   "outputs": [
    {
     "name": "stdout",
     "output_type": "stream",
     "text": [
      "#########################SAW#######################\n",
      "+----------------------+---------------------+\n",
      "|        Model         |        Value        |\n",
      "+----------------------+---------------------+\n",
      "| GAUSSIAN NAIVE BAYES |  0.6192598792454502 |\n",
      "| LOGISTIC REGRESSION  |  0.4996986814665063 |\n",
      "|         SVM          |  0.4930299018698683 |\n",
      "|    RANDOM FOREST     |  0.4912731629914253 |\n",
      "|    NEURAL NETWORK    |  0.4801334270923826 |\n",
      "|    DECISION TREE     |  0.4652484674671528 |\n",
      "|     LINEAR MODEL     | 0.40924453010391393 |\n",
      "+----------------------+---------------------+\n"
     ]
    }
   ],
   "source": [
    "ans=mcdm.rank(x_matrix, alt_names=alt_names, n_method=\"Linear2\", w_method=\"CRITIC\", s_method=\"SAW\") \n",
    "model=[]\n",
    "value=[]\n",
    "for x in ans:\n",
    "    model.append(x[0])\n",
    "    value.append(x[1])\n",
    "\n",
    "print(\"#########################SAW#######################\")\n",
    "columns = [\"Model\",\"Value\"]\n",
    "Table = PrettyTable()\n",
    "Table.add_column(columns[0], model)\n",
    "Table.add_column(columns[1], value)\n",
    "\n",
    "print(Table) "
   ]
  },
  {
   "cell_type": "code",
   "execution_count": 10,
   "metadata": {},
   "outputs": [
    {
     "name": "stdout",
     "output_type": "stream",
     "text": [
      "#########################MEW#######################\n",
      "+----------------------+---------------------+\n",
      "|        Model         |        Value        |\n",
      "+----------------------+---------------------+\n",
      "|         SVM          |  0.6090282551472753 |\n",
      "|    DECISION TREE     | 0.49196232497963094 |\n",
      "| GAUSSIAN NAIVE BAYES | 0.45354043913467235 |\n",
      "|    NEURAL NETWORK    |  0.4181162530182135 |\n",
      "|    RANDOM FOREST     | 0.41563914093890364 |\n",
      "| LOGISTIC REGRESSION  | 0.35433370025104743 |\n",
      "|     LINEAR MODEL     | 0.29742502577339297 |\n",
      "+----------------------+---------------------+\n"
     ]
    }
   ],
   "source": [
    "ans=mcdm.rank(x_matrix,alt_names=alt_names,n_method=\"Linear1\",w_method=\"CRITIC\",s_method=\"MEW\")\n",
    "model=[]\n",
    "value=[]\n",
    "for x in ans:\n",
    "    model.append(x[0])\n",
    "    value.append(x[1])\n",
    "\n",
    "print(\"#########################MEW#######################\")\n",
    "columns = [\"Model\",\"Value\"]\n",
    "Table = PrettyTable()\n",
    "Table.add_column(columns[0], model)\n",
    "Table.add_column(columns[1], value)\n",
    "\n",
    "print(Table)"
   ]
  },
  {
   "cell_type": "code",
   "execution_count": null,
   "metadata": {},
   "outputs": [],
   "source": []
  }
 ],
 "metadata": {
  "kernelspec": {
   "display_name": "Python 3",
   "language": "python",
   "name": "python3"
  },
  "language_info": {
   "codemirror_mode": {
    "name": "ipython",
    "version": 3
   },
   "file_extension": ".py",
   "mimetype": "text/x-python",
   "name": "python",
   "nbconvert_exporter": "python",
   "pygments_lexer": "ipython3",
   "version": "3.7.4"
  }
 },
 "nbformat": 4,
 "nbformat_minor": 2
}
