{
 "cells": [
  {
   "cell_type": "code",
   "execution_count": 1,
   "metadata": {},
   "outputs": [],
   "source": [
    "import mcdm\n",
    "import numpy as np\n",
    "from pymcdm.methods import TOPSIS\n",
    "from pymcdm.methods import VIKOR\n",
    "from pymcdm.methods import PROMETHEE_II\n",
    "from pymcdm.helpers import rankdata,rrankdata\n",
    "from pymcdm import weights as mcdm_weights"
   ]
  },
  {
   "cell_type": "code",
   "execution_count": 2,
   "metadata": {},
   "outputs": [
    {
     "name": "stdout",
     "output_type": "stream",
     "text": [
      "+----------------------+---------+-----------+--------+-------+----------+---------+---------+-------------+--------------+--------------+\n",
      "|                      | ACURACY | PRECISION | RECALL |  AUC  | F1-SCORE | FP_RATE | FN_RATE | SPECIFICITY | HAMMING LOSS | ENTROPY LOSS |\n",
      "+----------------------+---------+-----------+--------+-------+----------+---------+---------+-------------+--------------+--------------+\n",
      "| LOGISTIC REGRESSION  |   0.86  |    0.89   |  0.86  |  0.86 |   0.87   |   0.12  |   0.25  |     0.88    | 0.137931034  | 4.764051875  |\n",
      "|    DECISION TREE     |   0.79  |    0.87   |  0.79  | 0.775 |   0.82   |   0.2   |   0.25  |     0.8     | 0.206896552  | 7.146091599  |\n",
      "| GAUSSIAN NAIVE BAYES |   0.83  |    0.88   |  0.83  |  0.95 |   0.85   |   0.16  |   0.25  |     0.84    | 0.172413793  | 5.955071737  |\n",
      "|         SVM          |   0.86  |    0.74   |  0.86  |  0.63 |   0.8    |    0    |    1    |      1      | 0.137931034  | 4.763969158  |\n",
      "|    NEURAL NETWORK    |   0.76  |    0.73   |  0.76  |  0.44 |   0.74   |   0.12  |    1    |     0.88    |  0.24137931  | 4.763969158  |\n",
      "|    RANDOM FOREST     |   0.86  |    0.86   |  0.86  |  0.87 |   0.86   |   0.08  |   0.5   |     0.92    | 0.137931034  | 4.763969158  |\n",
      "|     LINEAR MODEL     |   0.72  |    0.81   |  0.72  |  0.63 |   0.76   |   0.24  |   0.5   |     0.76    | 0.275862068  | 4.763969158  |\n",
      "+----------------------+---------+-----------+--------+-------+----------+---------+---------+-------------+--------------+--------------+\n"
     ]
    }
   ],
   "source": [
    "from prettytable import from_csv\n",
    "with open(\"hep_perform.tsv\") as fp:\n",
    "    mytable = from_csv(fp)\n",
    "print(mytable)"
   ]
  },
  {
   "cell_type": "code",
   "execution_count": 3,
   "metadata": {},
   "outputs": [],
   "source": [
    "x_matrix, alt_names = mcdm.load(\"hep_perform.tsv\", delimiter=\"\\t\", skiprows=1, labeled_rows=True)\n",
    "alts = np.array(x_matrix, dtype='float')\n",
    "weight = [0.10909090908971901,0.16363636363821488, 0.18181818182165294,0.12727272727352062,0.14545454545314052,0.0363636363625124,0.0727272727239339,0.0545454545446777,0.09090909091046283,0.018181818182165292]\n",
    "weights=np.array(weight)\n",
    "types = np.array([1,1,1,1,1,-1,-1,1,-1,-1])"
   ]
  },
  {
   "cell_type": "code",
   "execution_count": 4,
   "metadata": {},
   "outputs": [
    {
     "name": "stdout",
     "output_type": "stream",
     "text": [
      "1.0 0.8966491473212682\n",
      "4.0 0.6104598933575721\n",
      "3.0 0.8091838405026297\n",
      "5.0 0.55579384354844\n",
      "7.0 0.19274455877659924\n",
      "2.0 0.8656421689581668\n",
      "6.0 0.27260232025049475\n"
     ]
    }
   ],
   "source": [
    "topsis = TOPSIS()\n",
    "# Determine preferences and ranking for alternatives\n",
    "pref1 = topsis(alts, weights, types)\n",
    "ranking1= rrankdata(pref1)\n",
    "\n",
    "for r, p in zip(ranking1, pref1):\n",
    "    print(r, p)\n"
   ]
  },
  {
   "cell_type": "code",
   "execution_count": 5,
   "metadata": {},
   "outputs": [
    {
     "name": "stdout",
     "output_type": "stream",
     "text": [
      "1.0 0.0\n",
      "4.0 0.42683834694010825\n",
      "3.0 0.11613361221562823\n",
      "5.0 0.6155354812338629\n",
      "6.0 0.9411764705844635\n",
      "2.0 0.04280562676310936\n",
      "7.0 0.9680061636317323\n"
     ]
    }
   ],
   "source": [
    "vikor= VIKOR()\n",
    "pref2 = vikor(alts, weights, types)\n",
    "ranking2= rankdata(pref2)\n",
    "\n",
    "for r, p in zip(ranking2, pref2):\n",
    "    print(r, p)"
   ]
  },
  {
   "cell_type": "code",
   "execution_count": 6,
   "metadata": {},
   "outputs": [
    {
     "name": "stdout",
     "output_type": "stream",
     "text": [
      "1.0 0.6636363636368514\n",
      "5.0 -0.10303030303220939\n",
      "3.0 0.2909090909088263\n",
      "4.0 0.07272727272960067\n",
      "7.0 -0.7272727272737631\n",
      "2.0 0.4939393939408844\n",
      "6.0 -0.6909090909101901\n"
     ]
    }
   ],
   "source": [
    "promethe=PROMETHEE_II('usual')\n",
    "p = np.random.rand(x_matrix.shape[1]) / 2\n",
    "q = np.random.rand(x_matrix.shape[1]) / 2 + 0.5\n",
    "pref3 = promethe(alts, weights, types,p=p,q=q)\n",
    "ranking3 = rrankdata(pref3)\n",
    "\n",
    "for r, p in zip(ranking3, pref3):\n",
    "    print(r, p)"
   ]
  },
  {
   "cell_type": "code",
   "execution_count": 7,
   "metadata": {},
   "outputs": [
    {
     "name": "stdout",
     "output_type": "stream",
     "text": [
      "#########################BREAST DATASET#######################\n",
      "+----------------------+--------+---------------------+-------+---------------------+-----------+----------------------+\n",
      "|        Model         | TOPSIS |        Value        | VIKOR |        VALUES       | PROMETHEE |        VALUES        |\n",
      "+----------------------+--------+---------------------+-------+---------------------+-----------+----------------------+\n",
      "| LOGISTIC REGRESSION  |  1.0   |  0.8966491473212682 |  1.0  |         0.0         |    1.0    |  0.6636363636368514  |\n",
      "|    DECISION TREE     |  4.0   |  0.6104598933575721 |  4.0  | 0.42683834694010825 |    5.0    | -0.10303030303220939 |\n",
      "| GAUSSIAN NAIVE BAYES |  3.0   |  0.8091838405026297 |  3.0  | 0.11613361221562823 |    3.0    |  0.2909090909088263  |\n",
      "|         SVM          |  5.0   |   0.55579384354844  |  5.0  |  0.6155354812338629 |    4.0    | 0.07272727272960067  |\n",
      "|    NEURAL NETWORK    |  7.0   | 0.19274455877659924 |  6.0  |  0.9411764705844635 |    7.0    | -0.7272727272737631  |\n",
      "|    RANDOM FOREST     |  2.0   |  0.8656421689581668 |  2.0  | 0.04280562676310936 |    2.0    |  0.4939393939408844  |\n",
      "|     LINEAR MODEL     |  6.0   | 0.27260232025049475 |  7.0  |  0.9680061636317323 |    6.0    | -0.6909090909101901  |\n",
      "+----------------------+--------+---------------------+-------+---------------------+-----------+----------------------+\n"
     ]
    }
   ],
   "source": [
    "from prettytable import PrettyTable\n",
    "print(\"#########################BREAST DATASET#######################\")\n",
    "columns = [\"Model\", \"TOPSIS\",\"Value\",\"VIKOR\",\"VALUES\",\"PROMETHEE\",\"VALUES\"]\n",
    "Table = PrettyTable()\n",
    "Table.add_column(columns[0], [\"LOGISTIC REGRESSION \", \"DECISION TREE\", \"GAUSSIAN NAIVE BAYES\",\n",
    "                       \"SVM \", \"NEURAL NETWORK\", \"RANDOM FOREST \", \"LINEAR MODEL\"])\n",
    "Table.add_column(columns[1], ranking1)\n",
    "Table.add_column(columns[2], pref1)\n",
    "Table.add_column(columns[3], ranking2)\n",
    "Table.add_column(columns[4], pref2)\n",
    "Table.add_column(columns[5], ranking3)\n",
    "Table.add_column(columns[6], pref3)\n",
    "\n",
    "print(Table)"
   ]
  },
  {
   "cell_type": "code",
   "execution_count": 8,
   "metadata": {},
   "outputs": [
    {
     "name": "stdout",
     "output_type": "stream",
     "text": [
      "#########################SAW#######################\n",
      "+----------------------+---------------------+\n",
      "|        Model         |        Value        |\n",
      "+----------------------+---------------------+\n",
      "| GAUSSIAN NAIVE BAYES |  0.5384599293915939 |\n",
      "|    DECISION TREE     |  0.5284268830112031 |\n",
      "|    RANDOM FOREST     |  0.5220807934385336 |\n",
      "| LOGISTIC REGRESSION  |  0.4933882135371754 |\n",
      "|         SVM          | 0.48576417500965996 |\n",
      "|    NEURAL NETWORK    |  0.409455187326098  |\n",
      "|     LINEAR MODEL     | 0.38140219202207637 |\n",
      "+----------------------+---------------------+\n"
     ]
    }
   ],
   "source": [
    "ans=mcdm.rank(x_matrix, alt_names=alt_names, n_method=\"Linear2\", w_method=\"CRITIC\", s_method=\"SAW\") \n",
    "model=[]\n",
    "value=[]\n",
    "for x in ans:\n",
    "    model.append(x[0])\n",
    "    value.append(x[1])\n",
    "\n",
    "print(\"#########################SAW#######################\")\n",
    "columns = [\"Model\",\"Value\"]\n",
    "Table = PrettyTable()\n",
    "Table.add_column(columns[0], model)\n",
    "Table.add_column(columns[1], value)\n",
    "\n",
    "print(Table) "
   ]
  },
  {
   "cell_type": "code",
   "execution_count": 9,
   "metadata": {},
   "outputs": [
    {
     "name": "stdout",
     "output_type": "stream",
     "text": [
      "#########################MEW#######################\n",
      "+----------------------+--------------------+\n",
      "|        Model         |       Value        |\n",
      "+----------------------+--------------------+\n",
      "|     LINEAR MODEL     | 0.7535506035367209 |\n",
      "|    NEURAL NETWORK    | 0.7380219005335481 |\n",
      "|    DECISION TREE     | 0.6085836425217998 |\n",
      "| GAUSSIAN NAIVE BAYES | 0.5672304762981266 |\n",
      "|    RANDOM FOREST     | 0.5512113181895988 |\n",
      "| LOGISTIC REGRESSION  | 0.5017680607257868 |\n",
      "|         SVM          |        0.0         |\n",
      "+----------------------+--------------------+\n"
     ]
    }
   ],
   "source": [
    "ans=mcdm.rank(x_matrix,alt_names=alt_names,n_method=\"Linear1\",w_method=\"CRITIC\",s_method=\"MEW\")\n",
    "model=[]\n",
    "value=[]\n",
    "for x in ans:\n",
    "    model.append(x[0])\n",
    "    value.append(x[1])\n",
    "\n",
    "print(\"#########################MEW#######################\")\n",
    "columns = [\"Model\",\"Value\"]\n",
    "Table = PrettyTable()\n",
    "Table.add_column(columns[0], model)\n",
    "Table.add_column(columns[1], value)\n",
    "\n",
    "print(Table)"
   ]
  },
  {
   "cell_type": "code",
   "execution_count": null,
   "metadata": {},
   "outputs": [],
   "source": []
  }
 ],
 "metadata": {
  "kernelspec": {
   "display_name": "Python 3",
   "language": "python",
   "name": "python3"
  },
  "language_info": {
   "codemirror_mode": {
    "name": "ipython",
    "version": 3
   },
   "file_extension": ".py",
   "mimetype": "text/x-python",
   "name": "python",
   "nbconvert_exporter": "python",
   "pygments_lexer": "ipython3",
   "version": "3.7.4"
  }
 },
 "nbformat": 4,
 "nbformat_minor": 2
}
