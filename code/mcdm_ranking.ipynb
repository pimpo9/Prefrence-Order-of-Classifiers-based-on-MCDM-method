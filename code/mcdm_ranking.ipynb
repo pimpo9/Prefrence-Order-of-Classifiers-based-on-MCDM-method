{
 "cells": [
  {
   "cell_type": "code",
   "execution_count": 26,
   "metadata": {},
   "outputs": [],
   "source": [
    "import mcdm"
   ]
  },
  {
   "cell_type": "code",
   "execution_count": 1,
   "metadata": {},
   "outputs": [
    {
     "name": "stdout",
     "output_type": "stream",
     "text": [
      "Collecting prettytable\n",
      "  Downloading https://files.pythonhosted.org/packages/26/1b/42b59a4038bc0442e3a0085bc0de385658131eef8a88946333f870559b09/prettytable-2.1.0-py3-none-any.whl\n",
      "Requirement already satisfied, skipping upgrade: importlib-metadata; python_version < \"3.8\" in c:\\users\\hp\\anaconda3\\lib\\site-packages (from prettytable) (0.23)\n",
      "Requirement already satisfied, skipping upgrade: wcwidth in c:\\users\\hp\\anaconda3\\lib\\site-packages (from prettytable) (0.1.7)\n",
      "Requirement already satisfied, skipping upgrade: zipp>=0.5 in c:\\users\\hp\\anaconda3\\lib\\site-packages (from importlib-metadata; python_version < \"3.8\"->prettytable) (0.6.0)\n",
      "Requirement already satisfied, skipping upgrade: more-itertools in c:\\users\\hp\\anaconda3\\lib\\site-packages (from zipp>=0.5->importlib-metadata; python_version < \"3.8\"->prettytable) (7.2.0)\n",
      "Installing collected packages: prettytable\n",
      "Successfully installed prettytable-2.1.0\n"
     ]
    }
   ],
   "source": [
    "!python -m pip install -U prettytable"
   ]
  },
  {
   "cell_type": "code",
   "execution_count": 45,
   "metadata": {},
   "outputs": [
    {
     "name": "stdout",
     "output_type": "stream",
     "text": [
      "+----------------------+---------+-----------+--------+----------+----+----+-------------+--------------+--------------+\n",
      "|                      | ACURACY | PRECISION | RECALL | F1-SCORE | TP | TN | SPECIFICITY | HAMMING LOSS | ENTROPY LOSS |\n",
      "+----------------------+---------+-----------+--------+----------+----+----+-------------+--------------+--------------+\n",
      "| LOGISTIC REGRESSION  |   0.86  |    0.89   |  0.86  |   0.87   | 3  | 22 |     0.88    | 0.137931034  | 4.764051875  |\n",
      "|    DECISION TREE     |   0.79  |    0.87   |  0.79  |   0.82   | 3  | 20 |     0.8     | 0.206896552  | 7.146091599  |\n",
      "| GAUSSIAN NAIVE BAYES |   0.83  |    0.88   |  0.83  |   0.85   | 3  | 21 |     0.84    | 0.172413793  | 5.955071737  |\n",
      "|         SVM          |   0.86  |    0.74   |  0.86  |   0.8    | 0  | 25 |      1      | 0.137931034  | 4.763969158  |\n",
      "|    NEURAL NETWORK    |   0.76  |    0.73   |  0.76  |   0.74   | 0  | 22 |     0.88    |  0.24137931  | 4.763969158  |\n",
      "|    RANDOM FOREST     |   0.86  |    0.89   |  0.86  |   0.87   | 3  | 22 |     0.88    | 0.137931034  | 4.763969158  |\n",
      "|     LINEAR MODEL     |   0.83  |    0.74   |  0.83  |   0.78   | 0  | 24 |     0.96    | 0.172413793  | 4.763969158  |\n",
      "+----------------------+---------+-----------+--------+----------+----+----+-------------+--------------+--------------+\n"
     ]
    }
   ],
   "source": [
    "from prettytable import from_csv\n",
    "with open(\"hepit_perform.tsv\") as fp:\n",
    "    mytable = from_csv(fp)\n",
    "print(mytable)"
   ]
  },
  {
   "cell_type": "code",
   "execution_count": 46,
   "metadata": {},
   "outputs": [],
   "source": [
    "x_matrix, alt_names = mcdm.load(\"hepit_perform.tsv\", delimiter=\"\\t\", skiprows=1, labeled_rows=True)"
   ]
  },
  {
   "cell_type": "code",
   "execution_count": 47,
   "metadata": {},
   "outputs": [],
   "source": [
    "import numpy as np\n",
    "from pymcdm.methods import TOPSIS\n",
    "from pymcdm.methods import VIKOR\n",
    "\n",
    "from pymcdm.methods import PROMETHEE_II\n",
    "from pymcdm.helpers import rrankdata\n",
    "from pymcdm import weights as mcdm_weights"
   ]
  },
  {
   "cell_type": "code",
   "execution_count": 48,
   "metadata": {},
   "outputs": [],
   "source": [
    "alts = np.array(x_matrix, dtype='float')\n",
    "weights = mcdm_weights.equal(alts)\n",
    "types = np.array([1,1,1,1,1,1,1,-1,-1])"
   ]
  },
  {
   "cell_type": "code",
   "execution_count": 78,
   "metadata": {},
   "outputs": [
    {
     "name": "stdout",
     "output_type": "stream",
     "text": [
      "#########################TOPIS#######################\n",
      "+----------------------+---------+---------------------+\n",
      "|        Model         | Ranking |        Value        |\n",
      "+----------------------+---------+---------------------+\n",
      "| LOGISTIC REGRESSION  |   2.0   |  0.8062078091169697 |\n",
      "|    DECISION TREE     |   4.0   |  0.7183258267304897 |\n",
      "| GAUSSIAN NAIVE BAYES |   1.0   |  0.8957203774787057 |\n",
      "|         SVM          |   7.0   |  0.2612038749637414 |\n",
      "|    NEURAL NETWORK    |   6.0   | 0.42252335258099244 |\n",
      "|    RANDOM FOREST     |   3.0   |  0.7710529376984648 |\n",
      "|     LINEAR MODEL     |   5.0   |  0.4251560158415164 |\n",
      "+----------------------+---------+---------------------+\n"
     ]
    }
   ],
   "source": [
    "topsis = TOPSIS()\n",
    "# Determine preferences and ranking for alternatives\n",
    "pref1 = topsis(alts, weights, types)\n",
    "ranking1= rrankdata(pref1)\n",
    "#print(pref)\n",
    "#for r, p in zip(ranking, pref):\n",
    " #   print(r, p)\n",
    "from prettytable import PrettyTable\n",
    "print(\"#########################TOPIS#######################\")\n",
    "columns = [\"Model\", \"Ranking\",\"Value\"]\n",
    "Table = PrettyTable()\n",
    "Table.add_column(columns[0], [\"LOGISTIC REGRESSION \", \"DECISION TREE\", \"GAUSSIAN NAIVE BAYES\",\n",
    "                       \"SVM \", \"NEURAL NETWORK\", \"RANDOM FOREST \", \"LINEAR MODEL\"])\n",
    "Table.add_column(columns[1], ranking1)\n",
    "Table.add_column(columns[2], pref1)\n",
    "print(Table)\n",
    "  "
   ]
  },
  {
   "cell_type": "code",
   "execution_count": 79,
   "metadata": {},
   "outputs": [
    {
     "name": "stdout",
     "output_type": "stream",
     "text": [
      "#########################VIKOR#######################\n",
      "+----------------------+---------+---------------------+\n",
      "|        Model         | Ranking |        Value        |\n",
      "+----------------------+---------+---------------------+\n",
      "| LOGISTIC REGRESSION  |   6.0   | 0.14614344713508387 |\n",
      "|    DECISION TREE     |   4.0   |  0.2110730748653067 |\n",
      "| GAUSSIAN NAIVE BAYES |   7.0   |         0.0         |\n",
      "|         SVM          |   1.0   |         1.0         |\n",
      "|    NEURAL NETWORK    |   2.0   |  0.835947699887096  |\n",
      "|    RANDOM FOREST     |   5.0   | 0.15887933436730622 |\n",
      "|     LINEAR MODEL     |   3.0   |  0.6697560263751998 |\n",
      "+----------------------+---------+---------------------+\n"
     ]
    }
   ],
   "source": [
    "vikor= VIKOR()\n",
    "pref2 = vikor(alts, weights, types)\n",
    "ranking2= rrankdata(pref2)\n",
    "\n",
    "#for r, p in zip(ranking, pref):\n",
    " #   print(r, p)\n",
    "from prettytable import PrettyTable\n",
    "print(\"#########################VIKOR#######################\")\n",
    "columns = [\"Model\", \"Ranking\",\"Value\"]\n",
    "Table = PrettyTable()\n",
    "Table.add_column(columns[0], [\"LOGISTIC REGRESSION \", \"DECISION TREE\", \"GAUSSIAN NAIVE BAYES\",\n",
    "                       \"SVM \", \"NEURAL NETWORK\", \"RANDOM FOREST \", \"LINEAR MODEL\"])\n",
    "Table.add_column(columns[1], ranking2)\n",
    "Table.add_column(columns[2], pref2)\n",
    "print(Table)"
   ]
  },
  {
   "cell_type": "code",
   "execution_count": 80,
   "metadata": {},
   "outputs": [
    {
     "name": "stdout",
     "output_type": "stream",
     "text": [
      "#########################PROMETHEE#######################\n",
      "+----------------------+---------+----------------------+\n",
      "|        Model         | Ranking |        Value         |\n",
      "+----------------------+---------+----------------------+\n",
      "| LOGISTIC REGRESSION  |   2.0   |  0.4814814814814815  |\n",
      "|    DECISION TREE     |   4.0   | -0.11111111111111105 |\n",
      "| GAUSSIAN NAIVE BAYES |   1.0   |  0.8888888888888891  |\n",
      "|         SVM          |   7.0   | -0.8148148148148151  |\n",
      "|    NEURAL NETWORK    |   5.0   | -0.24074074074074087 |\n",
      "|    RANDOM FOREST     |   3.0   |  0.2592592592592593  |\n",
      "|     LINEAR MODEL     |   6.0   |  -0.462962962962963  |\n",
      "+----------------------+---------+----------------------+\n"
     ]
    }
   ],
   "source": [
    "promethe=PROMETHEE_II('usual')\n",
    "p = np.random.rand(x_matrix.shape[1]) / 2\n",
    "q = np.random.rand(x_matrix.shape[1]) / 2 + 0.5\n",
    "pref3 = promethe(alts, weights, types,p=p,q=q)\n",
    "ranking3 = rrankdata(pref3)\n",
    "\n",
    "#for r, p in zip(ranking3, pref3):\n",
    " #   print(r, p)\n",
    "from prettytable import PrettyTable\n",
    "print(\"#########################PROMETHEE#######################\")\n",
    "columns = [\"Model\", \"Ranking\",\"Value\"]\n",
    "Table = PrettyTable()\n",
    "Table.add_column(columns[0], [\"LOGISTIC REGRESSION \", \"DECISION TREE\", \"GAUSSIAN NAIVE BAYES\",\n",
    "                       \"SVM \", \"NEURAL NETWORK\", \"RANDOM FOREST \", \"LINEAR MODEL\"])\n",
    "Table.add_column(columns[1], ranking3)\n",
    "Table.add_column(columns[2], pref3)\n",
    "print(Table)"
   ]
  },
  {
   "cell_type": "code",
   "execution_count": 81,
   "metadata": {
    "scrolled": false
   },
   "outputs": [
    {
     "name": "stdout",
     "output_type": "stream",
     "text": [
      "#########################SAW#######################\n",
      "+----------------------+---------------------+\n",
      "|        Model         |        Value        |\n",
      "+----------------------+---------------------+\n",
      "| LOGISTIC REGRESSION  |  0.586570574187253  |\n",
      "|    RANDOM FOREST     |  0.5865663404528947 |\n",
      "| GAUSSIAN NAIVE BAYES |  0.5862286361732376 |\n",
      "|    DECISION TREE     |  0.5625363571697235 |\n",
      "|         SVM          | 0.43434173557286815 |\n",
      "|     LINEAR MODEL     | 0.38033245495239393 |\n",
      "|    NEURAL NETWORK    | 0.24785330978341036 |\n",
      "+----------------------+---------------------+\n"
     ]
    }
   ],
   "source": [
    "ans=mcdm.rank(x_matrix, alt_names=alt_names, n_method=\"Linear2\", w_method=\"CRITIC\", s_method=\"SAW\") \n",
    "model=[]\n",
    "value=[]\n",
    "for x in ans:\n",
    "    model.append(x[0])\n",
    "    value.append(x[1])\n",
    "\n",
    "print(\"#########################SAW#######################\")\n",
    "columns = [\"Model\",\"Value\"]\n",
    "Table = PrettyTable()\n",
    "Table.add_column(columns[0], model)\n",
    "Table.add_column(columns[1], value)\n",
    "\n",
    "print(Table)      "
   ]
  },
  {
   "cell_type": "code",
   "execution_count": 82,
   "metadata": {},
   "outputs": [
    {
     "name": "stdout",
     "output_type": "stream",
     "text": [
      "#########################MEW#######################\n",
      "+----------------------+--------------------+\n",
      "|        Model         |       Value        |\n",
      "+----------------------+--------------------+\n",
      "|    DECISION TREE     | 0.9333076670688094 |\n",
      "| GAUSSIAN NAIVE BAYES | 0.8895350107483165 |\n",
      "| LOGISTIC REGRESSION  | 0.8353155937901618 |\n",
      "|    RANDOM FOREST     | 0.8353138423791584 |\n",
      "|         SVM          |        0.0         |\n",
      "|    NEURAL NETWORK    |        0.0         |\n",
      "|     LINEAR MODEL     |        0.0         |\n",
      "+----------------------+--------------------+\n"
     ]
    }
   ],
   "source": [
    "ans=mcdm.rank(x_matrix,alt_names=alt_names,n_method=\"Linear1\",w_method=\"CRITIC\",s_method=\"MEW\")\n",
    "model=[]\n",
    "value=[]\n",
    "for x in ans:\n",
    "    model.append(x[0])\n",
    "    value.append(x[1])\n",
    "\n",
    "print(\"#########################MEW#######################\")\n",
    "columns = [\"Model\",\"Value\"]\n",
    "Table = PrettyTable()\n",
    "Table.add_column(columns[0], model)\n",
    "Table.add_column(columns[1], value)\n",
    "\n",
    "print(Table)    \n",
    "    \n",
    "    "
   ]
  },
  {
   "cell_type": "code",
   "execution_count": 84,
   "metadata": {},
   "outputs": [
    {
     "name": "stdout",
     "output_type": "stream",
     "text": [
      "#########################HEPTATIS DATASET#######################\n",
      "+----------------------+--------+---------------------+-------+---------------------+-----------+----------------------+\n",
      "|        Model         | TOPSIS |        Value        | VIKOR |        VALUES       | PROMETHEE |        VALUES        |\n",
      "+----------------------+--------+---------------------+-------+---------------------+-----------+----------------------+\n",
      "| LOGISTIC REGRESSION  |  2.0   |  0.8062078091169697 |  6.0  | 0.14614344713508387 |    2.0    |  0.4814814814814815  |\n",
      "|    DECISION TREE     |  4.0   |  0.7183258267304897 |  4.0  |  0.2110730748653067 |    4.0    | -0.11111111111111105 |\n",
      "| GAUSSIAN NAIVE BAYES |  1.0   |  0.8957203774787057 |  7.0  |         0.0         |    1.0    |  0.8888888888888891  |\n",
      "|         SVM          |  7.0   |  0.2612038749637414 |  1.0  |         1.0         |    7.0    | -0.8148148148148151  |\n",
      "|    NEURAL NETWORK    |  6.0   | 0.42252335258099244 |  2.0  |  0.835947699887096  |    5.0    | -0.24074074074074087 |\n",
      "|    RANDOM FOREST     |  3.0   |  0.7710529376984648 |  5.0  | 0.15887933436730622 |    3.0    |  0.2592592592592593  |\n",
      "|     LINEAR MODEL     |  5.0   |  0.4251560158415164 |  3.0  |  0.6697560263751998 |    6.0    |  -0.462962962962963  |\n",
      "+----------------------+--------+---------------------+-------+---------------------+-----------+----------------------+\n"
     ]
    }
   ],
   "source": [
    "from prettytable import PrettyTable\n",
    "print(\"#########################HEPTATIS DATASET#######################\")\n",
    "columns = [\"Model\", \"TOPSIS\",\"Value\",\"VIKOR\",\"VALUES\",\"PROMETHEE\",\"VALUES\"]\n",
    "Table = PrettyTable()\n",
    "Table.add_column(columns[0], [\"LOGISTIC REGRESSION \", \"DECISION TREE\", \"GAUSSIAN NAIVE BAYES\",\n",
    "                       \"SVM \", \"NEURAL NETWORK\", \"RANDOM FOREST \", \"LINEAR MODEL\"])\n",
    "Table.add_column(columns[1], ranking1)\n",
    "Table.add_column(columns[2], pref1)\n",
    "Table.add_column(columns[3], ranking2)\n",
    "Table.add_column(columns[4], pref2)\n",
    "Table.add_column(columns[5], ranking3)\n",
    "Table.add_column(columns[6], pref3)\n",
    "\n",
    "print(Table)"
   ]
  },
  {
   "cell_type": "code",
   "execution_count": 85,
   "metadata": {},
   "outputs": [
    {
     "name": "stdout",
     "output_type": "stream",
     "text": [
      "+----------------------+----------+-----------+--------+----------+----+----+-------------+--------------+--------------+\n",
      "|                      | ACCURACY | PRECISION | RECALL | F1-SCORE | TP | TN | SPECIFICITY | HAMMING LOSS | ENTROPY LOSS |\n",
      "+----------------------+----------+-----------+--------+----------+----+----+-------------+--------------+--------------+\n",
      "| LOGISTIC REGRESSION  |   0.8    |    0.86   |  0.8   |   0.8    | 27 | 22 | 0.647058824 | 0.196721311  | 6.794670687  |\n",
      "|    DECISION TREE     |   0.74   |    0.76   |  0.74  |   0.74   | 23 | 22 | 0.647058824 | 0.262295082  | 9.059508483  |\n",
      "| GAUSSIAN NAIVE BAYES |   0.87   |    0.9    |  0.87  |   0.87   | 27 | 26 | 0.764705882 | 0.131147541  | 4.529780458  |\n",
      "|         SVM          |   0.44   |    0.2    |  0.44  |   0.27   | 27 | 0  |      0      | 0.557377049  | 19.25156695  |\n",
      "|    NEURAL NETWORK    |   0.56   |    0.31   |  0.56  |   0.4    | 0  | 34 |      1      | 0.442622951  | 15.28765513  |\n",
      "|    RANDOM FOREST     |   0.77   |    0.8    |  0.77  |   0.77   | 24 | 23 | 0.676470588 | 0.229508197  | 7.927076477  |\n",
      "|     LINEAR MODEL     |   0.56   |    0.72   |  0.56  |   0.5    | 26 | 8  | 0.235294118 | 0.442622951  | 15.28799594  |\n",
      "+----------------------+----------+-----------+--------+----------+----+----+-------------+--------------+--------------+\n"
     ]
    }
   ],
   "source": [
    "from prettytable import from_csv\n",
    "with open(\"heart_perform.tsv\") as fp:\n",
    "    mytable = from_csv(fp)\n",
    "print(mytable)"
   ]
  },
  {
   "cell_type": "code",
   "execution_count": 91,
   "metadata": {},
   "outputs": [],
   "source": [
    "heart_matrix, alt_names = mcdm.load(\"heart_perform.tsv\", delimiter=\"\\t\", skiprows=1, labeled_rows=True)\n",
    "alts_heart = np.array(heart_matrix, dtype='float')\n"
   ]
  },
  {
   "cell_type": "code",
   "execution_count": 95,
   "metadata": {},
   "outputs": [
    {
     "name": "stdout",
     "output_type": "stream",
     "text": [
      "2.0 0.8062078091169697\n",
      "4.0 0.7183258267304897\n",
      "1.0 0.8957203774787057\n",
      "7.0 0.2612038749637414\n",
      "6.0 0.42252335258099244\n",
      "3.0 0.7710529376984648\n",
      "5.0 0.4251560158415164\n",
      "#########################TOPIS#######################\n",
      "+----------------------+---------+---------------------+\n",
      "|        Model         | Ranking |        Value        |\n",
      "+----------------------+---------+---------------------+\n",
      "| LOGISTIC REGRESSION  |   2.0   |  0.8062078091169697 |\n",
      "|    DECISION TREE     |   4.0   |  0.7183258267304897 |\n",
      "| GAUSSIAN NAIVE BAYES |   1.0   |  0.8957203774787057 |\n",
      "|         SVM          |   7.0   |  0.2612038749637414 |\n",
      "|    NEURAL NETWORK    |   6.0   | 0.42252335258099244 |\n",
      "|    RANDOM FOREST     |   3.0   |  0.7710529376984648 |\n",
      "|     LINEAR MODEL     |   5.0   |  0.4251560158415164 |\n",
      "+----------------------+---------+---------------------+\n"
     ]
    }
   ],
   "source": [
    "topsis = TOPSIS()\n",
    "# Determine preferences and ranking for alternatives\n",
    "pref12 = topsis(alts_heart, weights, types)\n",
    "ranking12= rrankdata(pref12)\n",
    "for r, p in zip(ranking12, pref12):\n",
    "    print(r, p)\n",
    "    \n",
    "from prettytable import PrettyTable\n",
    "print(\"#########################TOPIS#######################\")\n",
    "columns = [\"Model\", \"Ranking\",\"Value\"]\n",
    "Table = PrettyTable()\n",
    "Table.add_column(columns[0], [\"LOGISTIC REGRESSION \", \"DECISION TREE\", \"GAUSSIAN NAIVE BAYES\",\n",
    "                       \"SVM \", \"NEURAL NETWORK\", \"RANDOM FOREST \", \"LINEAR MODEL\"])\n",
    "Table.add_column(columns[1], ranking12)\n",
    "Table.add_column(columns[2], pref12)\n",
    "print(Table)\n",
    "  "
   ]
  },
  {
   "cell_type": "code",
   "execution_count": 93,
   "metadata": {},
   "outputs": [
    {
     "name": "stdout",
     "output_type": "stream",
     "text": [
      "#########################VIKOR#######################\n",
      "+----------------------+---------+---------------------+\n",
      "|        Model         | Ranking |        Value        |\n",
      "+----------------------+---------+---------------------+\n",
      "| LOGISTIC REGRESSION  |   6.0   | 0.14614344713508387 |\n",
      "|    DECISION TREE     |   4.0   |  0.2110730748653067 |\n",
      "| GAUSSIAN NAIVE BAYES |   7.0   |         0.0         |\n",
      "|         SVM          |   1.0   |         1.0         |\n",
      "|    NEURAL NETWORK    |   2.0   |  0.835947699887096  |\n",
      "|    RANDOM FOREST     |   5.0   | 0.15887933436730622 |\n",
      "|     LINEAR MODEL     |   3.0   |  0.6697560263751998 |\n",
      "+----------------------+---------+---------------------+\n"
     ]
    }
   ],
   "source": [
    "vikor= VIKOR()\n",
    "pref22 = vikor(alts_heart, weights, types)\n",
    "ranking22= rrankdata(pref22)\n",
    "\n",
    "from prettytable import PrettyTable\n",
    "print(\"#########################VIKOR#######################\")\n",
    "columns = [\"Model\", \"Ranking\",\"Value\"]\n",
    "Table = PrettyTable()\n",
    "Table.add_column(columns[0], [\"LOGISTIC REGRESSION \", \"DECISION TREE\", \"GAUSSIAN NAIVE BAYES\",\n",
    "                       \"SVM \", \"NEURAL NETWORK\", \"RANDOM FOREST \", \"LINEAR MODEL\"])\n",
    "Table.add_column(columns[1], ranking22)\n",
    "Table.add_column(columns[2], pref22)\n",
    "print(Table)"
   ]
  },
  {
   "cell_type": "code",
   "execution_count": 94,
   "metadata": {},
   "outputs": [
    {
     "name": "stdout",
     "output_type": "stream",
     "text": [
      "#########################PROMETHEE#######################\n",
      "+----------------------+---------+----------------------+\n",
      "|        Model         | Ranking |        Value         |\n",
      "+----------------------+---------+----------------------+\n",
      "| LOGISTIC REGRESSION  |   2.0   |  0.4814814814814815  |\n",
      "|    DECISION TREE     |   4.0   | -0.11111111111111105 |\n",
      "| GAUSSIAN NAIVE BAYES |   1.0   |  0.8888888888888891  |\n",
      "|         SVM          |   7.0   | -0.8148148148148151  |\n",
      "|    NEURAL NETWORK    |   5.0   | -0.24074074074074087 |\n",
      "|    RANDOM FOREST     |   3.0   |  0.2592592592592593  |\n",
      "|     LINEAR MODEL     |   6.0   |  -0.462962962962963  |\n",
      "+----------------------+---------+----------------------+\n"
     ]
    }
   ],
   "source": [
    "promethe=PROMETHEE_II('usual')\n",
    "p = np.random.rand(heart_matrix.shape[1]) / 2\n",
    "q = np.random.rand(heart_matrix.shape[1]) / 2 + 0.5\n",
    "pref32 = promethe(alts_heart, weights, types,p=p,q=q)\n",
    "ranking32 = rrankdata(pref32)\n",
    "\n",
    "from prettytable import PrettyTable\n",
    "print(\"#########################PROMETHEE#######################\")\n",
    "columns = [\"Model\", \"Ranking\",\"Value\"]\n",
    "Table = PrettyTable()\n",
    "Table.add_column(columns[0], [\"LOGISTIC REGRESSION \", \"DECISION TREE\", \"GAUSSIAN NAIVE BAYES\",\n",
    "                       \"SVM \", \"NEURAL NETWORK\", \"RANDOM FOREST \", \"LINEAR MODEL\"])\n",
    "Table.add_column(columns[1], ranking32)\n",
    "Table.add_column(columns[2], pref32)\n",
    "print(Table)"
   ]
  },
  {
   "cell_type": "code",
   "execution_count": 90,
   "metadata": {},
   "outputs": [
    {
     "name": "stdout",
     "output_type": "stream",
     "text": [
      "#########################HEART DATASET#######################\n",
      "+----------------------+--------+---------------------+--------+---------------------+-----------+----------------------+\n",
      "|        Model         | TOPSIS |        Value        | VIKOR  |        VALUES       | PROMETHEE |        VALUES        |\n",
      "+----------------------+--------+---------------------+--------+---------------------+-----------+----------------------+\n",
      "| LOGISTIC REGRESSION  |  2.0   |  0.8062078091169697 |  6.0   | 0.14614344713508387 |    2.0    |  0.4814814814814815  |\n",
      "|    DECISION TREE     |  4.0   |  0.7183258267304897 |  4.0   |  0.2110730748653067 |    4.0    | -0.11111111111111105 |\n",
      "| GAUSSIAN NAIVE BAYES |  1.0   |  0.8957203774787057 |  7.0   |         0.0         |    1.0    |  0.8888888888888891  |\n",
      "|         SVM          |  7.0   |  0.2612038749637414 |  1.0   |         1.0         |    7.0    | -0.8148148148148151  |\n",
      "|    NEURAL NETWORK    |  6.0   | 0.42252335258099244 |  2.0   |  0.835947699887096  |    5.0    | -0.24074074074074087 |\n",
      "|    RANDOM FOREST     |  3.0   |  0.7710529376984648 |  5.0   | 0.15887933436730622 |    3.0    |  0.2592592592592593  |\n",
      "|     LINEAR MODEL     |  5.0   |  0.4251560158415164 |  3.0   |  0.6697560263751998 |    6.0    |  -0.462962962962963  |\n",
      "+----------------------+--------+---------------------+--------+---------------------+-----------+----------------------+\n"
     ]
    }
   ],
   "source": [
    "from prettytable import PrettyTable\n",
    "print(\"#########################HEART DATASET#######################\")\n",
    "columns = [\"Model\", \"TOPSIS\",\"Value\",\"VIKOR \",\"VALUES\",\"PROMETHEE\",\"VALUES\"]\n",
    "Table = PrettyTable()\n",
    "Table.add_column(columns[0], [\"LOGISTIC REGRESSION \", \"DECISION TREE\", \"GAUSSIAN NAIVE BAYES\",\n",
    "                       \"SVM \", \"NEURAL NETWORK\", \"RANDOM FOREST \", \"LINEAR MODEL\"])\n",
    "Table.add_column(columns[1], ranking1)\n",
    "Table.add_column(columns[2], pref1)\n",
    "Table.add_column(columns[3], ranking2)\n",
    "Table.add_column(columns[4], pref2)\n",
    "Table.add_column(columns[5], ranking3)\n",
    "Table.add_column(columns[6], pref3)\n",
    "\n",
    "print(Table)"
   ]
  },
  {
   "cell_type": "code",
   "execution_count": 67,
   "metadata": {},
   "outputs": [
    {
     "name": "stdout",
     "output_type": "stream",
     "text": [
      "+----------------------+---------+-----------+--------+----------+----+----+-------------+--------------+--------------+\n",
      "|                      | ACURACY | PRECISION | RECALL | F1-SCORE | TP | TN | SPECIFICITY | HAMMING LOSS | ENTROPY LOSS |\n",
      "+----------------------+---------+-----------+--------+----------+----+----+-------------+--------------+--------------+\n",
      "| LOGISTIC REGRESSION  |   0.95  |    0.95   |  0.95  |   0.95   | 71 | 37 |    0.925    | 0.052631579  | 4.763969158  |\n",
      "|    DECISION TREE     |   0.95  |    0.95   |  0.95  |   0.95   | 70 | 38 |     0.95    | 0.052631579  | 4.763969158  |\n",
      "| GAUSSIAN NAIVE BAYES |   0.94  |    0.94   |  0.94  |   0.94   | 72 | 35 |    0.875    | 0.061403509  | 4.763969158  |\n",
      "|         SVM          |   0.44  |    0.42   |  0.44  |   0.43   | 44 | 6  |     0.15    | 0.561403509  | 4.763969158  |\n",
      "|    NEURAL NETWORK    |   0.35  |    0.12   |  0.35  |   0.18   | 0  | 40 |      1      | 0.649122807  | 4.763969158  |\n",
      "|    RANDOM FOREST     |   0.98  |    0.98   |  0.98  |   0.98   | 72 | 40 |      1      |  0.01754386  | 4.763969158  |\n",
      "|     LINEAR MODEL     |   0.88  |    0.89   |  0.88  |   0.87   | 73 | 27 |    0.675    | 0.122807018  | 4.241695301  |\n",
      "+----------------------+---------+-----------+--------+----------+----+----+-------------+--------------+--------------+\n"
     ]
    }
   ],
   "source": [
    "from prettytable import from_csv\n",
    "with open(\"breast_perform.tsv\") as fp:\n",
    "    mytable = from_csv(fp)\n",
    "print(mytable)"
   ]
  },
  {
   "cell_type": "code",
   "execution_count": 70,
   "metadata": {},
   "outputs": [],
   "source": [
    "breast_matrix, alt_names = mcdm.load(\"breast_perform.tsv\", delimiter=\"\\t\", skiprows=1, labeled_rows=True)\n",
    "alts_breast = np.array(breast_matrix, dtype='float')\n"
   ]
  },
  {
   "cell_type": "code",
   "execution_count": 71,
   "metadata": {},
   "outputs": [
    {
     "name": "stdout",
     "output_type": "stream",
     "text": [
      "#########################TOPIS#######################\n",
      "+----------------------+---------+---------------------+\n",
      "|        Model         | Ranking |        Value        |\n",
      "+----------------------+---------+---------------------+\n",
      "| LOGISTIC REGRESSION  |   2.0   |  0.7255210885414309 |\n",
      "|    DECISION TREE     |   6.0   |  0.7274071634346303 |\n",
      "| GAUSSIAN NAIVE BAYES |   5.0   |  0.7177270729179086 |\n",
      "|         SVM          |   3.0   | 0.24259156684635083 |\n",
      "|    NEURAL NETWORK    |   7.0   | 0.34833147735478825 |\n",
      "|    RANDOM FOREST     |   1.0   |  0.7384491365109666 |\n",
      "|     LINEAR MODEL     |   4.0   |  0.8001474514761382 |\n",
      "+----------------------+---------+---------------------+\n"
     ]
    }
   ],
   "source": [
    "topsis = TOPSIS()\n",
    "# Determine preferences and ranking for alternatives\n",
    "pref1 = topsis(alts_breast, weights, types)\n",
    "ranking1= rrankdata(pref)\n",
    "\n",
    "from prettytable import PrettyTable\n",
    "print(\"#########################TOPIS#######################\")\n",
    "columns = [\"Model\", \"Ranking\",\"Value\"]\n",
    "Table = PrettyTable()\n",
    "Table.add_column(columns[0], [\"LOGISTIC REGRESSION \", \"DECISION TREE\", \"GAUSSIAN NAIVE BAYES\",\n",
    "                       \"SVM \", \"NEURAL NETWORK\", \"RANDOM FOREST \", \"LINEAR MODEL\"])\n",
    "Table.add_column(columns[1], ranking1)\n",
    "Table.add_column(columns[2], pref1)\n",
    "print(Table)"
   ]
  },
  {
   "cell_type": "code",
   "execution_count": 72,
   "metadata": {},
   "outputs": [
    {
     "name": "stdout",
     "output_type": "stream",
     "text": [
      "#########################VIKOR#######################\n",
      "+----------------------+---------+----------------------+\n",
      "|        Model         | Ranking |        Value         |\n",
      "+----------------------+---------+----------------------+\n",
      "| LOGISTIC REGRESSION  |   2.0   |  0.5328176761173415  |\n",
      "|    DECISION TREE     |   6.0   |  0.5292349821595699  |\n",
      "| GAUSSIAN NAIVE BAYES |   5.0   |  0.5466094912651394  |\n",
      "|         SVM          |   3.0   |         1.0          |\n",
      "|    NEURAL NETWORK    |   7.0   |  0.9752827395051057  |\n",
      "|    RANDOM FOREST     |   1.0   |         0.5          |\n",
      "|     LINEAR MODEL     |   4.0   | 0.037894101572209266 |\n",
      "+----------------------+---------+----------------------+\n"
     ]
    }
   ],
   "source": [
    "vikor= VIKOR()\n",
    "pref2 = vikor(alts_breast, weights, types)\n",
    "ranking2= rrankdata(pref)\n",
    "\n",
    "from prettytable import PrettyTable\n",
    "print(\"#########################VIKOR#######################\")\n",
    "columns = [\"Model\", \"Ranking\",\"Value\"]\n",
    "Table = PrettyTable()\n",
    "Table.add_column(columns[0], [\"LOGISTIC REGRESSION \", \"DECISION TREE\", \"GAUSSIAN NAIVE BAYES\",\n",
    "                       \"SVM \", \"NEURAL NETWORK\", \"RANDOM FOREST \", \"LINEAR MODEL\"])\n",
    "Table.add_column(columns[1], ranking2)\n",
    "Table.add_column(columns[2], pref2)\n",
    "print(Table)"
   ]
  },
  {
   "cell_type": "code",
   "execution_count": 73,
   "metadata": {},
   "outputs": [
    {
     "name": "stdout",
     "output_type": "stream",
     "text": [
      "#########################PROMETHEE#######################\n",
      "+----------------------+---------+----------------------+\n",
      "|        Model         | Ranking |        Value         |\n",
      "+----------------------+---------+----------------------+\n",
      "| LOGISTIC REGRESSION  |   2.0   | 0.25925925925925924  |\n",
      "|    DECISION TREE     |   6.0   |  0.2962962962962964  |\n",
      "| GAUSSIAN NAIVE BAYES |   5.0   | -0.03703703703703709 |\n",
      "|         SVM          |   3.0   | -0.6851851851851852  |\n",
      "|    NEURAL NETWORK    |   7.0   |         -0.5         |\n",
      "|    RANDOM FOREST     |   1.0   |  0.7777777777777779  |\n",
      "|     LINEAR MODEL     |   4.0   | -0.11111111111111122 |\n",
      "+----------------------+---------+----------------------+\n"
     ]
    }
   ],
   "source": [
    "promethe=PROMETHEE_II('usual')\n",
    "p = np.random.rand(breast_matrix.shape[1]) / 2\n",
    "q = np.random.rand(breast_matrix.shape[1]) / 2 + 0.5\n",
    "pref3 = promethe(alts_breast, weights, types,p=p,q=q)\n",
    "ranking3 = rrankdata(pref)\n",
    "\n",
    "from prettytable import PrettyTable\n",
    "print(\"#########################PROMETHEE#######################\")\n",
    "columns = [\"Model\", \"Ranking\",\"Value\"]\n",
    "Table = PrettyTable()\n",
    "Table.add_column(columns[0], [\"LOGISTIC REGRESSION \", \"DECISION TREE\", \"GAUSSIAN NAIVE BAYES\",\n",
    "                       \"SVM \", \"NEURAL NETWORK\", \"RANDOM FOREST \", \"LINEAR MODEL\"])\n",
    "Table.add_column(columns[1], ranking3)\n",
    "Table.add_column(columns[2], pref3)\n",
    "print(Table)"
   ]
  },
  {
   "cell_type": "code",
   "execution_count": 74,
   "metadata": {},
   "outputs": [
    {
     "name": "stdout",
     "output_type": "stream",
     "text": [
      "#########################BREAST DATASET#######################\n",
      "+----------------------+--------+---------------------+--------+----------------------+-----------+----------------------+\n",
      "|        Model         | TOPSIS |        Value        | VIKOR  |        VALUES        | PROMETHEE |        VALUES        |\n",
      "+----------------------+--------+---------------------+--------+----------------------+-----------+----------------------+\n",
      "| LOGISTIC REGRESSION  |  2.0   |  0.7255210885414309 |  2.0   |  0.5328176761173415  |    2.0    | 0.25925925925925924  |\n",
      "|    DECISION TREE     |  6.0   |  0.7274071634346303 |  6.0   |  0.5292349821595699  |    6.0    |  0.2962962962962964  |\n",
      "| GAUSSIAN NAIVE BAYES |  5.0   |  0.7177270729179086 |  5.0   |  0.5466094912651394  |    5.0    | -0.03703703703703709 |\n",
      "|         SVM          |  3.0   | 0.24259156684635083 |  3.0   |         1.0          |    3.0    | -0.6851851851851852  |\n",
      "|    NEURAL NETWORK    |  7.0   | 0.34833147735478825 |  7.0   |  0.9752827395051057  |    7.0    |         -0.5         |\n",
      "|    RANDOM FOREST     |  1.0   |  0.7384491365109666 |  1.0   |         0.5          |    1.0    |  0.7777777777777779  |\n",
      "|     LINEAR MODEL     |  4.0   |  0.8001474514761382 |  4.0   | 0.037894101572209266 |    4.0    | -0.11111111111111122 |\n",
      "+----------------------+--------+---------------------+--------+----------------------+-----------+----------------------+\n"
     ]
    }
   ],
   "source": [
    "from prettytable import PrettyTable\n",
    "print(\"#########################BREAST DATASET#######################\")\n",
    "columns = [\"Model\", \"TOPSIS\",\"Value\",\"VIKOR \",\"VALUES\",\"PROMETHEE\",\"VALUES\"]\n",
    "Table = PrettyTable()\n",
    "Table.add_column(columns[0], [\"LOGISTIC REGRESSION \", \"DECISION TREE\", \"GAUSSIAN NAIVE BAYES\",\n",
    "                       \"SVM \", \"NEURAL NETWORK\", \"RANDOM FOREST \", \"LINEAR MODEL\"])\n",
    "Table.add_column(columns[1], ranking1)\n",
    "Table.add_column(columns[2], pref1)\n",
    "Table.add_column(columns[3], ranking2)\n",
    "Table.add_column(columns[4], pref2)\n",
    "Table.add_column(columns[5], ranking3)\n",
    "Table.add_column(columns[6], pref3)\n",
    "\n",
    "print(Table)"
   ]
  },
  {
   "cell_type": "code",
   "execution_count": 75,
   "metadata": {},
   "outputs": [
    {
     "name": "stdout",
     "output_type": "stream",
     "text": [
      "+----------------------+----------+-----------+--------+---------+----+----+-------------+--------------+--------------+\n",
      "|                      | ACCURACY | PRECISION | RECALL | F1SCORE | TP | TN | SPECIFICITY | HAMMING LOSS | ENTROPY LOSS |\n",
      "+----------------------+----------+-----------+--------+---------+----+----+-------------+--------------+--------------+\n",
      "| LOGISTIC REGRESSION  |   0.7    |    0.65   |  0.7   |   0.67  | 77 | 5  | 0.172413793 | 0.299145299  | 10.33227662  |\n",
      "|    DECISION TREE     |   0.61   |    0.62   |  0.61  |   0.61  | 64 | 7  |  0.24137931 | 0.393162393  | 13.57949834  |\n",
      "| GAUSSIAN NAIVE BAYES |   0.5    |    0.83   |  0.5   |   0.5   | 29 | 29 |      1      | 0.504273504  | 17.41698981  |\n",
      "|         SVM          |   0.62   |    0.59   |  0.62  |   0.6   | 68 | 4  | 0.137931034 | 0.384615385  | 13.28431562  |\n",
      "|    NEURAL NETWORK    |   0.75   |    0.57   |  0.75  |   0.65  | 88 | 0  |      0      | 0.247863248  | 8.561091485  |\n",
      "|    RANDOM FOREST     |   0.68   |    0.72   |  0.68  |   0.7   | 64 | 16 | 0.551724138 | 0.316239316  | 10.92260788  |\n",
      "|     LINEAR MODEL     |   0.64   |    0.78   |  0.64  |   0.66  | 51 | 24 | 0.827586207 | 0.358974359  | 12.39856929  |\n",
      "+----------------------+----------+-----------+--------+---------+----+----+-------------+--------------+--------------+\n"
     ]
    }
   ],
   "source": [
    "from prettytable import from_csv\n",
    "with open(\"liver_perform.tsv\") as fp:\n",
    "    mytable = from_csv(fp)\n",
    "print(mytable)"
   ]
  },
  {
   "cell_type": "code",
   "execution_count": 76,
   "metadata": {},
   "outputs": [],
   "source": [
    "liver_matrix, alt_names = mcdm.load(\"liver_perform.tsv\", delimiter=\"\\t\", skiprows=1, labeled_rows=True)\n",
    "alts_liver = np.array(liver_matrix, dtype='float')"
   ]
  },
  {
   "cell_type": "code",
   "execution_count": 77,
   "metadata": {},
   "outputs": [
    {
     "name": "stdout",
     "output_type": "stream",
     "text": [
      "#########################TOPIS#######################\n",
      "+----------------------+---------+---------------------+\n",
      "|        Model         | Ranking |        Value        |\n",
      "+----------------------+---------+---------------------+\n",
      "| LOGISTIC REGRESSION  |   2.0   |  0.5847781869115325 |\n",
      "|    DECISION TREE     |   6.0   |  0.4032124275895705 |\n",
      "| GAUSSIAN NAIVE BAYES |   5.0   | 0.41421356237309503 |\n",
      "|         SVM          |   3.0   |  0.3951391104601853 |\n",
      "|    NEURAL NETWORK    |   7.0   |  0.5740533018900944 |\n",
      "|    RANDOM FOREST     |   1.0   |  0.6724487272975684 |\n",
      "|     LINEAR MODEL     |   4.0   |  0.639599372824674  |\n",
      "+----------------------+---------+---------------------+\n"
     ]
    }
   ],
   "source": [
    "topsis = TOPSIS()\n",
    "# Determine preferences and ranking for alternatives\n",
    "pref1 = topsis(alts_liver, weights, types)\n",
    "ranking1= rrankdata(pref)\n",
    "\n",
    "from prettytable import PrettyTable\n",
    "print(\"#########################TOPIS#######################\")\n",
    "columns = [\"Model\", \"Ranking\",\"Value\"]\n",
    "Table = PrettyTable()\n",
    "Table.add_column(columns[0], [\"LOGISTIC REGRESSION \", \"DECISION TREE\", \"GAUSSIAN NAIVE BAYES\",\n",
    "                       \"SVM \", \"NEURAL NETWORK\", \"RANDOM FOREST \", \"LINEAR MODEL\"])\n",
    "Table.add_column(columns[1], ranking1)\n",
    "Table.add_column(columns[2], pref1)\n",
    "print(Table)"
   ]
  },
  {
   "cell_type": "code",
   "execution_count": null,
   "metadata": {},
   "outputs": [],
   "source": []
  },
  {
   "cell_type": "code",
   "execution_count": null,
   "metadata": {},
   "outputs": [],
   "source": []
  },
  {
   "cell_type": "code",
   "execution_count": null,
   "metadata": {},
   "outputs": [],
   "source": []
  },
  {
   "cell_type": "code",
   "execution_count": 4,
   "metadata": {},
   "outputs": [
    {
     "name": "stdout",
     "output_type": "stream",
     "text": [
      "+----------------------+----------+-----------+--------+---------+----+----+-------------+--------------+--------------+\n",
      "|                      | ACCURACY | PRECISION | RECALL | F1SCORE | TP | TN | SPECIFICITY | HAMMING LOSS | ENTROPY LOSS |\n",
      "+----------------------+----------+-----------+--------+---------+----+----+-------------+--------------+--------------+\n",
      "| LOGISTIC REGRESSION  |   0.82   |    0.82   |  0.82  |   0.81  | 30 | 96 | 0.932038835 | 0.181818182  | 6.279813872  |\n",
      "|    DECISION TREE     |   0.7    |    0.71   |  0.7   |   0.7   | 30 | 78 | 0.757281553 | 0.298701299  | 10.31690717  |\n",
      "| GAUSSIAN NAIVE BAYES |   0.82   |    0.82   |  0.82  |   0.82  | 34 | 93 | 0.902912621 | 0.902912621  | 6.055551679  |\n",
      "|         SVM          |   0.48   |    0.46   |  0.48  |   0.47  | 8  | 66 | 0.640776699 | 0.519480519  | 17.94241361  |\n",
      "|    NEURAL NETWORK    |   0.7    |    0.68   |  0.7   |   0.65  | 12 | 96 | 0.932038835 | 0.298701299  | 10.31681371  |\n",
      "|    RANDOM FOREST     |   0.77   |    0.77   |  0.77  |   0.76  | 26 | 93 | 0.902912621 | 0.227272727  |  7.84977383  |\n",
      "|     LINEAR MODEL     |   0.67   |    0.62   |  0.67  |   0.58  | 4  | 99 | 0.961165049 | 0.331168831  | 11.43818698  |\n",
      "+----------------------+----------+-----------+--------+---------+----+----+-------------+--------------+--------------+\n"
     ]
    }
   ],
   "source": [
    "from prettytable import from_csv\n",
    "with open(\"pima_perform.tsv\") as fp:\n",
    "    mytable = from_csv(fp)\n",
    "print(mytable)"
   ]
  },
  {
   "cell_type": "code",
   "execution_count": null,
   "metadata": {},
   "outputs": [],
   "source": []
  }
 ],
 "metadata": {
  "kernelspec": {
   "display_name": "Python 3",
   "language": "python",
   "name": "python3"
  },
  "language_info": {
   "codemirror_mode": {
    "name": "ipython",
    "version": 3
   },
   "file_extension": ".py",
   "mimetype": "text/x-python",
   "name": "python",
   "nbconvert_exporter": "python",
   "pygments_lexer": "ipython3",
   "version": "3.7.4"
  }
 },
 "nbformat": 4,
 "nbformat_minor": 2
}
