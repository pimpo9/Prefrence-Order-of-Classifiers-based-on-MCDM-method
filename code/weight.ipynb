{
 "cells": [
  {
   "cell_type": "code",
   "execution_count": 1,
   "metadata": {},
   "outputs": [],
   "source": [
    "import pandas as pd\n",
    "import numpy as np"
   ]
  },
  {
   "cell_type": "code",
   "execution_count": 2,
   "metadata": {},
   "outputs": [
    {
     "name": "stdout",
     "output_type": "stream",
     "text": [
      "   ACCURACY  HAMMING LOSS  PRECISION  TRUE POSITIVE  TRUE NEGATIVE  \\\n",
      "0  1.000000           1.2   0.666667            0.6       2.000000   \n",
      "1  0.833333           1.0   0.555556            0.5       1.666667   \n",
      "2  1.500000           1.8   1.000000            0.9       3.000000   \n",
      "3  1.666667           2.0   1.111111            1.0       3.333333   \n",
      "4  0.500000           0.6   0.333333            0.3       1.000000   \n",
      "5  0.333333           0.4   0.222222            0.2       0.666667   \n",
      "6  0.666667           0.8   0.444444            0.4       1.333333   \n",
      "7  1.333333           1.6   0.888889            0.8       2.666667   \n",
      "8  1.166667           1.4   0.777778            0.7       2.333333   \n",
      "9  0.166667           0.2   0.111111            0.1       0.333333   \n",
      "\n",
      "   FALSE POSITIVE  FALSE NEGATIVE  F1-SCORE       AUC  LOG LOSS  \n",
      "0             3.0            1.50     0.750  0.857143       6.0  \n",
      "1             2.5            1.25     0.625  0.714286       5.0  \n",
      "2             4.5            2.25     1.125  1.285714       9.0  \n",
      "3             5.0            2.50     1.250  1.428571      10.0  \n",
      "4             1.5            0.75     0.375  0.428571       3.0  \n",
      "5             1.0            0.50     0.250  0.285714       2.0  \n",
      "6             2.0            1.00     0.500  0.571429       4.0  \n",
      "7             4.0            2.00     1.000  1.142857       8.0  \n",
      "8             3.5            1.75     0.875  1.000000       7.0  \n",
      "9             0.5            0.25     0.125  0.142857       1.0  \n"
     ]
    }
   ],
   "source": [
    "data = pd.read_csv ('weighted_cri.csv')   \n",
    "df = pd.DataFrame(data, columns= [\"ACCURACY\",\"HAMMING LOSS\",\"PRECISION\",\"TRUE POSITIVE\",\"TRUE NEGATIVE\",\"FALSE POSITIVE\",\"FALSE NEGATIVE\",\"F1-SCORE\",\"AUC\",\"LOG LOSS\"])\n",
    "df=df.head(10)\n",
    "print(df)"
   ]
  },
  {
   "cell_type": "code",
   "execution_count": 3,
   "metadata": {},
   "outputs": [
    {
     "name": "stderr",
     "output_type": "stream",
     "text": [
      "C:\\Users\\Hp\\Anaconda3\\lib\\site-packages\\ipykernel_launcher.py:3: DeprecationWarning: `np.float` is a deprecated alias for the builtin `float`. To silence this warning, use `float` by itself. Doing this will not modify any behavior and is safe. If you specifically wanted the numpy scalar type, use `np.float64` here.\n",
      "Deprecated in NumPy 1.20; for more details and guidance: https://numpy.org/devdocs/release/1.20.0-notes.html#deprecations\n",
      "  This is separate from the ipykernel package so we can avoid doing imports until\n"
     ]
    }
   ],
   "source": [
    "#converting to float values\n",
    "data=df.to_numpy()\n",
    "data = data.astype(np.float)"
   ]
  },
  {
   "cell_type": "code",
   "execution_count": 4,
   "metadata": {},
   "outputs": [
    {
     "name": "stdout",
     "output_type": "stream",
     "text": [
      "[[1.0, 0.8333333333, 1.5, 1.666666667, 0.5, 0.3333333333, 0.6666666667, 1.333333333, 1.166666667, 0.1666666667], [1.2, 1.0, 1.8, 2.0, 0.6, 0.4, 0.8, 1.6, 1.4, 0.2], [0.6666666667, 0.5555555556, 1.0, 1.111111111, 0.3333333333, 0.2222222222, 0.4444444444, 0.8888888889, 0.7777777778, 0.1111111111], [0.6, 0.5, 0.9, 1.0, 0.3, 0.2, 0.4, 0.8, 0.7, 0.1], [2.0, 1.666666667, 3.0, 3.333333333, 1.0, 0.6666666667, 1.333333333, 2.666666667, 2.333333333, 0.3333333333], [3.0, 2.5, 4.5, 5.0, 1.5, 1.0, 2.0, 4.0, 3.5, 0.5], [1.5, 1.25, 2.25, 2.5, 0.75, 0.5, 1.0, 2.0, 1.75, 0.25], [0.75, 0.625, 1.125, 1.25, 0.375, 0.25, 0.5, 1.0, 0.875, 0.125], [0.8571428571, 0.7142857143, 1.285714286, 1.428571429, 0.4285714286, 0.2857142857, 0.5714285714, 1.142857143, 1.0, 0.1428571429], [6.0, 5.0, 9.0, 10.0, 3.0, 2.0, 4.0, 8.0, 7.0, 1.0]]\n"
     ]
    }
   ],
   "source": [
    "#for column wise operation\n",
    "tdata=np.transpose(data)\n",
    "data=tdata.tolist()\n",
    "print(data)"
   ]
  },
  {
   "cell_type": "code",
   "execution_count": 5,
   "metadata": {},
   "outputs": [
    {
     "data": {
      "text/plain": [
       "[9.166666667,\n",
       " 11.0,\n",
       " 6.1111111110000005,\n",
       " 5.5,\n",
       " 18.333333333,\n",
       " 27.5,\n",
       " 13.75,\n",
       " 6.875,\n",
       " 7.8571428580000005,\n",
       " 55.0]"
      ]
     },
     "execution_count": 5,
     "metadata": {},
     "output_type": "execute_result"
    }
   ],
   "source": [
    "#calculating column sum\n",
    "column_sum=[]\n",
    "for x in data:\n",
    "    column_sum.append(sum(x))\n",
    "column_sum"
   ]
  },
  {
   "cell_type": "code",
   "execution_count": 6,
   "metadata": {},
   "outputs": [
    {
     "name": "stdout",
     "output_type": "stream",
     "text": [
      "[[0.10909090908694216, 0.10909090909090909, 0.1090909090983471, 0.10909090909090909, 0.10909090909289257, 0.10909090909090909, 0.10909090909090909, 0.10909090909090909, 0.10909090907355372, 0.10909090909090909], [0.09090909090214877, 0.09090909090909091, 0.09090909091801652, 0.09090909090909091, 0.09090909092892563, 0.09090909090909091, 0.09090909090909091, 0.09090909090909091, 0.09090909090099172, 0.09090909090909091], [0.16363636363041323, 0.16363636363636364, 0.16363636363933884, 0.16363636363636364, 0.16363636363933887, 0.16363636363636364, 0.16363636363636364, 0.16363636363636364, 0.16363636365487602, 0.16363636363636364], [0.1818181818479339, 0.18181818181818182, 0.18181818180330578, 0.18181818181818182, 0.1818181818033058, 0.18181818181818182, 0.18181818181818182, 0.18181818181818182, 0.18181818185289256, 0.18181818181818182], [0.05454545454347108, 0.05454545454545454, 0.05454545454099173, 0.05454545454545454, 0.054545454546446284, 0.05454545454545454, 0.05454545454545454, 0.05454545454545454, 0.0545454545431405, 0.05454545454545454], [0.03636363635867768, 0.03636363636363637, 0.03636363636066116, 0.03636363636363637, 0.036363636366115705, 0.03636363636363636, 0.03636363636363636, 0.03636363636363636, 0.03636363635785124, 0.03636363636363636], [0.07272727272826446, 0.07272727272727274, 0.07272727272132232, 0.07272727272727274, 0.07272727271041322, 0.07272727272727272, 0.07272727272727272, 0.07272727272727272, 0.07272727271570248, 0.07272727272727272], [0.14545454541289257, 0.14545454545454548, 0.14545454545900824, 0.14545454545454548, 0.1454545454753719, 0.14545454545454545, 0.14545454545454545, 0.14545454545454545, 0.1454545454568595, 0.14545454545454545], [0.12727272730446282, 0.12727272727272726, 0.12727272727867767, 0.12727272727272726, 0.1272727272568595, 0.12727272727272726, 0.12727272727272726, 0.12727272727272726, 0.12727272725884298, 0.12727272727272726], [0.018181818184793388, 0.018181818181818184, 0.01818181818033058, 0.018181818181818184, 0.01818181818033058, 0.01818181818181818, 0.01818181818181818, 0.01818181818181818, 0.018181818185289255, 0.01818181818181818]]\n"
     ]
    }
   ],
   "source": [
    "#normalizing each element of the matrix\n",
    "i=-1\n",
    "norm=[]\n",
    "for every_col in data:\n",
    "    i=i+1;\n",
    "    col=[]\n",
    "    for element in every_col:\n",
    "        element=element/column_sum[i]\n",
    "        col.append(element)\n",
    "    norm.append(col)\n",
    "    \n",
    "#again transopsing for row wise operation \n",
    "normt=np.array(norm).T.tolist()\n",
    "print(normt)\n",
    "        "
   ]
  },
  {
   "cell_type": "code",
   "execution_count": 7,
   "metadata": {},
   "outputs": [
    {
     "data": {
      "text/plain": [
       "[0.10909090908971901,\n",
       " 0.09090909091046283,\n",
       " 0.16363636363821488,\n",
       " 0.18181818182165294,\n",
       " 0.0545454545446777,\n",
       " 0.0363636363625124,\n",
       " 0.0727272727239339,\n",
       " 0.14545454545314052,\n",
       " 0.12727272727352062,\n",
       " 0.018181818182165292]"
      ]
     },
     "execution_count": 7,
     "metadata": {},
     "output_type": "execute_result"
    }
   ],
   "source": [
    "weight=[]\n",
    "n=10\n",
    "for x in normt:\n",
    "    weight.append(sum(x)/n)\n",
    "weight"
   ]
  },
  {
   "cell_type": "code",
   "execution_count": 8,
   "metadata": {},
   "outputs": [
    {
     "data": {
      "text/plain": [
       "1.0000000000000002"
      ]
     },
     "execution_count": 8,
     "metadata": {},
     "output_type": "execute_result"
    }
   ],
   "source": [
    "sum(weight)"
   ]
  },
  {
   "cell_type": "code",
   "execution_count": null,
   "metadata": {},
   "outputs": [],
   "source": []
  }
 ],
 "metadata": {
  "kernelspec": {
   "display_name": "Python 3",
   "language": "python",
   "name": "python3"
  },
  "language_info": {
   "codemirror_mode": {
    "name": "ipython",
    "version": 3
   },
   "file_extension": ".py",
   "mimetype": "text/x-python",
   "name": "python",
   "nbconvert_exporter": "python",
   "pygments_lexer": "ipython3",
   "version": "3.7.4"
  }
 },
 "nbformat": 4,
 "nbformat_minor": 2
}
